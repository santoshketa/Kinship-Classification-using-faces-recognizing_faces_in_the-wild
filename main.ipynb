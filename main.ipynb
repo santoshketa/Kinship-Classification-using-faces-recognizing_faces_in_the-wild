{
 "cells": [
  {
   "cell_type": "markdown",
   "metadata": {
    "colab_type": "text",
    "id": "BWTqxNqW1agW"
   },
   "source": [
    "# **DL** case study on '***Northeastern SMILE Lab - Recognizing Faces in the Wild***'"
   ]
  },
  {
   "cell_type": "markdown",
   "metadata": {
    "colab_type": "text",
    "id": "dJ6NBJGm1ZN6"
   },
   "source": [
    "#### **Description**\n",
    "\n",
    "1.This data is provided by Families In the Wild (FIW), the largest and most comprehensive image database for automatic kinship recognition.\n",
    "\n",
    "2.FIW's dataset is obtained from publicly available images from celebrities. "
   ]
  },
  {
   "cell_type": "markdown",
   "metadata": {
    "colab_type": "text",
    "id": "Yzvk_DdW1Kjz"
   },
   "source": [
    "#### **Problem statement:** \n",
    "\n",
    "1.Given image pairs more specifically human faces the task is to determine whether two images has blood relation or not or putting simply does both images comes from same family or not.\n",
    "\n",
    "2.Relations may be of Father-Daughter,Father -Son,Mother-Daughter/Son ,Grandfather-Grandson and sometimes silbings relationships etc.\n",
    "\n",
    "Note :There is no blood relationship between Husband and Wife even though they belongs to same family.\n",
    "\n",
    "3.If related label is 1 else 0."
   ]
  },
  {
   "cell_type": "markdown",
   "metadata": {
    "colab_type": "text",
    "id": "xJqu-v7g1Kta"
   },
   "source": [
    "#### **Evalution mertric**\n",
    "\n",
    "The chosen metric is AUC-ROC between the predicted and observed labels."
   ]
  },
  {
   "cell_type": "markdown",
   "metadata": {
    "colab_type": "text",
    "id": "xb9VpxYm1Kx-"
   },
   "source": [
    "#### **Dataset ,input and outputs**\n",
    "\n",
    "1.train-faces.zip - the training set is divided in Families (F0123), then individuals (MIDx). Images in the same MIDx folder belong to the same person. Images in the same F0123 folder belong to the same family.\n",
    "\n",
    "2.train.csv - training labels. Remember, not every individual in a family shares a kinship relationship. For example, a mother and father are kin to their children, but not to each other.\n",
    "\n",
    "3.test-faces.zip - the test set contains face images of unknown individuals\n",
    "sample_submission.csv - a sample submission file in the correct format. The column img_pair describes the pair of images, i.e., abcdef-ghijkl means the pair of images abcdef.jpg and ghijkl.jpg."
   ]
  },
  {
   "cell_type": "code",
   "execution_count": 2,
   "metadata": {
    "colab": {
     "base_uri": "https://localhost:8080/",
     "height": 224
    },
    "colab_type": "code",
    "executionInfo": {
     "elapsed": 14858,
     "status": "ok",
     "timestamp": 1578818042812,
     "user": {
      "displayName": "santhosh ketha",
      "photoUrl": "https://lh3.googleusercontent.com/a-/AAuE7mCHZoev1Su01c3YSBYi638WPWZaktYecdyTuh8ZMQ=s64",
      "userId": "06963422152123978380"
     },
     "user_tz": -330
    },
    "id": "9Paal8139c2t",
    "outputId": "e01b1167-eb70-4af5-da2c-69aa893e71c4"
   },
   "outputs": [
    {
     "name": "stdout",
     "output_type": "stream",
     "text": [
      "--2020-01-12 08:33:51--  https://storage.googleapis.com/kaggle-competitions-data/kaggle-v2/9992/443277/bundle/archive.zip?GoogleAccessId=web-data@kaggle-161607.iam.gserviceaccount.com&Expires=1578896465&Signature=r%2BIAw4%2BCczjD3%2F22Zr9YsAqcvuLwFfDc%2BeedTvicAvVdfDEUJHAgw3bUsZpLdAZaCV7rZ4392Lonf%2BS0z1tTh9qFJGondwBA%2B0Furu20YxBEP0NvhgsKamCv%2BqnDENf%2BQ6TDUV9ruiS0GLWuY5cld29ao5%2Bbo2LR3CIvQVr2%2Fec0yY%2Fm%2F4JXUJKD8c9ly0hBp2f8OrE1wiRtT3ySNgt%2Bzg25%2BPD%2FpuL%2FNFRRzUxGPRBVGIZVnUcRQcLXFN1Bk4yQ%2B%2BDHa88ueBE4t20mkXp2lfTFeqw6ObLHPurbSeEA46kVsJ97tzpFzBa9IzVtCi7NAeir1%2BMawLUxI4dD9OEgUA%3D%3D&response-content-disposition=attachment%3B+filename%3Drecognizing-faces-in-the-wild.zip\n",
      "Resolving storage.googleapis.com (storage.googleapis.com)... 64.233.188.128, 2404:6800:4008:c05::80\n",
      "Connecting to storage.googleapis.com (storage.googleapis.com)|64.233.188.128|:443... connected.\n",
      "HTTP request sent, awaiting response... 200 OK\n",
      "Length: 399768285 (381M) [application/zip]\n",
      "Saving to: ‘recognizing-faces-in-the-wild.zip’\n",
      "\n",
      "recognizing-faces-i 100%[===================>] 381.25M  43.8MB/s    in 8.7s    \n",
      "\n",
      "2020-01-12 08:34:00 (43.8 MB/s) - ‘recognizing-faces-in-the-wild.zip’ saved [399768285/399768285]\n",
      "\n"
     ]
    }
   ],
   "source": [
    "!wget --header=\"Host: storage.googleapis.com\" --header=\"User-Agent: Mozilla/5.0 (Windows NT 10.0; Win64; x64) AppleWebKit/537.36 (KHTML, like Gecko) Chrome/79.0.3945.88 Safari/537.36\" --header=\"Accept: text/html,application/xhtml+xml,application/xml;q=0.9,image/webp,image/apng,*/*;q=0.8,application/signed-exchange;v=b3;q=0.9\" --header=\"Accept-Language: en-US,en;q=0.9\" --header=\"Referer: https://www.kaggle.com/\" \"https://storage.googleapis.com/kaggle-competitions-data/kaggle-v2/9992/443277/bundle/archive.zip?GoogleAccessId=web-data@kaggle-161607.iam.gserviceaccount.com&Expires=1578896465&Signature=r%2BIAw4%2BCczjD3%2F22Zr9YsAqcvuLwFfDc%2BeedTvicAvVdfDEUJHAgw3bUsZpLdAZaCV7rZ4392Lonf%2BS0z1tTh9qFJGondwBA%2B0Furu20YxBEP0NvhgsKamCv%2BqnDENf%2BQ6TDUV9ruiS0GLWuY5cld29ao5%2Bbo2LR3CIvQVr2%2Fec0yY%2Fm%2F4JXUJKD8c9ly0hBp2f8OrE1wiRtT3ySNgt%2Bzg25%2BPD%2FpuL%2FNFRRzUxGPRBVGIZVnUcRQcLXFN1Bk4yQ%2B%2BDHa88ueBE4t20mkXp2lfTFeqw6ObLHPurbSeEA46kVsJ97tzpFzBa9IzVtCi7NAeir1%2BMawLUxI4dD9OEgUA%3D%3D&response-content-disposition=attachment%3B+filename%3Drecognizing-faces-in-the-wild.zip\" -O \"recognizing-faces-in-the-wild.zip\" -c"
   ]
  },
  {
   "cell_type": "code",
   "execution_count": 3,
   "metadata": {
    "colab": {
     "base_uri": "https://localhost:8080/",
     "height": 63
    },
    "colab_type": "code",
    "executionInfo": {
     "elapsed": 21066,
     "status": "ok",
     "timestamp": 1578818049201,
     "user": {
      "displayName": "santhosh ketha",
      "photoUrl": "https://lh3.googleusercontent.com/a-/AAuE7mCHZoev1Su01c3YSBYi638WPWZaktYecdyTuh8ZMQ=s64",
      "userId": "06963422152123978380"
     },
     "user_tz": -330
    },
    "id": "SRVcYv87-Byx",
    "outputId": "2fe05f19-9833-43f6-d74f-0b13068c2190"
   },
   "outputs": [
    {
     "data": {
      "text/html": [
       "<p style=\"color: red;\">\n",
       "The default version of TensorFlow in Colab will soon switch to TensorFlow 2.x.<br>\n",
       "We recommend you <a href=\"https://www.tensorflow.org/guide/migrate\" target=\"_blank\">upgrade</a> now \n",
       "or ensure your notebook will continue to use TensorFlow 1.x via the <code>%tensorflow_version 1.x</code> magic:\n",
       "<a href=\"https://colab.research.google.com/notebooks/tensorflow_version.ipynb\" target=\"_blank\">more info</a>.</p>\n"
      ],
      "text/plain": [
       "<IPython.core.display.HTML object>"
      ]
     },
     "metadata": {
      "tags": []
     },
     "output_type": "display_data"
    }
   ],
   "source": [
    "import tensorflow as tf\n",
    "import zipfile\n",
    "with zipfile.ZipFile('recognizing-faces-in-the-wild.zip', 'r') as zip_ref:\n",
    "    zip_ref.extractall('recognizing-faces-in-the-wild')\n",
    "    \n",
    "with zipfile.ZipFile('recognizing-faces-in-the-wild/train.zip', 'r') as zip_ref:\n",
    "    zip_ref.extractall('train')\n",
    "with zipfile.ZipFile('recognizing-faces-in-the-wild/test.zip', 'r') as zip_ref:\n",
    "    zip_ref.extractall('test')"
   ]
  },
  {
   "cell_type": "code",
   "execution_count": 4,
   "metadata": {
    "colab": {
     "base_uri": "https://localhost:8080/",
     "height": 340
    },
    "colab_type": "code",
    "executionInfo": {
     "elapsed": 30459,
     "status": "ok",
     "timestamp": 1578818058945,
     "user": {
      "displayName": "santhosh ketha",
      "photoUrl": "https://lh3.googleusercontent.com/a-/AAuE7mCHZoev1Su01c3YSBYi638WPWZaktYecdyTuh8ZMQ=s64",
      "userId": "06963422152123978380"
     },
     "user_tz": -330
    },
    "id": "H_MaIBjMGOOm",
    "outputId": "c9a025b7-5fe7-4893-fcf8-a93c0f2ea819"
   },
   "outputs": [
    {
     "name": "stdout",
     "output_type": "stream",
     "text": [
      "Collecting git+https://github.com/rcmalli/keras-vggface.git\n",
      "  Cloning https://github.com/rcmalli/keras-vggface.git to /tmp/pip-req-build-n7cy7e20\n",
      "  Running command git clone -q https://github.com/rcmalli/keras-vggface.git /tmp/pip-req-build-n7cy7e20\n",
      "Requirement already satisfied: numpy>=1.9.1 in /usr/local/lib/python3.6/dist-packages (from keras-vggface==0.6) (1.17.5)\n",
      "Requirement already satisfied: scipy>=0.14 in /usr/local/lib/python3.6/dist-packages (from keras-vggface==0.6) (1.4.1)\n",
      "Requirement already satisfied: h5py in /usr/local/lib/python3.6/dist-packages (from keras-vggface==0.6) (2.8.0)\n",
      "Requirement already satisfied: pillow in /usr/local/lib/python3.6/dist-packages (from keras-vggface==0.6) (6.2.2)\n",
      "Requirement already satisfied: keras in /usr/local/lib/python3.6/dist-packages (from keras-vggface==0.6) (2.2.5)\n",
      "Requirement already satisfied: six>=1.9.0 in /usr/local/lib/python3.6/dist-packages (from keras-vggface==0.6) (1.12.0)\n",
      "Requirement already satisfied: pyyaml in /usr/local/lib/python3.6/dist-packages (from keras-vggface==0.6) (3.13)\n",
      "Requirement already satisfied: keras-applications>=1.0.8 in /usr/local/lib/python3.6/dist-packages (from keras->keras-vggface==0.6) (1.0.8)\n",
      "Requirement already satisfied: keras-preprocessing>=1.1.0 in /usr/local/lib/python3.6/dist-packages (from keras->keras-vggface==0.6) (1.1.0)\n",
      "Building wheels for collected packages: keras-vggface\n",
      "  Building wheel for keras-vggface (setup.py) ... \u001b[?25l\u001b[?25hdone\n",
      "  Created wheel for keras-vggface: filename=keras_vggface-0.6-cp36-none-any.whl size=8311 sha256=72e82e4eb256ee9bb0843e70e9bcc3aa076034cee7c77ee85e89dd8a628cb1ad\n",
      "  Stored in directory: /tmp/pip-ephem-wheel-cache-iemp05ho/wheels/36/07/46/06c25ce8e9cd396dabe151ea1d8a2bc28dafcb11321c1f3a6d\n",
      "Successfully built keras-vggface\n",
      "Installing collected packages: keras-vggface\n",
      "Successfully installed keras-vggface-0.6\n"
     ]
    }
   ],
   "source": [
    "!pip install git+https://github.com/rcmalli/keras-vggface.git"
   ]
  },
  {
   "cell_type": "code",
   "execution_count": 0,
   "metadata": {
    "colab": {},
    "colab_type": "code",
    "id": "MkrpN-VB-EjK"
   },
   "outputs": [],
   "source": [
    "from collections import defaultdict\n",
    "from glob import glob\n",
    "from random import choice,sample\n",
    "from PIL import Image\n",
    "import cv2\n",
    "import matplotlib.pyplot as plt\n",
    "import numpy as np\n",
    "import pandas as pd\n",
    "from tqdm import tqdm\n",
    "import h5py\n",
    "from keras.callbacks import ModelCheckpoint\n",
    "from keras import backend as K\n",
    "from keras.models import load_model\n",
    "from keras.layers import Input,Dense,GlobalMaxPool2D,GlobalAvgPool2D,Concatenate,Multiply,Dropout,Subtract,Lambda,Flatten,Add,Conv2D,Conv1D\n",
    "from keras.models import Model\n",
    "from keras.optimizers import Adam\n",
    "from keras_vggface.utils import preprocess_input\n",
    "from keras_vggface.vggface import VGGFace\n",
    "import tensorflow as tf\n",
    "from sklearn.metrics import roc_auc_score\n",
    "import os\n",
    "import statistics\n"
   ]
  },
  {
   "cell_type": "markdown",
   "metadata": {
    "colab_type": "text",
    "id": "qFT4TrJlOs-M"
   },
   "source": [
    "# Reading neccessery files"
   ]
  },
  {
   "cell_type": "code",
   "execution_count": 6,
   "metadata": {
    "colab": {
     "base_uri": "https://localhost:8080/",
     "height": 204
    },
    "colab_type": "code",
    "executionInfo": {
     "elapsed": 30936,
     "status": "ok",
     "timestamp": 1578818059924,
     "user": {
      "displayName": "santhosh ketha",
      "photoUrl": "https://lh3.googleusercontent.com/a-/AAuE7mCHZoev1Su01c3YSBYi638WPWZaktYecdyTuh8ZMQ=s64",
      "userId": "06963422152123978380"
     },
     "user_tz": -330
    },
    "id": "7zcjFPFKHD2d",
    "outputId": "d50ca9f0-6cda-43ba-c512-57f5b5fc1fbc"
   },
   "outputs": [
    {
     "data": {
      "text/html": [
       "<div>\n",
       "<style scoped>\n",
       "    .dataframe tbody tr th:only-of-type {\n",
       "        vertical-align: middle;\n",
       "    }\n",
       "\n",
       "    .dataframe tbody tr th {\n",
       "        vertical-align: top;\n",
       "    }\n",
       "\n",
       "    .dataframe thead th {\n",
       "        text-align: right;\n",
       "    }\n",
       "</style>\n",
       "<table border=\"1\" class=\"dataframe\">\n",
       "  <thead>\n",
       "    <tr style=\"text-align: right;\">\n",
       "      <th></th>\n",
       "      <th>p1</th>\n",
       "      <th>p2</th>\n",
       "    </tr>\n",
       "  </thead>\n",
       "  <tbody>\n",
       "    <tr>\n",
       "      <th>0</th>\n",
       "      <td>F0002/MID1</td>\n",
       "      <td>F0002/MID3</td>\n",
       "    </tr>\n",
       "    <tr>\n",
       "      <th>1</th>\n",
       "      <td>F0002/MID2</td>\n",
       "      <td>F0002/MID3</td>\n",
       "    </tr>\n",
       "    <tr>\n",
       "      <th>2</th>\n",
       "      <td>F0005/MID1</td>\n",
       "      <td>F0005/MID2</td>\n",
       "    </tr>\n",
       "    <tr>\n",
       "      <th>3</th>\n",
       "      <td>F0005/MID3</td>\n",
       "      <td>F0005/MID2</td>\n",
       "    </tr>\n",
       "    <tr>\n",
       "      <th>4</th>\n",
       "      <td>F0009/MID1</td>\n",
       "      <td>F0009/MID4</td>\n",
       "    </tr>\n",
       "  </tbody>\n",
       "</table>\n",
       "</div>"
      ],
      "text/plain": [
       "           p1          p2\n",
       "0  F0002/MID1  F0002/MID3\n",
       "1  F0002/MID2  F0002/MID3\n",
       "2  F0005/MID1  F0005/MID2\n",
       "3  F0005/MID3  F0005/MID2\n",
       "4  F0009/MID1  F0009/MID4"
      ]
     },
     "execution_count": 6,
     "metadata": {
      "tags": []
     },
     "output_type": "execute_result"
    }
   ],
   "source": [
    "# Reading all neccessary files required\n",
    "train_file_path='recognizing-faces-in-the-wild/train_relationships.csv'\n",
    "train_folders_path='train/'\n",
    "train_csv=pd.read_csv(train_file_path)\n",
    "train_csv.head()"
   ]
  },
  {
   "cell_type": "markdown",
   "metadata": {
    "colab_type": "text",
    "id": "Z6RGVot0O-cM"
   },
   "source": [
    "# EDA"
   ]
  },
  {
   "cell_type": "markdown",
   "metadata": {
    "colab_type": "text",
    "id": "AqjfEI-0NDT-"
   },
   "source": [
    "#### Listing all families in train folder"
   ]
  },
  {
   "cell_type": "code",
   "execution_count": 7,
   "metadata": {
    "colab": {
     "base_uri": "https://localhost:8080/",
     "height": 935
    },
    "colab_type": "code",
    "executionInfo": {
     "elapsed": 30527,
     "status": "ok",
     "timestamp": 1578818059925,
     "user": {
      "displayName": "santhosh ketha",
      "photoUrl": "https://lh3.googleusercontent.com/a-/AAuE7mCHZoev1Su01c3YSBYi638WPWZaktYecdyTuh8ZMQ=s64",
      "userId": "06963422152123978380"
     },
     "user_tz": -330
    },
    "id": "R2926KmqM_zv",
    "outputId": "bb9b59fb-547c-487e-e0d7-412a3c88db7a"
   },
   "outputs": [
    {
     "name": "stdout",
     "output_type": "stream",
     "text": [
      "count of families: 470\n",
      "Different families: ['F0106' 'F0394' 'F0390' 'F0515' 'F0020' 'F0774' 'F0801' 'F0655' 'F0170'\n",
      " 'F0593' 'F0086' 'F0687' 'F0820' 'F0970' 'F0538' 'F0812' 'F0816' 'F0973'\n",
      " 'F0874' 'F0746' 'F0231' 'F0955' 'F0997' 'F0238' 'F0969' 'F0017' 'F0947'\n",
      " 'F0264' 'F0893' 'F0059' 'F0679' 'F0446' 'F0334' 'F0298' 'F0959' 'F0854'\n",
      " 'F0179' 'F0266' 'F0271' 'F0214' 'F0044' 'F0677' 'F0748' 'F0344' 'F0360'\n",
      " 'F0363' 'F0341' 'F0456' 'F0361' 'F0155' 'F0596' 'F0977' 'F0118' 'F0794'\n",
      " 'F0077' 'F0771' 'F0892' 'F0967' 'F0769' 'F0196' 'F0536' 'F0768' 'F0658'\n",
      " 'F0688' 'F0091' 'F0985' 'F0765' 'F0168' 'F0664' 'F0373' 'F0574' 'F0903'\n",
      " 'F0721' 'F0277' 'F0944' 'F0425' 'F0533' 'F0183' 'F0960' 'F0625' 'F0236'\n",
      " 'F0739' 'F0610' 'F0539' 'F0157' 'F0780' 'F0326' 'F0503' 'F0784' 'F0978'\n",
      " 'F0972' 'F0192' 'F0161' 'F0228' 'F0357' 'F0718' 'F0773' 'F0500' 'F0696'\n",
      " 'F0517' 'F0049' 'F0365' 'F0303' 'F0998' 'F0491' 'F0369' 'F0933' 'F0703'\n",
      " 'F0165' 'F0813' 'F0093' 'F0465' 'F0336' 'F0410' 'F0253' 'F0565' 'F0785'\n",
      " 'F0403' 'F0050' 'F0689' 'F0603' 'F0210' 'F0206' 'F0770' 'F0857' 'F1000'\n",
      " 'F0068' 'F0399' 'F0438' 'F0315' 'F0912' 'F0387' 'F0479' 'F0443' 'F0623'\n",
      " 'F0202' 'F0052' 'F0822' 'F0531' 'F0730' 'F0321' 'F0138' 'F0024' 'F0472'\n",
      " 'F0783' 'F0843' 'F0487' 'F0284' 'F0556' 'F0869' 'F0350' 'F0686' 'F0498'\n",
      " 'F0832' 'F0849' 'F0646' 'F0599' 'F0054' 'F0642' 'F0197' 'F0468' 'F0585'\n",
      " 'F0735' 'F0427' 'F0195' 'F0737' 'F0791' 'F0891' 'F0601' 'F0724' 'F0872'\n",
      " 'F0988' 'F0154' 'F0248' 'F0803' 'F0064' 'F0705' 'F0855' 'F0408' 'F0579'\n",
      " 'F0656' 'F0109' 'F0942' 'F0621' 'F0385' 'F0526' 'F0081' 'F0105' 'F0789'\n",
      " 'F0726' 'F0459' 'F0639' 'F0863' 'F0502' 'F0607' 'F0249' 'F0126' 'F0198'\n",
      " 'F0290' 'F0532' 'F0984' 'F0393' 'F0530' 'F0805' 'F0135' 'F0543' 'F0894'\n",
      " 'F0829' 'F0074' 'F0897' 'F0939' 'F0016' 'F0630' 'F0661' 'F0638' 'F0339'\n",
      " 'F0225' 'F0591' 'F0931' 'F0848' 'F0058' 'F0930' 'F0900' 'F0895' 'F0101'\n",
      " 'F0716' 'F0994' 'F0965' 'F0285' 'F0761' 'F0194' 'F0119' 'F0695' 'F0376'\n",
      " 'F0901' 'F0233' 'F0670' 'F0627' 'F0287' 'F0426' 'F0665' 'F0635' 'F0281'\n",
      " 'F0409' 'F0540' 'F0146' 'F0241' 'F0099' 'F0908' 'F0524' 'F0795' 'F0810'\n",
      " 'F0641' 'F0216' 'F0915' 'F0754' 'F0132' 'F0617' 'F0763' 'F0680' 'F0283'\n",
      " 'F0313' 'F0499' 'F0728' 'F0440' 'F0159' 'F0002' 'F0421' 'F0968' 'F0691'\n",
      " 'F0203' 'F0158' 'F0993' 'F0548' 'F0836' 'F0846' 'F0946' 'F0257' 'F0227'\n",
      " 'F0512' 'F0423' 'F0022' 'F0742' 'F0762' 'F0841' 'F0470' 'F0452' 'F0787'\n",
      " 'F0966' 'F0431' 'F0711' 'F0837' 'F0690' 'F0413' 'F0063' 'F0842' 'F0826'\n",
      " 'F0167' 'F0508' 'F0497' 'F0245' 'F0137' 'F0974' 'F0494' 'F0825' 'F0752'\n",
      " 'F0811' 'F0212' 'F0818' 'F0299' 'F0693' 'F0590' 'F0982' 'F0262' 'F0845'\n",
      " 'F0704' 'F0673' 'F0733' 'F0051' 'F0725' 'F0169' 'F0322' 'F0411' 'F0444'\n",
      " 'F0584' 'F0482' 'F0882' 'F0756' 'F0435' 'F0489' 'F0808' 'F0971' 'F0268'\n",
      " 'F0209' 'F0302' 'F0123' 'F0432' 'F0631' 'F0359' 'F0242' 'F0211' 'F0758'\n",
      " 'F0178' 'F0244' 'F0899' 'F0922' 'F0678' 'F0097' 'F0561' 'F0130' 'F0833'\n",
      " 'F0031' 'F0237' 'F0504' 'F0038' 'F0030' 'F0160' 'F0199' 'F0128' 'F0736'\n",
      " 'F0851' 'F0683' 'F0481' 'F0309' 'F0856' 'F0254' 'F0881' 'F0914' 'F0378'\n",
      " 'F0460' 'F0745' 'F0039' 'F0164' 'F0297' 'F0516' 'F0424' 'F0669' 'F0368'\n",
      " 'F0150' 'F0488' 'F0675' 'F0545' 'F0884' 'F0010' 'F0868' 'F0142' 'F0151'\n",
      " 'F0983' 'F0023' 'F0788' 'F0464' 'F0840' 'F0174' 'F0800' 'F0319' 'F0879'\n",
      " 'F0486' 'F0005' 'F0134' 'F0568' 'F0124' 'F0258' 'F0294' 'F0112' 'F0981'\n",
      " 'F0604' 'F0537' 'F0110' 'F0909' 'F0744' 'F0714' 'F0862' 'F0904' 'F0644'\n",
      " 'F0501' 'F0113' 'F0916' 'F0252' 'F0040' 'F0952' 'F0041' 'F0122' 'F0674'\n",
      " 'F0708' 'F0951' 'F0866' 'F0651' 'F0332' 'F0592' 'F0838' 'F0367' 'F0778'\n",
      " 'F0129' 'F0717' 'F0255' 'F0415' 'F0595' 'F0918' 'F0945' 'F0659' 'F0191'\n",
      " 'F0070' 'F0953' 'F0850' 'F0402' 'F0519' 'F0188' 'F0806' 'F0036' 'F0734'\n",
      " 'F0275' 'F0589' 'F0760' 'F0920' 'F0439' 'F0809' 'F0215' 'F0416' 'F0473'\n",
      " 'F0831' 'F0828' 'F0821' 'F0162' 'F0582' 'F0672' 'F0282' 'F0853' 'F0861'\n",
      " 'F0009' 'F0552']\n"
     ]
    }
   ],
   "source": [
    "family=list(os.listdir(train_folders_path))\n",
    "print('count of families:',len(family))\n",
    "print('Different families:',np.array(family))"
   ]
  },
  {
   "cell_type": "code",
   "execution_count": 8,
   "metadata": {
    "colab": {
     "base_uri": "https://localhost:8080/",
     "height": 34
    },
    "colab_type": "code",
    "executionInfo": {
     "elapsed": 30311,
     "status": "ok",
     "timestamp": 1578818059925,
     "user": {
      "displayName": "santhosh ketha",
      "photoUrl": "https://lh3.googleusercontent.com/a-/AAuE7mCHZoev1Su01c3YSBYi638WPWZaktYecdyTuh8ZMQ=s64",
      "userId": "06963422152123978380"
     },
     "user_tz": -330
    },
    "id": "zJ3S6Nu1asNI",
    "outputId": "d441cd4e-80b7-4504-cbc2-edc812f08c50"
   },
   "outputs": [
    {
     "name": "stdout",
     "output_type": "stream",
     "text": [
      "example of member ID in family ID f0242: ['MID1', 'MID3', 'MID2', 'MID5']\n"
     ]
    }
   ],
   "source": [
    "print ('example of member ID in family ID f0242:',os.listdir('train/F0242'))"
   ]
  },
  {
   "cell_type": "markdown",
   "metadata": {
    "colab_type": "text",
    "id": "fsLMh5rpNLyT"
   },
   "source": [
    "#### Visualizing the images in based on relationship given"
   ]
  },
  {
   "cell_type": "code",
   "execution_count": 9,
   "metadata": {
    "colab": {
     "base_uri": "https://localhost:8080/",
     "height": 68
    },
    "colab_type": "code",
    "executionInfo": {
     "elapsed": 37011,
     "status": "ok",
     "timestamp": 1578818067037,
     "user": {
      "displayName": "santhosh ketha",
      "photoUrl": "https://lh3.googleusercontent.com/a-/AAuE7mCHZoev1Su01c3YSBYi638WPWZaktYecdyTuh8ZMQ=s64",
      "userId": "06963422152123978380"
     },
     "user_tz": -330
    },
    "id": "zG204mloNZC0",
    "outputId": "4ded30cd-17cf-4c51-cd8f-1568a92d003b"
   },
   "outputs": [
    {
     "name": "stdout",
     "output_type": "stream",
     "text": [
      "Number of images in train folder: 12379\n",
      "resolution of single image: (224, 224)\n",
      " Mean resolution of all images in train (224, 224)\n"
     ]
    }
   ],
   "source": [
    "# Fetching images by their corresponding familes and storing in dictornary\n",
    "count=0\n",
    "height=[]\n",
    "width=[]\n",
    "allPhotos = defaultdict(list)\n",
    "for family in glob(\"train/*\"):\n",
    "    for mem in glob(family + '/*'):\n",
    "        for photo in glob(mem + '/*'):\n",
    "            allPhotos[mem].append(photo)\n",
    "            img = cv2.imread(photo)\n",
    "            h, w = img.shape[:2] # gathering resolution images and append it to lists\n",
    "            height.append(h )\n",
    "            width.append(w)\n",
    "            count+=1\n",
    "\n",
    "images = list(allPhotos.keys())\n",
    "\n",
    "print('Number of images in train folder:',count)\n",
    "print('resolution of single image:',(h,w))\n",
    "print(' Mean resolution of all images in train',(statistics.mean(height),statistics.mean(width)))\n"
   ]
  },
  {
   "cell_type": "markdown",
   "metadata": {
    "colab_type": "text",
    "id": "rWEH18tH13Qo"
   },
   "source": [
    "### Observation:\n",
    "\n",
    "1. Each image in train folder has same resolution.\n"
   ]
  },
  {
   "cell_type": "code",
   "execution_count": 10,
   "metadata": {
    "colab": {
     "base_uri": "https://localhost:8080/",
     "height": 34
    },
    "colab_type": "code",
    "executionInfo": {
     "elapsed": 36671,
     "status": "ok",
     "timestamp": 1578818067039,
     "user": {
      "displayName": "santhosh ketha",
      "photoUrl": "https://lh3.googleusercontent.com/a-/AAuE7mCHZoev1Su01c3YSBYi638WPWZaktYecdyTuh8ZMQ=s64",
      "userId": "06963422152123978380"
     },
     "user_tz": -330
    },
    "id": "xMCMBHt8NdZi",
    "outputId": "db0ff7ab-952f-4ed2-ab2d-558123c8b6e7"
   },
   "outputs": [
    {
     "name": "stdout",
     "output_type": "stream",
     "text": [
      "(3598, 4)\n"
     ]
    }
   ],
   "source": [
    "train_csv['p1_path'] = train_csv.p1.apply(lambda x: 'train/' + x)\n",
    "train_csv['p2_path'] = train_csv.p2.apply(lambda x: 'train/' + x)\n",
    "print(train_csv.shape)\n",
    "\n",
    "train_csv = train_csv[((train_csv.p1_path.isin(images)) & (train_csv.p2_path.isin(images)))]\n"
   ]
  },
  {
   "cell_type": "code",
   "execution_count": 0,
   "metadata": {
    "colab": {},
    "colab_type": "code",
    "id": "Oxo0gqxVNf8L"
   },
   "outputs": [],
   "source": [
    "def image_formatter(im):\n",
    "    \"\"\" returns an iamge based on input provide in the format below\"\"\"\n",
    "    return f'<img src=\"data:image/jpeg;base64,{image_base64(im)}\">'\n",
    "\n",
    "def add_image_path(x,path):\n",
    "    \"\"\"Function that returns the image path from it's code \"\"\"\n",
    "    image_path = path + x\n",
    "    if os.path.exists(image_path):\n",
    "        path = os.path.join(image_path, os.listdir(image_path)[0])\n",
    "        return path\n",
    "def get_thumbnail(path):\n",
    "    \"\"\" return image path with specified resolution\"\"\"\n",
    "    if path and os.path.exists(path):\n",
    "        i = Image.open(path)\n",
    "        i.thumbnail((100, 100), Image.LANCZOS)\n",
    "        return i\n",
    "\n",
    "def image_base64(im):\n",
    "    \"\"\"Function that returns the image format base64\"\"\"\n",
    "    if isinstance(im, str):\n",
    "        im = get_thumbnail(im)\n",
    "    with BytesIO() as buffer:\n",
    "        im.save(buffer, 'jpeg')\n",
    "        return base64.b64encode(buffer.getvalue()).decode()"
   ]
  },
  {
   "cell_type": "code",
   "execution_count": 0,
   "metadata": {
    "colab": {},
    "colab_type": "code",
    "id": "ba0H72vWNi02"
   },
   "outputs": [],
   "source": [
    "# Creating csv for visualization only\n",
    "train_csv1 =pd.DataFrame(train_csv)\n",
    "train_csv1['p1_path'] = train_csv.p1.apply(lambda f: add_image_path(f, 'train/')) # fetching 1st image path\n",
    "train_csv1['p2_path'] = train_csv1.p2.apply(lambda f: add_image_path(f, 'train/'))# fetching 2nd image path\n",
    "train_csv1['p1_thumb'] = train_csv1.p1_path.map(lambda f: get_thumbnail(f)) \n",
    "train_csv1['p2_thumb'] = train_csv1.p2_path.map(lambda f: get_thumbnail(f))\n"
   ]
  },
  {
   "cell_type": "code",
   "execution_count": 13,
   "metadata": {
    "colab": {
     "base_uri": "https://localhost:8080/",
     "height": 639
    },
    "colab_type": "code",
    "executionInfo": {
     "elapsed": 41547,
     "status": "ok",
     "timestamp": 1578818072383,
     "user": {
      "displayName": "santhosh ketha",
      "photoUrl": "https://lh3.googleusercontent.com/a-/AAuE7mCHZoev1Su01c3YSBYi638WPWZaktYecdyTuh8ZMQ=s64",
      "userId": "06963422152123978380"
     },
     "user_tz": -330
    },
    "id": "HJb5LCbiNlLF",
    "outputId": "4d8f20e9-14a3-4abf-d29b-183b068020d3"
   },
   "outputs": [
    {
     "data": {
      "text/html": [
       "<table border=\"1\" class=\"dataframe\">\n",
       "  <thead>\n",
       "    <tr style=\"text-align: right;\">\n",
       "      <th></th>\n",
       "      <th>p1</th>\n",
       "      <th>p2</th>\n",
       "      <th>p1_thumb</th>\n",
       "      <th>p2_thumb</th>\n",
       "    </tr>\n",
       "  </thead>\n",
       "  <tbody>\n",
       "    <tr>\n",
       "      <th>3593</th>\n",
       "      <td>F1000/MID5</td>\n",
       "      <td>F1000/MID8</td>\n",
       "      <td><img src=\"data:image/jpeg;base64,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\"></td>\n",
       "      <td><img src=\"data:image/jpeg;base64,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\"></td>\n",
       "    </tr>\n",
       "    <tr>\n",
       "      <th>3594</th>\n",
       "      <td>F1000/MID5</td>\n",
       "      <td>F1000/MID9</td>\n",
       "      <td><img src=\"data:image/jpeg;base64,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\"></td>\n",
       "      <td><img src=\"data:image/jpeg;base64,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\"></td>\n",
       "    </tr>\n",
       "    <tr>\n",
       "      <th>3595</th>\n",
       "      <td>F1000/MID6</td>\n",
       "      <td>F1000/MID9</td>\n",
       "      <td><img src=\"data:image/jpeg;base64,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\"></td>\n",
       "      <td><img src=\"data:image/jpeg;base64,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\"></td>\n",
       "    </tr>\n",
       "    <tr>\n",
       "      <th>3596</th>\n",
       "      <td>F1000/MID7</td>\n",
       "      <td>F1000/MID8</td>\n",
       "      <td><img src=\"data:image/jpeg;base64,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\"></td>\n",
       "      <td><img src=\"data:image/jpeg;base64,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\"></td>\n",
       "    </tr>\n",
       "    <tr>\n",
       "      <th>3597</th>\n",
       "      <td>F1000/MID7</td>\n",
       "      <td>F1000/MID9</td>\n",
       "      <td><img src=\"data:image/jpeg;base64,/9j/4AAQSkZJRgABAQAAAQABAAD/2wBDAAgGBgcGBQgHBwcJCQgKDBQNDAsLDBkSEw8UHRofHh0aHBwgJC4nICIsIxwcKDcpLDAxNDQ0Hyc5PTgyPC4zNDL/2wBDAQkJCQwLDBgNDRgyIRwhMjIyMjIyMjIyMjIyMjIyMjIyMjIyMjIyMjIyMjIyMjIyMjIyMjIyMjIyMjIyMjIyMjL/wAARCABkAGQDASIAAhEBAxEB/8QAHwAAAQUBAQEBAQEAAAAAAAAAAAECAwQFBgcICQoL/8QAtRAAAgEDAwIEAwUFBAQAAAF9AQIDAAQRBRIhMUEGE1FhByJxFDKBkaEII0KxwRVS0fAkM2JyggkKFhcYGRolJicoKSo0NTY3ODk6Q0RFRkdISUpTVFVWV1hZWmNkZWZnaGlqc3R1dnd4eXqDhIWGh4iJipKTlJWWl5iZmqKjpKWmp6ipqrKztLW2t7i5usLDxMXGx8jJytLT1NXW19jZ2uHi4+Tl5ufo6erx8vP09fb3+Pn6/8QAHwEAAwEBAQEBAQEBAQAAAAAAAAECAwQFBgcICQoL/8QAtREAAgECBAQDBAcFBAQAAQJ3AAECAxEEBSExBhJBUQdhcRMiMoEIFEKRobHBCSMzUvAVYnLRChYkNOEl8RcYGRomJygpKjU2Nzg5OkNERUZHSElKU1RVVldYWVpjZGVmZ2hpanN0dXZ3eHl6goOEhYaHiImKkpOUlZaXmJmaoqOkpaanqKmqsrO0tba3uLm6wsPExcbHyMnK0tPU1dbX2Nna4uPk5ebn6Onq8vP09fb3+Pn6/9oADAMBAAIRAxEAPwDzDTmvdc1GKxgJJlOCfQV9A+E/BNloFgvlxK8xGWkPXNeVfC+zSTURIijd3OOlfQdq48tVPUDFefWkm+Q7oJxjzEYxEAe9RXs+6Hj8aLmUrIQwrOluY3DjNc97aHRGN9WZd4N+T2rnronLAelbtzcRhc59qxroBYmk9elZs2MCRD1qjNndmte4ChRyORWZK6E4yKIl2GQOwbJqe6tUvICjKDkVDEV3gZq2rANgdDWyZjNHm+uaFLYTF0U7T6VnWs53AHhhXrOp2Md1YNkAkCvKL6DyLxwg6Gu6lPmVmefWgou6NB8T7X7kc0VVhn/diitbGPMep/CK02NO7DnpXrzTCJRgc1538O7cW1vL7nNdteXSrAxA+YDg15c3eo2enGHuJHP+JNUmjRitwyNjgCvNb3xFrcEzeUXdPU8ZrV13VyLySPeTKfuqq5JPpXEa7fXyzIrgxPj5o8Hj8a3pQk9XYyqThHRXOksvE+pTfLPGcH26VvW97LeKFYHArz3TNSvEZY2Tdu6etew+GbaK50pDPFiUDPFY1o8rOijK8Tg9a1NraQp6VzNxr7ox2Ak11HjK1VLmUqtefM43YArTDwjJXsRiJyi7Jl0azfyvldwFa2naveo6mQ719DXOG/dBtjjAxU9vqDK4zyD69RXS4abHJGok9Wz1WyuEvbT5eDjlfSvMPECfZ9WmUjvXdaFcKY4yrY3Dn3rkvGUP/E4JwcMM1FLSZVde6co0jbuDgfWirckUKNtMZ6etFdPMc3Iz6A8EW00fh+K4mPEvA+grobyIvEDnORzVPQ7f7NpH2dGBiXmPB6Ct60jW5jCcE15C95nsy01OVeC0gUmS1Qt2O0Zrj9e0r7cf3VqgyeCa9A1yD7PuyOlcbJK0023zNqg9aTnKLKVOElcyNH8HTG5V3C7h0Ga9V0vTfsOnsGA3BetYOhvaxzLGsm+Vj65rs5wYrVt3KlaOZy1ZEkouyPHvFsPn3Mgxwa85m02RJWIAzXp+tqX1KQH8BXIalEI5iR3rWhNxWgqsFLcwEjIwrxKcd60E02KcBnhCn1FLAUMnzjjNbkPlCReBtNayqNMiNCNrsXSoGhdVzwKyvFbKdTTd12V1TQLEyunQiuS8Qhri5JVfudTTi9TKUU1Y5m5ZRMc+lFVbyVTctg9OKK6knY5XNXPefAvimGfw9bi9DLNJ+7UkdT6128U7WmZV6V4Po/jiSLQ9P0prWI+TOp87+IDNe2TTb9PEg6MgYflXm14unK56GGmpw1MPxJrDNC7O2fSvMpdVmnvBDE3LHoK2PGN9L5EYQH96cIKueEfB52C5mO+dxkj+7RFe7zM0cre7E1fBZgsriSS8znbw3pXdyazZ3OmyJbvvxXNvof2aMlW2msa6v57AFY2XuMGpu1uNx53cx9b1SGLUWO8cHBrnNav7We1YwtmQHtTtTsp55nmyo3kkisZ7WRMggVvTjGyIquV9iBLwuNv8Qq/ZXchcKT3rHniMbbhwRT7S4/fA9xW7gmrowjVadmeiRXGbdQT24rj/ABHeeVG6KclyRW5BPuijHtXHakLeZL13mbzUk+RM8GppRvLUmvNxjoYPeikorvseZdGtFF5cCuG+bNe/+EtSXVvCdu7HMiJsf8K8DmvUEAjRABxk9zXZfDXxKtlfPp8z4jm+5k8Bq4MTTc4XXQ78PUUJ2Ot8XaRu0yOeJcvA2R9K56PWPEWn2yNYtmBiA5xkrXpcsK3UUkLDKSA1m6Npa216Y5UBjPBBHBripztoz0HqTad4evdY0wTyaqxdwCAB61j6x4F1O3SWRbzIj7k9a669hk0UCbTJABgEwt6e1Y+o+NEuLaSKWExyZ6djWj0GnX3jqjzDUNF1uHaXYlWOBzWdLZ6jbwNLIwwpwc12Wq65JMi7IVbaeMvXMSC51GUxzyqkZJJVe9bQbZnUhVerRy011POxJUBRU9jAzvv7VevbSKGUxp0p0SCGAIvDH9K2c1ayORU/eu2XmvVt7KWYnAUYA964l2MjMxPJOa0tYvg+22jPyryT6mswfcNaUoWV+5z16nNKy6EZ60UE0Vuc5ct8PdxiTlC2MVburZ7C83RllKncpHas9MrMCMkjmunvrmO7tIJSgDBQrVjN2aN6ceZPyPUvA2s3Gp6fH9oIZgMZHWu2+yhyHXqK8X8B6uLJzEWAweK9gsNUiuIxtYcj1ry6sVGbPVpu8UyW9ZLm2aNx8wGK8t1+znS6PlZ616bO6ltwH1rntalt41LBVLUk3uaxk46I8suo70ZHQe1FmDFlnyWra1C6jySMdazGmRzxjiuiMm0ZzbvqyrdxGSVXP1NZuqSGK2LKcN0zWnc3Ku21elYesPmLHvW1Ne8jlrO0XYw85JNP/gNM7U9GKjiuw80bkelFPOwnPSigDWKrFDvVQWI6mi3kZ7OQNiiisZ7HRDcs6EzC+GDivT9JuJUICuRRRXFiviO3D/wzqYbiR4cscmuT8RzOGYA4FFFYLdG6ZxN1IwVu+T3qh5rkEZwPaiiuyJzzbuOXgcVmarylFFaU/iMqvwMxhSjpRRXUcA7GaKKKAP/Z\"></td>\n",
       "      <td><img src=\"data:image/jpeg;base64,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\"></td>\n",
       "    </tr>\n",
       "  </tbody>\n",
       "</table>"
      ],
      "text/plain": [
       "<IPython.core.display.HTML object>"
      ]
     },
     "execution_count": 13,
     "metadata": {
      "tags": []
     },
     "output_type": "execute_result"
    }
   ],
   "source": [
    "from IPython.display import HTML\n",
    "from io import BytesIO\n",
    "import base64\n",
    "HTML(train_csv1.tail()[['p1', 'p2', 'p1_thumb', 'p2_thumb']].to_html(formatters={'p1_thumb': image_formatter, 'p2_thumb': image_formatter}, escape=False))"
   ]
  },
  {
   "cell_type": "code",
   "execution_count": 14,
   "metadata": {
    "colab": {
     "base_uri": "https://localhost:8080/",
     "height": 119
    },
    "colab_type": "code",
    "executionInfo": {
     "elapsed": 41400,
     "status": "ok",
     "timestamp": 1578818072383,
     "user": {
      "displayName": "santhosh ketha",
      "photoUrl": "https://lh3.googleusercontent.com/a-/AAuE7mCHZoev1Su01c3YSBYi638WPWZaktYecdyTuh8ZMQ=s64",
      "userId": "06963422152123978380"
     },
     "user_tz": -330
    },
    "id": "JOy0s7UI8w9U",
    "outputId": "1f13a0c9-f902-428f-fa5b-e933fd79a297"
   },
   "outputs": [
    {
     "data": {
      "text/plain": [
       "['.config',\n",
       " 'recognizing-faces-in-the-wild',\n",
       " 'test',\n",
       " 'train',\n",
       " 'recognizing-faces-in-the-wild.zip',\n",
       " 'sample_data']"
      ]
     },
     "execution_count": 14,
     "metadata": {
      "tags": []
     },
     "output_type": "execute_result"
    }
   ],
   "source": [
    "import os\n",
    "os.listdir()"
   ]
  },
  {
   "cell_type": "markdown",
   "metadata": {
    "colab_type": "text",
    "id": "AKzthH68ZDuX"
   },
   "source": [
    "# Data preparation and data modelling"
   ]
  },
  {
   "cell_type": "code",
   "execution_count": 0,
   "metadata": {
    "colab": {},
    "colab_type": "code",
    "id": "RJSJzKABHIDS"
   },
   "outputs": [],
   "source": [
    "# Fuction for reading images using opencv\n",
    "\n",
    "def img2arr(path):\n",
    "    img=cv2.imread(format(path))\n",
    "    img=np.array(img).astype(np.float)\n",
    "    return preprocess_input(img,version=2)\n",
    "# AUC\n",
    "def auroc(y_true, y_pred):\n",
    "    return tf.py_func(roc_auc_score, (y_true, y_pred), tf.double)"
   ]
  },
  {
   "cell_type": "code",
   "execution_count": 0,
   "metadata": {
    "colab": {},
    "colab_type": "code",
    "id": "3UUDo0aWgCuM"
   },
   "outputs": [],
   "source": [
    "val_families='F09' # Considering this family id's for validation\n",
    "\n",
    "all_images=glob(train_folders_path+'*/*/*.jpg') #paths of all images\n",
    "\n",
    "train_images=[x for x in all_images if val_families not in x] #path of images used for training  other then family idf09\n",
    "\n",
    "val_images=[x for x in all_images if val_families in x] # image paths for validation\n",
    "\n"
   ]
  },
  {
   "cell_type": "code",
   "execution_count": 0,
   "metadata": {
    "colab": {},
    "colab_type": "code",
    "id": "wjNcUr2FZxjY"
   },
   "outputs": [],
   "source": [
    "# It stores families as keys and member id with images as values\n",
    "train_person_to_images_map=defaultdict(list) #  for train\n",
    "for x in train_images:\n",
    "    train_person_to_images_map[x.split('/')[-3]+'/'+x.split(\"/\")[-2]].append(x)\n",
    "\n",
    "val_person_to_images_map=defaultdict(list)#for validation\n",
    "for x in val_images:\n",
    "    val_person_to_images_map[x.split('/')[-3]+'/'+x.split('/')[-2]].append(x)"
   ]
  },
  {
   "cell_type": "markdown",
   "metadata": {
    "colab_type": "text",
    "id": "jWQj_xRUf1QP"
   },
   "source": [
    "#### Creating list of tuples (blood relative pairs ) for training and validation"
   ]
  },
  {
   "cell_type": "code",
   "execution_count": 18,
   "metadata": {
    "colab": {
     "base_uri": "https://localhost:8080/",
     "height": 51
    },
    "colab_type": "code",
    "executionInfo": {
     "elapsed": 41154,
     "status": "ok",
     "timestamp": 1578818073132,
     "user": {
      "displayName": "santhosh ketha",
      "photoUrl": "https://lh3.googleusercontent.com/a-/AAuE7mCHZoev1Su01c3YSBYi638WPWZaktYecdyTuh8ZMQ=s64",
      "userId": "06963422152123978380"
     },
     "user_tz": -330
    },
    "id": "ZVrxwwVykWrr",
    "outputId": "b5e3f35e-d900-4234-879b-172cff79c8d4"
   },
   "outputs": [
    {
     "name": "stdout",
     "output_type": "stream",
     "text": [
      "train:list of tuples which contains blood related pairs:  [('F0002/MID1', 'F0002/MID3'), ('F0002/MID2', 'F0002/MID3'), ('F0005/MID1', 'F0005/MID2'), ('F0005/MID3', 'F0005/MID2'), ('F0009/MID1', 'F0009/MID4')]\n",
      "val:list of tuples which contains blood related pairs:  [('F0900/MID2', 'F0900/MID1'), ('F0900/MID3', 'F0900/MID1'), ('F0901/MID1', 'F0901/MID4'), ('F0901/MID2', 'F0901/MID1'), ('F0901/MID2', 'F0901/MID4')]\n"
     ]
    }
   ],
   "source": [
    "relationships = train_csv\n",
    "ppl=[x.split('/')[-3]+'/'+x.split(\"/\")[-2] for x in all_images]\n",
    "\n",
    "relationships= list(zip(relationships.p1.values, relationships.p2.values))\n",
    "\n",
    "relationships = [x for x in relationships if x[0] in ppl and x[1] in ppl]\n",
    "\n",
    "ppl=[x.split('/')[-3]+'/'+x.split(\"/\")[-2] for x in all_images]\n",
    "\n",
    "#Diving the tuples into train and validation\n",
    "\n",
    "train=[x for x in relationships if val_families not in x[0]]# list of tuples contains pairs of BLOOD RELATIVES for training\n",
    "print('train:list of tuples which contains blood related pairs: ',train[0:5])\n",
    "val=[x for x in relationships if val_families in x[0]]#list of tuples contains pairs of BLOOD RELATIVES for validation\n",
    "print('val:list of tuples which contains blood related pairs: ',val[0:5])"
   ]
  },
  {
   "cell_type": "code",
   "execution_count": 19,
   "metadata": {
    "colab": {
     "base_uri": "https://localhost:8080/",
     "height": 34
    },
    "colab_type": "code",
    "executionInfo": {
     "elapsed": 41003,
     "status": "ok",
     "timestamp": 1578818073133,
     "user": {
      "displayName": "santhosh ketha",
      "photoUrl": "https://lh3.googleusercontent.com/a-/AAuE7mCHZoev1Su01c3YSBYi638WPWZaktYecdyTuh8ZMQ=s64",
      "userId": "06963422152123978380"
     },
     "user_tz": -330
    },
    "id": "QDxl95Qy9bLM",
    "outputId": "5b58e30f-5456-4548-9240-af3265f22a03"
   },
   "outputs": [
    {
     "name": "stdout",
     "output_type": "stream",
     "text": [
      "The swapped tuple list is : [('F0002/MID3', 'F0002/MID1'), ('F0002/MID3', 'F0002/MID2'), ('F0005/MID2', 'F0005/MID1'), ('F0005/MID2', 'F0005/MID3'), ('F0009/MID4', 'F0009/MID1')]\n"
     ]
    }
   ],
   "source": [
    "# just swapped members \n",
    "train_swapped = [(sub[1], sub[0]) for sub in train] \n",
    "val_swapped = [(sub[1], sub[0]) for sub in val]          \n",
    "# printing result \n",
    "print(\"The swapped tuple list is : \" + str(train_swapped[0:5]))"
   ]
  },
  {
   "cell_type": "markdown",
   "metadata": {
    "colab_type": "text",
    "id": "0A1b19p2dlzu"
   },
   "source": [
    "#### Creating list of tuples (non blood relative pairs) for training and validation"
   ]
  },
  {
   "cell_type": "code",
   "execution_count": 20,
   "metadata": {
    "colab": {
     "base_uri": "https://localhost:8080/",
     "height": 51
    },
    "colab_type": "code",
    "executionInfo": {
     "elapsed": 42698,
     "status": "ok",
     "timestamp": 1578818075300,
     "user": {
      "displayName": "santhosh ketha",
      "photoUrl": "https://lh3.googleusercontent.com/a-/AAuE7mCHZoev1Su01c3YSBYi638WPWZaktYecdyTuh8ZMQ=s64",
      "userId": "06963422152123978380"
     },
     "user_tz": -330
    },
    "id": "0HIfMuASmS-y",
    "outputId": "ef4efd43-8bd8-4103-da56-8f7e15f6ecb1"
   },
   "outputs": [
    {
     "data": {
      "text/plain": [
       "('NUMBER OF TUPLES CONTAINING ALL POSSIBLE COMBINATION OF PAIRS except validation pairs:',\n",
       " 2138402)"
      ]
     },
     "execution_count": 20,
     "metadata": {
      "tags": []
     },
     "output_type": "execute_result"
    }
   ],
   "source": [
    "import itertools\n",
    "relationships = train_csv  # reading given csv file\n",
    "relationships.drop(relationships.index[3274:3576], inplace=True)# removing val elements from relationship csv\n",
    "\n",
    "non_relation=list(itertools.product(relationships.p1.values, relationships.p2.values))# forming every possible combination pairs which contion both blood and non blood relations\n",
    "non_relation = list(dict.fromkeys(non_relation)) #removing duplicates if any\n",
    "('NUMBER OF TUPLES CONTAINING ALL POSSIBLE COMBINATION OF PAIRS except validation pairs:',len(non_relation))\n"
   ]
  },
  {
   "cell_type": "code",
   "execution_count": 0,
   "metadata": {
    "colab": {},
    "colab_type": "code",
    "id": "OSYKNlVojEY5"
   },
   "outputs": [],
   "source": [
    "# Removing related pairs from non_realtion List \n",
    "for  i in train:\n",
    "    try:\n",
    "        non_relation.remove(i)  # removing related pairs \n",
    "    except   :\n",
    "        continue\n",
    "        \n",
    "#  swap\n",
    "for  i in train_swapped:\n",
    "    try:\n",
    "        non_relation.remove(i)  # removing related pairs \n",
    "    except:\n",
    "        continue\n",
    "\n"
   ]
  },
  {
   "cell_type": "code",
   "execution_count": 22,
   "metadata": {
    "colab": {
     "base_uri": "https://localhost:8080/",
     "height": 34
    },
    "colab_type": "code",
    "executionInfo": {
     "elapsed": 377210,
     "status": "ok",
     "timestamp": 1578818410132,
     "user": {
      "displayName": "santhosh ketha",
      "photoUrl": "https://lh3.googleusercontent.com/a-/AAuE7mCHZoev1Su01c3YSBYi638WPWZaktYecdyTuh8ZMQ=s64",
      "userId": "06963422152123978380"
     },
     "user_tz": -330
    },
    "id": "LWDTiLRa1JLF",
    "outputId": "aca426e0-1da5-4928-a4fe-25037f5330cb"
   },
   "outputs": [
    {
     "data": {
      "text/plain": [
       "21286"
      ]
     },
     "execution_count": 22,
     "metadata": {
      "tags": []
     },
     "output_type": "execute_result"
    }
   ],
   "source": [
    "\n",
    "val_relationships=pd.read_csv(train_file_path)[3274:3576]  #indicies [3274:3576] contains  Val families  'F09' \n",
    "non_relation_val=list(itertools.product(val_relationships.p1.values, val_relationships.p2.values))# forming every possible combination of pairs \n",
    "non_relation_val = list(dict.fromkeys(non_relation_val)) #removing duplicates\n",
    "for  i in val:\n",
    "    try:\n",
    "        non_relation_val.remove(i)  # removing related pairs \n",
    "    except:\n",
    "        continue\n",
    "len(non_relation_val)\n",
    "# for swapped\n",
    "for  i in val_swapped:\n",
    "    try:\n",
    "        non_relation_val.remove(i)  # removing related pairs \n",
    "    except:\n",
    "        continue\n",
    "len(non_relation_val)\n",
    "\n"
   ]
  },
  {
   "cell_type": "code",
   "execution_count": 0,
   "metadata": {
    "colab": {},
    "colab_type": "code",
    "id": "rJsuymbIqJQY"
   },
   "outputs": [],
   "source": [
    "# LIST OF TUPLES WHICH INCLUDES IMAGE PATHS FOR ALL POSSIBLE COMBINATION \n",
    "\n",
    "# FOR RELATION PAIRS \n",
    "a1=[]\n",
    "for i in train:\n",
    "    a=list(train_person_to_images_map[i[0]])\n",
    "    b=list(train_person_to_images_map[i[1]])\n",
    "    a1.append(list(itertools.product(a,b)))\n",
    "\n",
    "\n",
    "# FOR NON-RELATION PAIRS \n",
    "a2=[]\n",
    "for i in non_relation:\n",
    "    a=list(train_person_to_images_map[i[0]])\n",
    "    b=list(train_person_to_images_map[i[1]])\n",
    "    a2.append(list(zip(a,b)))\n"
   ]
  },
  {
   "cell_type": "code",
   "execution_count": 0,
   "metadata": {
    "colab": {},
    "colab_type": "code",
    "id": "NSwR6M0zvvby"
   },
   "outputs": [],
   "source": [
    "# for validation\n",
    "a1_val=[]\n",
    "for i in val:\n",
    "    a=list(val_person_to_images_map[i[0]])\n",
    "    b=list(val_person_to_images_map[i[1]])\n",
    "    a1_val.append(list(zip(a,b)))\n",
    "a2_val=[]\n",
    "for i in non_relation_val:\n",
    "    a=list(val_person_to_images_map[i[0]])\n",
    "    b=list(val_person_to_images_map[i[1]])\n",
    "    a2_val.append(list(itertools.product(a,b)))"
   ]
  },
  {
   "cell_type": "code",
   "execution_count": 25,
   "metadata": {
    "colab": {
     "base_uri": "https://localhost:8080/",
     "height": 34
    },
    "colab_type": "code",
    "executionInfo": {
     "elapsed": 383891,
     "status": "ok",
     "timestamp": 1578818417368,
     "user": {
      "displayName": "santhosh ketha",
      "photoUrl": "https://lh3.googleusercontent.com/a-/AAuE7mCHZoev1Su01c3YSBYi638WPWZaktYecdyTuh8ZMQ=s64",
      "userId": "06963422152123978380"
     },
     "user_tz": -330
    },
    "id": "wX-mrVhrK3gx",
    "outputId": "c86381c6-6ee7-418a-b7cf-19e3b431cd71"
   },
   "outputs": [
    {
     "data": {
      "text/plain": [
       "515588"
      ]
     },
     "execution_count": 25,
     "metadata": {
      "tags": []
     },
     "output_type": "execute_result"
    }
   ],
   "source": [
    "import itertools\n",
    "# CREATING FLATTEN LIST OUT OF LISTS OF LISTS\n",
    "\n",
    "# for label 1\n",
    "merged = list(itertools.chain(*a1))\n",
    "\n",
    "# for label 0\n",
    "merged1 = list(itertools.chain(*a2))\n",
    "\n",
    "\n",
    "#for val\n",
    "merged_val = list(itertools.chain(*a1_val))\n",
    "\n",
    "# for label 0\n",
    "merged1_val = list(itertools.chain(*a2_val))\n",
    "len(merged1_val)\n",
    "\n"
   ]
  },
  {
   "cell_type": "markdown",
   "metadata": {
    "colab_type": "text",
    "id": "Ph_izT_Tk2h7"
   },
   "source": [
    "## Creating data frame"
   ]
  },
  {
   "cell_type": "markdown",
   "metadata": {
    "colab_type": "text",
    "id": "v7GbQL8RlttZ"
   },
   "source": [
    "###  Train Data frame "
   ]
  },
  {
   "cell_type": "code",
   "execution_count": 26,
   "metadata": {
    "colab": {
     "base_uri": "https://localhost:8080/",
     "height": 238
    },
    "colab_type": "code",
    "executionInfo": {
     "elapsed": 383277,
     "status": "ok",
     "timestamp": 1578818417370,
     "user": {
      "displayName": "santhosh ketha",
      "photoUrl": "https://lh3.googleusercontent.com/a-/AAuE7mCHZoev1Su01c3YSBYi638WPWZaktYecdyTuh8ZMQ=s64",
      "userId": "06963422152123978380"
     },
     "user_tz": -330
    },
    "id": "8izznLEJK-Zd",
    "outputId": "7e28c262-f2a0-427c-ac75-585a04bb5800"
   },
   "outputs": [
    {
     "name": "stdout",
     "output_type": "stream",
     "text": [
      "(157711, 3)\n",
      "DATA FRAME CONTAINS BLOOD RELATIVE PAIRS OF IMAGE PATHS FOR training\n"
     ]
    },
    {
     "data": {
      "text/html": [
       "<div>\n",
       "<style scoped>\n",
       "    .dataframe tbody tr th:only-of-type {\n",
       "        vertical-align: middle;\n",
       "    }\n",
       "\n",
       "    .dataframe tbody tr th {\n",
       "        vertical-align: top;\n",
       "    }\n",
       "\n",
       "    .dataframe thead th {\n",
       "        text-align: right;\n",
       "    }\n",
       "</style>\n",
       "<table border=\"1\" class=\"dataframe\">\n",
       "  <thead>\n",
       "    <tr style=\"text-align: right;\">\n",
       "      <th></th>\n",
       "      <th>0</th>\n",
       "      <th>1</th>\n",
       "      <th>class</th>\n",
       "    </tr>\n",
       "  </thead>\n",
       "  <tbody>\n",
       "    <tr>\n",
       "      <th>0</th>\n",
       "      <td>train/F0157/MID2/P01678_face1.jpg</td>\n",
       "      <td>train/F0157/MID3/P01679_face3.jpg</td>\n",
       "      <td>1</td>\n",
       "    </tr>\n",
       "    <tr>\n",
       "      <th>1</th>\n",
       "      <td>train/F0601/MID5/P06337_face2.jpg</td>\n",
       "      <td>train/F0601/MID9/P06279_face2.jpg</td>\n",
       "      <td>1</td>\n",
       "    </tr>\n",
       "    <tr>\n",
       "      <th>2</th>\n",
       "      <td>train/F0540/MID1/P05668_face2.jpg</td>\n",
       "      <td>train/F0540/MID2/P05665_face1.jpg</td>\n",
       "      <td>1</td>\n",
       "    </tr>\n",
       "    <tr>\n",
       "      <th>3</th>\n",
       "      <td>train/F0891/MID2/P09402_face2.jpg</td>\n",
       "      <td>train/F0891/MID3/P09404_face3.jpg</td>\n",
       "      <td>1</td>\n",
       "    </tr>\n",
       "    <tr>\n",
       "      <th>4</th>\n",
       "      <td>train/F0425/MID6/P11485_face6.jpg</td>\n",
       "      <td>train/F0425/MID10/P11485_face4.jpg</td>\n",
       "      <td>1</td>\n",
       "    </tr>\n",
       "  </tbody>\n",
       "</table>\n",
       "</div>"
      ],
      "text/plain": [
       "                                   0                                   1  class\n",
       "0  train/F0157/MID2/P01678_face1.jpg   train/F0157/MID3/P01679_face3.jpg      1\n",
       "1  train/F0601/MID5/P06337_face2.jpg   train/F0601/MID9/P06279_face2.jpg      1\n",
       "2  train/F0540/MID1/P05668_face2.jpg   train/F0540/MID2/P05665_face1.jpg      1\n",
       "3  train/F0891/MID2/P09402_face2.jpg   train/F0891/MID3/P09404_face3.jpg      1\n",
       "4  train/F0425/MID6/P11485_face6.jpg  train/F0425/MID10/P11485_face4.jpg      1"
      ]
     },
     "execution_count": 26,
     "metadata": {
      "tags": []
     },
     "output_type": "execute_result"
    }
   ],
   "source": [
    "frame=pd.DataFrame(merged)\n",
    "frame['class']=1\n",
    "frame.drop(frame[frame[0].values==frame[1].values].index, inplace = True) # Removing identical rows if any\n",
    "frame= frame.sample(frac=1).reset_index(drop=True)# shuffing data in data frame\n",
    "print(frame.shape)\n",
    "print('DATA FRAME CONTAINS BLOOD RELATIVE PAIRS OF IMAGE PATHS FOR training')\n",
    "frame.head()"
   ]
  },
  {
   "cell_type": "code",
   "execution_count": 27,
   "metadata": {
    "colab": {
     "base_uri": "https://localhost:8080/",
     "height": 238
    },
    "colab_type": "code",
    "executionInfo": {
     "elapsed": 2858,
     "status": "ok",
     "timestamp": 1578818927919,
     "user": {
      "displayName": "santhosh ketha",
      "photoUrl": "https://lh3.googleusercontent.com/a-/AAuE7mCHZoev1Su01c3YSBYi638WPWZaktYecdyTuh8ZMQ=s64",
      "userId": "06963422152123978380"
     },
     "user_tz": -330
    },
    "id": "pVFuuewYMa7l",
    "outputId": "e2acc5dc-9644-4d75-cd32-e5dd87182d44"
   },
   "outputs": [
    {
     "name": "stdout",
     "output_type": "stream",
     "text": [
      "DATA FRAME CONTAINS NON-BLOOD RELATIVE PAIRS OF IMAGE PATHS FOR training\n",
      "(157711, 3)\n"
     ]
    },
    {
     "data": {
      "text/html": [
       "<div>\n",
       "<style scoped>\n",
       "    .dataframe tbody tr th:only-of-type {\n",
       "        vertical-align: middle;\n",
       "    }\n",
       "\n",
       "    .dataframe tbody tr th {\n",
       "        vertical-align: top;\n",
       "    }\n",
       "\n",
       "    .dataframe thead th {\n",
       "        text-align: right;\n",
       "    }\n",
       "</style>\n",
       "<table border=\"1\" class=\"dataframe\">\n",
       "  <thead>\n",
       "    <tr style=\"text-align: right;\">\n",
       "      <th></th>\n",
       "      <th>0</th>\n",
       "      <th>1</th>\n",
       "      <th>class</th>\n",
       "    </tr>\n",
       "  </thead>\n",
       "  <tbody>\n",
       "    <tr>\n",
       "      <th>0</th>\n",
       "      <td>train/F0203/MID2/P02183_face2.jpg</td>\n",
       "      <td>train/F0421/MID6/P04423_face9.jpg</td>\n",
       "      <td>0</td>\n",
       "    </tr>\n",
       "    <tr>\n",
       "      <th>1</th>\n",
       "      <td>train/F0281/MID2/P02990_face2.jpg</td>\n",
       "      <td>train/F0009/MID1/P10577_face3.jpg</td>\n",
       "      <td>0</td>\n",
       "    </tr>\n",
       "    <tr>\n",
       "      <th>2</th>\n",
       "      <td>train/F0711/MID3/P07436_face4.jpg</td>\n",
       "      <td>train/F0696/MID1/P07251_face2.jpg</td>\n",
       "      <td>0</td>\n",
       "    </tr>\n",
       "    <tr>\n",
       "      <th>3</th>\n",
       "      <td>train/F0686/MID1/P10053_face4.jpg</td>\n",
       "      <td>train/F0198/MID4/P02127_face4.jpg</td>\n",
       "      <td>0</td>\n",
       "    </tr>\n",
       "    <tr>\n",
       "      <th>4</th>\n",
       "      <td>train/F0516/MID3/P05437_face2.jpg</td>\n",
       "      <td>train/F0794/MID5/P08366_face2.jpg</td>\n",
       "      <td>0</td>\n",
       "    </tr>\n",
       "  </tbody>\n",
       "</table>\n",
       "</div>"
      ],
      "text/plain": [
       "                                   0                                  1  class\n",
       "0  train/F0203/MID2/P02183_face2.jpg  train/F0421/MID6/P04423_face9.jpg      0\n",
       "1  train/F0281/MID2/P02990_face2.jpg  train/F0009/MID1/P10577_face3.jpg      0\n",
       "2  train/F0711/MID3/P07436_face4.jpg  train/F0696/MID1/P07251_face2.jpg      0\n",
       "3  train/F0686/MID1/P10053_face4.jpg  train/F0198/MID4/P02127_face4.jpg      0\n",
       "4  train/F0516/MID3/P05437_face2.jpg  train/F0794/MID5/P08366_face2.jpg      0"
      ]
     },
     "execution_count": 27,
     "metadata": {
      "tags": []
     },
     "output_type": "execute_result"
    }
   ],
   "source": [
    "frame1=pd.DataFrame(merged1)\n",
    "frame1['class']=0\n",
    "frame1.drop(frame1[frame1[0].values==frame1[1].values].index, inplace = True) \n",
    "frame1= frame1.sample(frame.shape[0], replace=False).reset_index(drop=True)\n",
    "\n",
    "print('DATA FRAME CONTAINS NON-BLOOD RELATIVE PAIRS OF IMAGE PATHS FOR training')\n",
    "print(frame1.shape)\n",
    "frame1.head()"
   ]
  },
  {
   "cell_type": "code",
   "execution_count": 28,
   "metadata": {
    "colab": {
     "base_uri": "https://localhost:8080/",
     "height": 419
    },
    "colab_type": "code",
    "executionInfo": {
     "elapsed": 2150,
     "status": "ok",
     "timestamp": 1578818927920,
     "user": {
      "displayName": "santhosh ketha",
      "photoUrl": "https://lh3.googleusercontent.com/a-/AAuE7mCHZoev1Su01c3YSBYi638WPWZaktYecdyTuh8ZMQ=s64",
      "userId": "06963422152123978380"
     },
     "user_tz": -330
    },
    "id": "FV_Qe-cOrZx_",
    "outputId": "842e95bb-6e59-4fc6-ccba-266dfd646d46"
   },
   "outputs": [
    {
     "data": {
      "text/html": [
       "<div>\n",
       "<style scoped>\n",
       "    .dataframe tbody tr th:only-of-type {\n",
       "        vertical-align: middle;\n",
       "    }\n",
       "\n",
       "    .dataframe tbody tr th {\n",
       "        vertical-align: top;\n",
       "    }\n",
       "\n",
       "    .dataframe thead th {\n",
       "        text-align: right;\n",
       "    }\n",
       "</style>\n",
       "<table border=\"1\" class=\"dataframe\">\n",
       "  <thead>\n",
       "    <tr style=\"text-align: right;\">\n",
       "      <th></th>\n",
       "      <th>0</th>\n",
       "      <th>1</th>\n",
       "      <th>class</th>\n",
       "    </tr>\n",
       "  </thead>\n",
       "  <tbody>\n",
       "    <tr>\n",
       "      <th>0</th>\n",
       "      <td>train/F0124/MID1/P08623_face1.jpg</td>\n",
       "      <td>train/F0617/MID3/P06473_face1.jpg</td>\n",
       "      <td>0</td>\n",
       "    </tr>\n",
       "    <tr>\n",
       "      <th>1</th>\n",
       "      <td>train/F0516/MID3/P05437_face2.jpg</td>\n",
       "      <td>train/F0464/MID3/P04895_face2.jpg</td>\n",
       "      <td>0</td>\n",
       "    </tr>\n",
       "    <tr>\n",
       "      <th>2</th>\n",
       "      <td>train/F0811/MID1/P08570_face1.jpg</td>\n",
       "      <td>train/F0168/MID3/P01812_face2.jpg</td>\n",
       "      <td>0</td>\n",
       "    </tr>\n",
       "    <tr>\n",
       "      <th>3</th>\n",
       "      <td>train/F0582/MID1/P06117_face3.jpg</td>\n",
       "      <td>train/F0146/MID4/P01571_face5.jpg</td>\n",
       "      <td>0</td>\n",
       "    </tr>\n",
       "    <tr>\n",
       "      <th>4</th>\n",
       "      <td>train/F0812/MID1/P08582_face4.jpg</td>\n",
       "      <td>train/F0812/MID3/P08581_face1.jpg</td>\n",
       "      <td>1</td>\n",
       "    </tr>\n",
       "    <tr>\n",
       "      <th>...</th>\n",
       "      <td>...</td>\n",
       "      <td>...</td>\n",
       "      <td>...</td>\n",
       "    </tr>\n",
       "    <tr>\n",
       "      <th>315417</th>\n",
       "      <td>train/F0601/MID19/P12008_face1.jpg</td>\n",
       "      <td>train/F0601/MID6/P06332_face1.jpg</td>\n",
       "      <td>1</td>\n",
       "    </tr>\n",
       "    <tr>\n",
       "      <th>315418</th>\n",
       "      <td>train/F0530/MID1/P05572_face2.jpg</td>\n",
       "      <td>train/F0332/MID6/P03520_face4.jpg</td>\n",
       "      <td>0</td>\n",
       "    </tr>\n",
       "    <tr>\n",
       "      <th>315419</th>\n",
       "      <td>train/F0552/MID2/P05791_face2.jpg</td>\n",
       "      <td>train/F0552/MID4/P05791_face5.jpg</td>\n",
       "      <td>1</td>\n",
       "    </tr>\n",
       "    <tr>\n",
       "      <th>315420</th>\n",
       "      <td>train/F0198/MID3/P02125_face4.jpg</td>\n",
       "      <td>train/F0365/MID1/P03865_face2.jpg</td>\n",
       "      <td>0</td>\n",
       "    </tr>\n",
       "    <tr>\n",
       "      <th>315421</th>\n",
       "      <td>train/F0783/MID4/P08267_face1.jpg</td>\n",
       "      <td>train/F0639/MID3/P06712_face2.jpg</td>\n",
       "      <td>0</td>\n",
       "    </tr>\n",
       "  </tbody>\n",
       "</table>\n",
       "<p>315422 rows × 3 columns</p>\n",
       "</div>"
      ],
      "text/plain": [
       "                                         0  ... class\n",
       "0        train/F0124/MID1/P08623_face1.jpg  ...     0\n",
       "1        train/F0516/MID3/P05437_face2.jpg  ...     0\n",
       "2        train/F0811/MID1/P08570_face1.jpg  ...     0\n",
       "3        train/F0582/MID1/P06117_face3.jpg  ...     0\n",
       "4        train/F0812/MID1/P08582_face4.jpg  ...     1\n",
       "...                                    ...  ...   ...\n",
       "315417  train/F0601/MID19/P12008_face1.jpg  ...     1\n",
       "315418   train/F0530/MID1/P05572_face2.jpg  ...     0\n",
       "315419   train/F0552/MID2/P05791_face2.jpg  ...     1\n",
       "315420   train/F0198/MID3/P02125_face4.jpg  ...     0\n",
       "315421   train/F0783/MID4/P08267_face1.jpg  ...     0\n",
       "\n",
       "[315422 rows x 3 columns]"
      ]
     },
     "execution_count": 28,
     "metadata": {
      "tags": []
     },
     "output_type": "execute_result"
    }
   ],
   "source": [
    "df_train=pd.concat([frame,frame1])\n",
    "df_train =df_train.sample(frac=1).reset_index(drop=True)\n",
    "df_train"
   ]
  },
  {
   "cell_type": "code",
   "execution_count": 29,
   "metadata": {
    "colab": {
     "base_uri": "https://localhost:8080/",
     "height": 34
    },
    "colab_type": "code",
    "executionInfo": {
     "elapsed": 1667,
     "status": "ok",
     "timestamp": 1578818927920,
     "user": {
      "displayName": "santhosh ketha",
      "photoUrl": "https://lh3.googleusercontent.com/a-/AAuE7mCHZoev1Su01c3YSBYi638WPWZaktYecdyTuh8ZMQ=s64",
      "userId": "06963422152123978380"
     },
     "user_tz": -330
    },
    "id": "mRvnRjICvDM3",
    "outputId": "efb6f47f-65e2-4a9e-aa7a-6cadd8368ef3"
   },
   "outputs": [
    {
     "name": "stdout",
     "output_type": "stream",
     "text": [
      "In train numbers of label 1 pairs is 157711 and label 0 pairs 157711\n"
     ]
    }
   ],
   "source": [
    "print('In train numbers of label 1 pairs is {} and label 0 pairs {}'.format(frame.shape[0],frame1.shape[0]))"
   ]
  },
  {
   "cell_type": "markdown",
   "metadata": {
    "colab_type": "text",
    "id": "Ax8JYNwzmDCm"
   },
   "source": [
    "###  Validation Data frame "
   ]
  },
  {
   "cell_type": "code",
   "execution_count": 30,
   "metadata": {
    "colab": {
     "base_uri": "https://localhost:8080/",
     "height": 238
    },
    "colab_type": "code",
    "executionInfo": {
     "elapsed": 1637,
     "status": "ok",
     "timestamp": 1578818932722,
     "user": {
      "displayName": "santhosh ketha",
      "photoUrl": "https://lh3.googleusercontent.com/a-/AAuE7mCHZoev1Su01c3YSBYi638WPWZaktYecdyTuh8ZMQ=s64",
      "userId": "06963422152123978380"
     },
     "user_tz": -330
    },
    "id": "ojWCmABT_IbP",
    "outputId": "dbc550b5-ed5b-40d4-967e-8eb49356784f"
   },
   "outputs": [
    {
     "name": "stdout",
     "output_type": "stream",
     "text": [
      "DATA FRAME CONTAINS BLOOD RELATIVE PAIRS OF IMAGE PATHS FOR Validation\n",
      "(997, 3)\n"
     ]
    },
    {
     "data": {
      "text/html": [
       "<div>\n",
       "<style scoped>\n",
       "    .dataframe tbody tr th:only-of-type {\n",
       "        vertical-align: middle;\n",
       "    }\n",
       "\n",
       "    .dataframe tbody tr th {\n",
       "        vertical-align: top;\n",
       "    }\n",
       "\n",
       "    .dataframe thead th {\n",
       "        text-align: right;\n",
       "    }\n",
       "</style>\n",
       "<table border=\"1\" class=\"dataframe\">\n",
       "  <thead>\n",
       "    <tr style=\"text-align: right;\">\n",
       "      <th></th>\n",
       "      <th>0</th>\n",
       "      <th>1</th>\n",
       "      <th>class</th>\n",
       "    </tr>\n",
       "  </thead>\n",
       "  <tbody>\n",
       "    <tr>\n",
       "      <th>0</th>\n",
       "      <td>train/F0914/MID1/P09645_face1.jpg</td>\n",
       "      <td>train/F0914/MID4/P09647_face2.jpg</td>\n",
       "      <td>1</td>\n",
       "    </tr>\n",
       "    <tr>\n",
       "      <th>1</th>\n",
       "      <td>train/F0944/MID2/P09954_face1.jpg</td>\n",
       "      <td>train/F0944/MID3/P09953_face3.jpg</td>\n",
       "      <td>1</td>\n",
       "    </tr>\n",
       "    <tr>\n",
       "      <th>2</th>\n",
       "      <td>train/F0988/MID1/P10416_face2.jpg</td>\n",
       "      <td>train/F0988/MID4/P10414_face4.jpg</td>\n",
       "      <td>1</td>\n",
       "    </tr>\n",
       "    <tr>\n",
       "      <th>3</th>\n",
       "      <td>train/F0944/MID2/P09946_face2.jpg</td>\n",
       "      <td>train/F0944/MID4/P09948_face3.jpg</td>\n",
       "      <td>1</td>\n",
       "    </tr>\n",
       "    <tr>\n",
       "      <th>4</th>\n",
       "      <td>train/F0978/MID4/P10303_face4.jpg</td>\n",
       "      <td>train/F0978/MID5/P10306_face2.jpg</td>\n",
       "      <td>1</td>\n",
       "    </tr>\n",
       "  </tbody>\n",
       "</table>\n",
       "</div>"
      ],
      "text/plain": [
       "                                   0                                  1  class\n",
       "0  train/F0914/MID1/P09645_face1.jpg  train/F0914/MID4/P09647_face2.jpg      1\n",
       "1  train/F0944/MID2/P09954_face1.jpg  train/F0944/MID3/P09953_face3.jpg      1\n",
       "2  train/F0988/MID1/P10416_face2.jpg  train/F0988/MID4/P10414_face4.jpg      1\n",
       "3  train/F0944/MID2/P09946_face2.jpg  train/F0944/MID4/P09948_face3.jpg      1\n",
       "4  train/F0978/MID4/P10303_face4.jpg  train/F0978/MID5/P10306_face2.jpg      1"
      ]
     },
     "execution_count": 30,
     "metadata": {
      "tags": []
     },
     "output_type": "execute_result"
    }
   ],
   "source": [
    "\n",
    "frame_val=pd.DataFrame(merged_val)\n",
    "frame_val['class']=1\n",
    "frame_val.drop(frame_val[frame_val[0].values==frame_val[1].values].index, inplace = True) \n",
    "frame_val= frame_val.sample(frac=1).reset_index(drop=True)# shuffing data in data frame\n",
    "print('DATA FRAME CONTAINS BLOOD RELATIVE PAIRS OF IMAGE PATHS FOR Validation')\n",
    "print(frame_val.shape)\n",
    "frame_val.head()"
   ]
  },
  {
   "cell_type": "code",
   "execution_count": 31,
   "metadata": {
    "colab": {
     "base_uri": "https://localhost:8080/",
     "height": 238
    },
    "colab_type": "code",
    "executionInfo": {
     "elapsed": 2193,
     "status": "ok",
     "timestamp": 1578818933545,
     "user": {
      "displayName": "santhosh ketha",
      "photoUrl": "https://lh3.googleusercontent.com/a-/AAuE7mCHZoev1Su01c3YSBYi638WPWZaktYecdyTuh8ZMQ=s64",
      "userId": "06963422152123978380"
     },
     "user_tz": -330
    },
    "id": "LdlmiWY5_dVT",
    "outputId": "296a14af-2a1a-49a8-e19a-8d5b39a6c635"
   },
   "outputs": [
    {
     "name": "stdout",
     "output_type": "stream",
     "text": [
      "DATA FRAME CONTAINS NON-BLOOD RELATIVE PAIRS OF IMAGE PATHS FOR Validation\n",
      "(997, 3)\n"
     ]
    },
    {
     "data": {
      "text/html": [
       "<div>\n",
       "<style scoped>\n",
       "    .dataframe tbody tr th:only-of-type {\n",
       "        vertical-align: middle;\n",
       "    }\n",
       "\n",
       "    .dataframe tbody tr th {\n",
       "        vertical-align: top;\n",
       "    }\n",
       "\n",
       "    .dataframe thead th {\n",
       "        text-align: right;\n",
       "    }\n",
       "</style>\n",
       "<table border=\"1\" class=\"dataframe\">\n",
       "  <thead>\n",
       "    <tr style=\"text-align: right;\">\n",
       "      <th></th>\n",
       "      <th>0</th>\n",
       "      <th>1</th>\n",
       "      <th>class</th>\n",
       "    </tr>\n",
       "  </thead>\n",
       "  <tbody>\n",
       "    <tr>\n",
       "      <th>0</th>\n",
       "      <td>train/F0967/MID1/P10192_face2.jpg</td>\n",
       "      <td>train/F0981/MID2/P10334_face1.jpg</td>\n",
       "      <td>0</td>\n",
       "    </tr>\n",
       "    <tr>\n",
       "      <th>1</th>\n",
       "      <td>train/F0930/MID3/P09813_face2.jpg</td>\n",
       "      <td>train/F0903/MID2/P09542_face2.jpg</td>\n",
       "      <td>0</td>\n",
       "    </tr>\n",
       "    <tr>\n",
       "      <th>2</th>\n",
       "      <td>train/F0973/MID1/P10249_face1.jpg</td>\n",
       "      <td>train/F0946/MID2/P09974_face1.jpg</td>\n",
       "      <td>0</td>\n",
       "    </tr>\n",
       "    <tr>\n",
       "      <th>3</th>\n",
       "      <td>train/F0985/MID2/P10377_face1.jpg</td>\n",
       "      <td>train/F0965/MID6/P10169_face1.jpg</td>\n",
       "      <td>0</td>\n",
       "    </tr>\n",
       "    <tr>\n",
       "      <th>4</th>\n",
       "      <td>train/F0903/MID2/P09539_face1.jpg</td>\n",
       "      <td>train/F0988/MID2/P10412_face5.jpg</td>\n",
       "      <td>0</td>\n",
       "    </tr>\n",
       "  </tbody>\n",
       "</table>\n",
       "</div>"
      ],
      "text/plain": [
       "                                   0                                  1  class\n",
       "0  train/F0967/MID1/P10192_face2.jpg  train/F0981/MID2/P10334_face1.jpg      0\n",
       "1  train/F0930/MID3/P09813_face2.jpg  train/F0903/MID2/P09542_face2.jpg      0\n",
       "2  train/F0973/MID1/P10249_face1.jpg  train/F0946/MID2/P09974_face1.jpg      0\n",
       "3  train/F0985/MID2/P10377_face1.jpg  train/F0965/MID6/P10169_face1.jpg      0\n",
       "4  train/F0903/MID2/P09539_face1.jpg  train/F0988/MID2/P10412_face5.jpg      0"
      ]
     },
     "execution_count": 31,
     "metadata": {
      "tags": []
     },
     "output_type": "execute_result"
    }
   ],
   "source": [
    "frame1_val=pd.DataFrame(merged1_val)\n",
    "frame1_val['class']=0\n",
    "frame1_val.drop(frame1_val[frame1_val[0].values==frame1_val[1].values].index, inplace = True) # removing rows if image 1 path and image 2 path  are same\n",
    "frame1_val= frame1_val.sample(frame_val.shape[0], replace=False).reset_index(drop=True)\n",
    "print('DATA FRAME CONTAINS NON-BLOOD RELATIVE PAIRS OF IMAGE PATHS FOR Validation')\n",
    "print(frame1_val.shape)\n",
    "frame1_val.head()"
   ]
  },
  {
   "cell_type": "code",
   "execution_count": 32,
   "metadata": {
    "colab": {
     "base_uri": "https://localhost:8080/",
     "height": 419
    },
    "colab_type": "code",
    "executionInfo": {
     "elapsed": 1992,
     "status": "ok",
     "timestamp": 1578818933546,
     "user": {
      "displayName": "santhosh ketha",
      "photoUrl": "https://lh3.googleusercontent.com/a-/AAuE7mCHZoev1Su01c3YSBYi638WPWZaktYecdyTuh8ZMQ=s64",
      "userId": "06963422152123978380"
     },
     "user_tz": -330
    },
    "id": "NTihF1f3r1zs",
    "outputId": "b70fffac-07a8-4783-b7dd-aa1d29ea7c25"
   },
   "outputs": [
    {
     "data": {
      "text/html": [
       "<div>\n",
       "<style scoped>\n",
       "    .dataframe tbody tr th:only-of-type {\n",
       "        vertical-align: middle;\n",
       "    }\n",
       "\n",
       "    .dataframe tbody tr th {\n",
       "        vertical-align: top;\n",
       "    }\n",
       "\n",
       "    .dataframe thead th {\n",
       "        text-align: right;\n",
       "    }\n",
       "</style>\n",
       "<table border=\"1\" class=\"dataframe\">\n",
       "  <thead>\n",
       "    <tr style=\"text-align: right;\">\n",
       "      <th></th>\n",
       "      <th>0</th>\n",
       "      <th>1</th>\n",
       "      <th>class</th>\n",
       "    </tr>\n",
       "  </thead>\n",
       "  <tbody>\n",
       "    <tr>\n",
       "      <th>0</th>\n",
       "      <td>train/F0955/MID6/P10069_face2.jpg</td>\n",
       "      <td>train/F0955/MID9/P10067_face2.jpg</td>\n",
       "      <td>1</td>\n",
       "    </tr>\n",
       "    <tr>\n",
       "      <th>1</th>\n",
       "      <td>train/F0959/MID1/P10104_face1.jpg</td>\n",
       "      <td>train/F0959/MID4/P10108_face3.jpg</td>\n",
       "      <td>1</td>\n",
       "    </tr>\n",
       "    <tr>\n",
       "      <th>2</th>\n",
       "      <td>train/F0988/MID3/P10408_face2.jpg</td>\n",
       "      <td>train/F0985/MID4/P10380_face1.jpg</td>\n",
       "      <td>0</td>\n",
       "    </tr>\n",
       "    <tr>\n",
       "      <th>3</th>\n",
       "      <td>train/F0994/MID1/P10478_face1.jpg</td>\n",
       "      <td>train/F0994/MID2/P10478_face2.jpg</td>\n",
       "      <td>1</td>\n",
       "    </tr>\n",
       "    <tr>\n",
       "      <th>4</th>\n",
       "      <td>train/F0988/MID1/P10417_face2.jpg</td>\n",
       "      <td>train/F0988/MID6/P10408_face6.jpg</td>\n",
       "      <td>1</td>\n",
       "    </tr>\n",
       "    <tr>\n",
       "      <th>...</th>\n",
       "      <td>...</td>\n",
       "      <td>...</td>\n",
       "      <td>...</td>\n",
       "    </tr>\n",
       "    <tr>\n",
       "      <th>1989</th>\n",
       "      <td>train/F0916/MID1/P09669_face1.jpg</td>\n",
       "      <td>train/F0978/MID2/P10303_face5.jpg</td>\n",
       "      <td>0</td>\n",
       "    </tr>\n",
       "    <tr>\n",
       "      <th>1990</th>\n",
       "      <td>train/F0959/MID5/P10103_face4.jpg</td>\n",
       "      <td>train/F0959/MID2/P10104_face3.jpg</td>\n",
       "      <td>1</td>\n",
       "    </tr>\n",
       "    <tr>\n",
       "      <th>1991</th>\n",
       "      <td>train/F0984/MID1/P10369_face13.jpg</td>\n",
       "      <td>train/F0984/MID6/P10369_face9.jpg</td>\n",
       "      <td>1</td>\n",
       "    </tr>\n",
       "    <tr>\n",
       "      <th>1992</th>\n",
       "      <td>train/F0947/MID2/P09979_face1.jpg</td>\n",
       "      <td>train/F0998/MID1/P10547_face4.jpg</td>\n",
       "      <td>0</td>\n",
       "    </tr>\n",
       "    <tr>\n",
       "      <th>1993</th>\n",
       "      <td>train/F0998/MID4/P10540_face2.jpg</td>\n",
       "      <td>train/F0998/MID3/P10544_face1.jpg</td>\n",
       "      <td>1</td>\n",
       "    </tr>\n",
       "  </tbody>\n",
       "</table>\n",
       "<p>1994 rows × 3 columns</p>\n",
       "</div>"
      ],
      "text/plain": [
       "                                       0  ... class\n",
       "0      train/F0955/MID6/P10069_face2.jpg  ...     1\n",
       "1      train/F0959/MID1/P10104_face1.jpg  ...     1\n",
       "2      train/F0988/MID3/P10408_face2.jpg  ...     0\n",
       "3      train/F0994/MID1/P10478_face1.jpg  ...     1\n",
       "4      train/F0988/MID1/P10417_face2.jpg  ...     1\n",
       "...                                  ...  ...   ...\n",
       "1989   train/F0916/MID1/P09669_face1.jpg  ...     0\n",
       "1990   train/F0959/MID5/P10103_face4.jpg  ...     1\n",
       "1991  train/F0984/MID1/P10369_face13.jpg  ...     1\n",
       "1992   train/F0947/MID2/P09979_face1.jpg  ...     0\n",
       "1993   train/F0998/MID4/P10540_face2.jpg  ...     1\n",
       "\n",
       "[1994 rows x 3 columns]"
      ]
     },
     "execution_count": 32,
     "metadata": {
      "tags": []
     },
     "output_type": "execute_result"
    }
   ],
   "source": [
    "df_cv=pd.concat([frame_val,frame1_val])\n",
    "df_cv =df_cv.sample(frac=1).reset_index(drop=True)\n",
    "df_cv "
   ]
  },
  {
   "cell_type": "code",
   "execution_count": 33,
   "metadata": {
    "colab": {
     "base_uri": "https://localhost:8080/",
     "height": 34
    },
    "colab_type": "code",
    "executionInfo": {
     "elapsed": 1823,
     "status": "ok",
     "timestamp": 1578818933546,
     "user": {
      "displayName": "santhosh ketha",
      "photoUrl": "https://lh3.googleusercontent.com/a-/AAuE7mCHZoev1Su01c3YSBYi638WPWZaktYecdyTuh8ZMQ=s64",
      "userId": "06963422152123978380"
     },
     "user_tz": -330
    },
    "id": "AdVB3940vmcs",
    "outputId": "162d5b30-8fe7-4a69-f5cc-310f168ba496"
   },
   "outputs": [
    {
     "name": "stdout",
     "output_type": "stream",
     "text": [
      "In valadition numbers of label 1 pairs is 997 and label 0 pairs 997\n"
     ]
    }
   ],
   "source": [
    "print('In valadition numbers of label 1 pairs is {} and label 0 pairs {}'.format(frame_val.shape[0],frame1_val.shape[0]))"
   ]
  },
  {
   "cell_type": "markdown",
   "metadata": {
    "colab_type": "text",
    "id": "nwGZJtPHqP2j"
   },
   "source": [
    "#### Observation\n",
    "\n",
    "1. Data is hugely imbalanced as we can see label 0 pairs are 99.9 percent of whole data and it's known fact that non_blood relative pairs can be formed with any possible combination excluding related pairs\n",
    "\n",
    "2. We need to somw how balance data while training."
   ]
  },
  {
   "cell_type": "markdown",
   "metadata": {
    "colab_type": "text",
    "id": "cQcSafN4nk5U"
   },
   "source": [
    "# Data generator"
   ]
  },
  {
   "cell_type": "code",
   "execution_count": 0,
   "metadata": {
    "colab": {},
    "colab_type": "code",
    "id": "4GRdtmUyGa1C"
   },
   "outputs": [],
   "source": [
    "from sklearn.utils import shuffle\n",
    "def datagenerator(dataframe0,dataframe1, batch_size):\n",
    "    \"\"\" This data generator generates two numpy arrays specified with equal number of label 1 and label 0 pairs\"\"\"\n",
    "    L0 = len(dataframe0)\n",
    "    L1=len(dataframe1)\n",
    "    \n",
    "    \"\"\"this line is just to make the generator infinite\"\"\"\n",
    "    while True: \n",
    "\n",
    "        batch_start = 0\n",
    "        batch_end = batch_size\n",
    "        \n",
    "        batch_start1 = 0\n",
    "        batch_end1 = batch_size\n",
    "        while  batch_start1<L1-1:\n",
    "            \n",
    "            label=[]\n",
    "            \n",
    "            limit = min(batch_end, L0)\n",
    "           # X1=(dataframe0.sample(batch_size, replace=True)) # using sample to fetch random images paths of label 0 since we have lots label 0 pairs\n",
    "            #X11=np.array([img2arr(i) for i in X1[0]]) # image 1 label 0\n",
    "           # X12=np.array([img2arr(i) for i in X1[1]]) # image 2 label 0\n",
    "           # label.extend([i for i in X1['class']])\n",
    "    \n",
    "\n",
    "\n",
    "            X11=np.array([img2arr(i) for i in dataframe0[0][batch_start:limit]])\n",
    "            X12=np.array([img2arr(i) for i in dataframe0[1][batch_start:limit]])\n",
    "            label.extend([i for i in dataframe0['class'][batch_start:limit]])\n",
    "            \n",
    "  \n",
    "\n",
    "        \n",
    "        \n",
    "            limit = min(batch_end1, L0)\n",
    "           # if (batch_start1-batch_size+1)==L1:\n",
    "             #   batch_start1=0\n",
    "              #  batch_end1 = batch_size\n",
    "           \n",
    "           # fetching label 1 pairs sequencing with every iteration\n",
    "            X21=np.array([img2arr(i) for i in dataframe1[0][batch_start1:limit]])# image 1 label 1\n",
    "            X22=np.array([img2arr(i) for i in dataframe1[1][batch_start1:limit]])# image 2 label 1\n",
    "            label.extend([i for i in dataframe1['class'][batch_start1:limit]])\n",
    "            \n",
    "           \n",
    "            c = np.concatenate((X11, X21), axis=0) # concatenating label 0 and label 1 pairs for image 1\n",
    "            d = np.concatenate((X12, X22), axis=0)  # concatenating label 0 and label 1 pairs for image 2\n",
    "            c, d ,label= shuffle(c, d,label, random_state=43)\n",
    "            yield [c,d],label\n",
    "\n",
    "            batch_start += batch_size   \n",
    "            batch_end += batch_size\n",
    "            batch_start1 += batch_size  \n",
    "            batch_end1 += batch_size\n",
    "            \n",
    "            "
   ]
  },
  {
   "cell_type": "markdown",
   "metadata": {
    "colab_type": "text",
    "id": "Qt4Fef-JZ4-w"
   },
   "source": [
    "##### Defining Image Augmentation"
   ]
  },
  {
   "cell_type": "code",
   "execution_count": 0,
   "metadata": {
    "colab": {},
    "colab_type": "code",
    "id": "erwjf6dGtXaR"
   },
   "outputs": [],
   "source": [
    "import keras.preprocessing\n",
    "from keras_preprocessing.image import ImageDataGenerator\n",
    "\n",
    "datagen = ImageDataGenerator(rotation_range=25,width_shift_range=0.2, height_shift_range=0.2,horizontal_flip=True, vertical_flip=True)"
   ]
  },
  {
   "cell_type": "code",
   "execution_count": 129,
   "metadata": {
    "colab": {
     "base_uri": "https://localhost:8080/",
     "height": 51
    },
    "colab_type": "code",
    "executionInfo": {
     "elapsed": 4580,
     "status": "ok",
     "timestamp": 1578834438754,
     "user": {
      "displayName": "santhosh ketha",
      "photoUrl": "https://lh3.googleusercontent.com/a-/AAuE7mCHZoev1Su01c3YSBYi638WPWZaktYecdyTuh8ZMQ=s64",
      "userId": "06963422152123978380"
     },
     "user_tz": -330
    },
    "id": "NN_LkQvitrau",
    "outputId": "7fa6d8a9-cdad-42df-f0b4-20366d458f9e"
   },
   "outputs": [
    {
     "name": "stdout",
     "output_type": "stream",
     "text": [
      "Found 315422 validated image filenames.\n",
      "Found 315422 validated image filenames.\n"
     ]
    }
   ],
   "source": [
    "image_shape=(224,224)\n",
    "batch_size=24\n",
    "train_generator_1 = datagen.flow_from_dataframe(df_train, target_size=image_shape,# used flow from dataframe\n",
    "                                                    \n",
    "                                                    x_col=0,\n",
    "                                                    y_col='class',\n",
    "                                                    class_mode='raw',\n",
    "                                                 \n",
    "                                                    batch_size=batch_size\n",
    "                                                    )\n",
    "\n",
    "train_generator_2 =datagen.flow_from_dataframe(df_train, target_size=image_shape,\n",
    "                                                    \n",
    "                                                    x_col=1,\n",
    "                                                    y_col='class',\n",
    "                                                    class_mode='raw',\n",
    "                                                   \n",
    "                                                    batch_size=batch_size\n",
    "                                                  )\n"
   ]
  },
  {
   "cell_type": "code",
   "execution_count": 130,
   "metadata": {
    "colab": {
     "base_uri": "https://localhost:8080/",
     "height": 51
    },
    "colab_type": "code",
    "executionInfo": {
     "elapsed": 4299,
     "status": "ok",
     "timestamp": 1578834438755,
     "user": {
      "displayName": "santhosh ketha",
      "photoUrl": "https://lh3.googleusercontent.com/a-/AAuE7mCHZoev1Su01c3YSBYi638WPWZaktYecdyTuh8ZMQ=s64",
      "userId": "06963422152123978380"
     },
     "user_tz": -330
    },
    "id": "O2OkebUduyY7",
    "outputId": "053adc06-847e-4959-cb1b-571203d7664f"
   },
   "outputs": [
    {
     "name": "stdout",
     "output_type": "stream",
     "text": [
      "Found 1994 validated image filenames.\n",
      "Found 1994 validated image filenames.\n"
     ]
    }
   ],
   "source": [
    "\n",
    "train_generator_3 = datagen.flow_from_dataframe(df_cv, target_size=image_shape,\n",
    "                                                    \n",
    "                                                    x_col=0,\n",
    "                                                    y_col='class',\n",
    "                                                    class_mode='raw',\n",
    "                                                 \n",
    "                                                    batch_size=batch_size\n",
    "                                                    )\n",
    "\n",
    "train_generator_4=datagen.flow_from_dataframe(df_cv, target_size=image_shape,\n",
    "                                                    \n",
    "                                                    x_col=1,\n",
    "                                                    y_col='class',\n",
    "                                                    class_mode='raw',\n",
    "                                                   \n",
    "                                                    batch_size=batch_size\n",
    "                                                  )\n"
   ]
  },
  {
   "cell_type": "code",
   "execution_count": 0,
   "metadata": {
    "colab": {},
    "colab_type": "code",
    "id": "pRDwMCkWKQIk"
   },
   "outputs": [],
   "source": [
    "\n",
    "\n",
    "def get_flow_from_dataframe(a,b):\n",
    "    train_generator1=a\n",
    "    train_generator2=b\n",
    "\n",
    "    while True:\n",
    "        x_1 = train_generator1.next()\n",
    "      #  print(x_1)\n",
    "        x_2 = train_generator2.next()\n",
    "\n",
    "        yield [x_1[0], x_2[0]], x_1[1]\n",
    "       "
   ]
  },
  {
   "cell_type": "code",
   "execution_count": 0,
   "metadata": {
    "colab": {},
    "colab_type": "code",
    "id": "Qfx91WxQPlWt"
   },
   "outputs": [],
   "source": [
    "\"\"\"\n",
    "def data_generator(label0_frame,label1_frame,batch_size):\n",
    "    while True:\n",
    "    # this generator is same as above but it is random fetching data  by using 'sample'\n",
    "   \n",
    "        A=[]\n",
    "        while len(A)<batch_size:\n",
    "            \n",
    "            label=[]\n",
    "            X1=(label0_frame.sample(batch_size//2, replace=True))\n",
    "            X2=(label1_frame.sample(batch_size//2, replace=True))\n",
    "            A.append(X1[0])\n",
    "        X11=np.array([img2arr(i) for i in X1[0]])# for label 1 imag 1\n",
    "        X21=np.array([img2arr(i) for i in X2[0]]) # for label 0 image 1\n",
    "        X12=np.array([img2arr(i) for i in X1[1]])# for label 1 image2\n",
    "        X22=np.array([img2arr(i) for i in X2[1]])# for label 0\n",
    "        label.extend([i for i in X1['class']])\n",
    "        label.extend([i for i in X2['class']])\n",
    "\n",
    "        c = np.concatenate((X11, X21), axis=0)\n",
    "        d = np.concatenate((X12, X22), axis=0)\n",
    "            \n",
    "            #print(label)\n",
    "\n",
    "        yield [c,d] ,label\n",
    "\"\"\""
   ]
  },
  {
   "cell_type": "code",
   "execution_count": 40,
   "metadata": {
    "colab": {
     "base_uri": "https://localhost:8080/",
     "height": 34
    },
    "colab_type": "code",
    "executionInfo": {
     "elapsed": 4079,
     "status": "ok",
     "timestamp": 1578818938368,
     "user": {
      "displayName": "santhosh ketha",
      "photoUrl": "https://lh3.googleusercontent.com/a-/AAuE7mCHZoev1Su01c3YSBYi638WPWZaktYecdyTuh8ZMQ=s64",
      "userId": "06963422152123978380"
     },
     "user_tz": -330
    },
    "id": "BynHKiHKG-jx",
    "outputId": "3d8a2f5f-bc74-416a-bfe8-2cb894e3f11c"
   },
   "outputs": [
    {
     "name": "stdout",
     "output_type": "stream",
     "text": [
      "TensorFlow is already loaded. Please restart the runtime to change versions.\n"
     ]
    }
   ],
   "source": [
    "from keras.callbacks import TensorBoard\n",
    "try:\n",
    "  # %tensorflow_version only exists in Colab.\n",
    "  %tensorflow_version 2.x\n",
    "except Exception:\n",
    "  pass\n",
    "\n",
    "# Load the TensorBoard notebook extension\n",
    "%load_ext tensorboard"
   ]
  },
  {
   "cell_type": "markdown",
   "metadata": {
    "colab_type": "text",
    "id": "Dtz4L1fAM2fq"
   },
   "source": [
    "# Model 1"
   ]
  },
  {
   "cell_type": "markdown",
   "metadata": {
    "colab_type": "text",
    "id": "28XNc4KRpZAG"
   },
   "source": [
    "## Model 1a"
   ]
  },
  {
   "cell_type": "code",
   "execution_count": 0,
   "metadata": {
    "colab": {},
    "colab_type": "code",
    "id": "N0njWT8oF_gw"
   },
   "outputs": [],
   "source": [
    "from keras.layers.normalization import BatchNormalization\n",
    "def model_11():\n",
    "  input1=Input(shape=(224,224,3))\n",
    "  input2=Input(shape=(224,224,3))\n",
    "  \n",
    "\n",
    "  base_model=VGGFace(model='resnet50',include_top=False)  # Pretrained model  Vggface\n",
    "  for x in base_model.layers[:-3]:\n",
    "      x.trainable = True\n",
    "\n",
    "  x1=base_model(input1)\n",
    "  x2=base_model(input2)\n",
    "  x1=Dropout(0.2)(x1)\n",
    "  x2=Dropout(0.2)(x2)\n",
    "  x1=Concatenate(axis=-1)([GlobalMaxPool2D()(x1),GlobalAvgPool2D()(x1)])\n",
    "  x2=Concatenate(axis=-1)([GlobalMaxPool2D()(x2),GlobalAvgPool2D()(x2)])\n",
    "\n",
    "  x3=Subtract()([x1,x2])\n",
    "  x3=Multiply()([x3,x3])\n",
    "\n",
    "  x1_=Multiply()([x1,x1])\n",
    "  x2_=Multiply()([x2,x2])\n",
    "  x4=Subtract()([x1_,x2_])\n",
    "\n",
    "  x5=Multiply()([x1,x2])\n",
    "\n",
    "  x=Concatenate(axis=-1)([x3,x4,x5])\n",
    "\n",
    "  x=(BatchNormalization())(x)\n",
    "  \n",
    "  x=Dropout(0.2)(x)\n",
    " \n",
    "  x=Dense(256,activation='relu')(x)\n",
    "  x=(BatchNormalization())(x)\n",
    "  x=Dropout(0.2)(x)\n",
    "  out=Dense(1,activation='sigmoid')(x)\n",
    "\n",
    "  model=Model([input1,input2],out)\n",
    "\n",
    "  model.compile(loss='binary_crossentropy',metrics=['acc',auroc],optimizer=Adam(0.00001))\n",
    "\n",
    "  model.summary()\n",
    "\n",
    "  return model"
   ]
  },
  {
   "cell_type": "code",
   "execution_count": 0,
   "metadata": {
    "colab": {
     "base_uri": "https://localhost:8080/",
     "height": 1000
    },
    "colab_type": "code",
    "executionInfo": {
     "elapsed": 41340,
     "status": "ok",
     "timestamp": 1578710575090,
     "user": {
      "displayName": "santhosh ketha",
      "photoUrl": "https://lh3.googleusercontent.com/a-/AAuE7mCHZoev1Su01c3YSBYi638WPWZaktYecdyTuh8ZMQ=s64",
      "userId": "06963422152123978380"
     },
     "user_tz": -330
    },
    "id": "XOVDVVmsNuDm",
    "outputId": "7b46d37e-2758-488d-96d3-bc788b20c3eb"
   },
   "outputs": [
    {
     "name": "stdout",
     "output_type": "stream",
     "text": [
      "Model: \"model_6\"\n",
      "__________________________________________________________________________________________________\n",
      "Layer (type)                    Output Shape         Param #     Connected to                     \n",
      "==================================================================================================\n",
      "input_16 (InputLayer)           (None, 224, 224, 3)  0                                            \n",
      "__________________________________________________________________________________________________\n",
      "input_17 (InputLayer)           (None, 224, 224, 3)  0                                            \n",
      "__________________________________________________________________________________________________\n",
      "vggface_resnet50 (Model)        multiple             23561152    input_16[0][0]                   \n",
      "                                                                 input_17[0][0]                   \n",
      "__________________________________________________________________________________________________\n",
      "dropout_21 (Dropout)            (None, 1, 1, 2048)   0           vggface_resnet50[1][0]           \n",
      "__________________________________________________________________________________________________\n",
      "dropout_22 (Dropout)            (None, 1, 1, 2048)   0           vggface_resnet50[2][0]           \n",
      "__________________________________________________________________________________________________\n",
      "global_max_pooling2d_11 (Global (None, 2048)         0           dropout_21[0][0]                 \n",
      "__________________________________________________________________________________________________\n",
      "global_average_pooling2d_11 (Gl (None, 2048)         0           dropout_21[0][0]                 \n",
      "__________________________________________________________________________________________________\n",
      "global_max_pooling2d_12 (Global (None, 2048)         0           dropout_22[0][0]                 \n",
      "__________________________________________________________________________________________________\n",
      "global_average_pooling2d_12 (Gl (None, 2048)         0           dropout_22[0][0]                 \n",
      "__________________________________________________________________________________________________\n",
      "concatenate_16 (Concatenate)    (None, 4096)         0           global_max_pooling2d_11[0][0]    \n",
      "                                                                 global_average_pooling2d_11[0][0]\n",
      "__________________________________________________________________________________________________\n",
      "concatenate_17 (Concatenate)    (None, 4096)         0           global_max_pooling2d_12[0][0]    \n",
      "                                                                 global_average_pooling2d_12[0][0]\n",
      "__________________________________________________________________________________________________\n",
      "subtract_11 (Subtract)          (None, 4096)         0           concatenate_16[0][0]             \n",
      "                                                                 concatenate_17[0][0]             \n",
      "__________________________________________________________________________________________________\n",
      "multiply_22 (Multiply)          (None, 4096)         0           concatenate_16[0][0]             \n",
      "                                                                 concatenate_16[0][0]             \n",
      "__________________________________________________________________________________________________\n",
      "multiply_23 (Multiply)          (None, 4096)         0           concatenate_17[0][0]             \n",
      "                                                                 concatenate_17[0][0]             \n",
      "__________________________________________________________________________________________________\n",
      "multiply_21 (Multiply)          (None, 4096)         0           subtract_11[0][0]                \n",
      "                                                                 subtract_11[0][0]                \n",
      "__________________________________________________________________________________________________\n",
      "subtract_12 (Subtract)          (None, 4096)         0           multiply_22[0][0]                \n",
      "                                                                 multiply_23[0][0]                \n",
      "__________________________________________________________________________________________________\n",
      "multiply_24 (Multiply)          (None, 4096)         0           concatenate_16[0][0]             \n",
      "                                                                 concatenate_17[0][0]             \n",
      "__________________________________________________________________________________________________\n",
      "concatenate_18 (Concatenate)    (None, 12288)        0           multiply_21[0][0]                \n",
      "                                                                 subtract_12[0][0]                \n",
      "                                                                 multiply_24[0][0]                \n",
      "__________________________________________________________________________________________________\n",
      "batch_normalization_11 (BatchNo (None, 12288)        49152       concatenate_18[0][0]             \n",
      "__________________________________________________________________________________________________\n",
      "dropout_23 (Dropout)            (None, 12288)        0           batch_normalization_11[0][0]     \n",
      "__________________________________________________________________________________________________\n",
      "dense_11 (Dense)                (None, 256)          3145984     dropout_23[0][0]                 \n",
      "__________________________________________________________________________________________________\n",
      "batch_normalization_12 (BatchNo (None, 256)          1024        dense_11[0][0]                   \n",
      "__________________________________________________________________________________________________\n",
      "dropout_24 (Dropout)            (None, 256)          0           batch_normalization_12[0][0]     \n",
      "__________________________________________________________________________________________________\n",
      "dense_12 (Dense)                (None, 1)            257         dropout_24[0][0]                 \n",
      "==================================================================================================\n",
      "Total params: 26,757,569\n",
      "Trainable params: 26,679,361\n",
      "Non-trainable params: 78,208\n",
      "__________________________________________________________________________________________________\n"
     ]
    }
   ],
   "source": [
    "import warnings\n",
    "from keras.callbacks import ModelCheckpoint, ReduceLROnPlateau\n",
    "model1=model_11()\n",
    "#model.load_weights('1_model_weights.h5')\n",
    "file_path='my_model_11.hdf5'\n",
    "log_dir='model1'\n",
    "tensorboard_callback = TensorBoard(log_dir=log_dir)\n",
    "reduce_on_plateau = ReduceLROnPlateau(monitor=\"val_acc\", mode=\"max\", factor=0.1, patience=20, verbose=1)\n",
    "checkpoint=ModelCheckpoint(file_path,monitor='val_acc',verbose=1,save_best_only=True,mode='max') #Saves the best model based on val_acc\n",
    "callbacks_list=[reduce_on_plateau,checkpoint,tensorboard_callback]\n"
   ]
  },
  {
   "cell_type": "code",
   "execution_count": 0,
   "metadata": {
    "colab": {
     "base_uri": "https://localhost:8080/",
     "height": 649
    },
    "colab_type": "code",
    "id": "5Vb1sNvXN7CY",
    "outputId": "d8600b17-6894-4646-ac56-17479290884b"
   },
   "outputs": [
    {
     "name": "stderr",
     "output_type": "stream",
     "text": [
      "/usr/local/lib/python3.6/dist-packages/keras/engine/training_generator.py:49: UserWarning: Using a generator with `use_multiprocessing=True` and multiple workers may duplicate your data. Please consider using the `keras.utils.Sequence class.\n",
      "  UserWarning('Using a generator with `use_multiprocessing=True`'\n"
     ]
    },
    {
     "name": "stdout",
     "output_type": "stream",
     "text": [
      "Epoch 1/16\n",
      "200/200 [==============================] - 122s 609ms/step - loss: 0.7795 - acc: 0.5854 - auroc: 0.6106 - val_loss: 0.6999 - val_acc: 0.5886 - val_auroc: 0.6324\n",
      "\n",
      "Epoch 00001: val_acc improved from -inf to 0.58857, saving model to my_model_11.hdf5\n",
      "Epoch 2/16\n",
      "200/200 [==============================] - 92s 461ms/step - loss: 0.7203 - acc: 0.6129 - auroc: 0.6611 - val_loss: 0.6616 - val_acc: 0.6414 - val_auroc: 0.6880\n",
      "\n",
      "Epoch 00002: val_acc improved from 0.58857 to 0.64143, saving model to my_model_11.hdf5\n",
      "Epoch 3/16\n",
      "200/200 [==============================] - 92s 459ms/step - loss: 0.6619 - acc: 0.6605 - auroc: 0.7188 - val_loss: 0.6302 - val_acc: 0.6696 - val_auroc: 0.7354\n",
      "\n",
      "Epoch 00003: val_acc improved from 0.64143 to 0.66962, saving model to my_model_11.hdf5\n",
      "Epoch 4/16\n",
      "200/200 [==============================] - 92s 459ms/step - loss: 0.6450 - acc: 0.6764 - auroc: 0.7402 - val_loss: 0.5753 - val_acc: 0.6957 - val_auroc: 0.7810\n",
      "\n",
      "Epoch 00004: val_acc improved from 0.66962 to 0.69571, saving model to my_model_11.hdf5\n",
      "Epoch 5/16\n",
      "200/200 [==============================] - 92s 459ms/step - loss: 0.5902 - acc: 0.7071 - auroc: 0.7800 - val_loss: 0.5655 - val_acc: 0.7143 - val_auroc: 0.8198\n",
      "\n",
      "Epoch 00005: val_acc improved from 0.69571 to 0.71429, saving model to my_model_11.hdf5\n",
      "Epoch 6/16\n",
      "200/200 [==============================] - 92s 458ms/step - loss: 0.5636 - acc: 0.7259 - auroc: 0.8027 - val_loss: 0.5577 - val_acc: 0.7371 - val_auroc: 0.8231\n",
      "\n",
      "Epoch 00006: val_acc improved from 0.71429 to 0.73709, saving model to my_model_11.hdf5\n",
      "Epoch 7/16\n",
      "200/200 [==============================] - 92s 458ms/step - loss: 0.5707 - acc: 0.7295 - auroc: 0.8059 - val_loss: 0.5593 - val_acc: 0.7300 - val_auroc: 0.8341\n",
      "\n",
      "Epoch 00007: val_acc did not improve from 0.73709\n",
      "Epoch 8/16\n",
      "200/200 [==============================] - 92s 459ms/step - loss: 0.5492 - acc: 0.7329 - auroc: 0.8162 - val_loss: 0.5335 - val_acc: 0.7493 - val_auroc: 0.8452\n",
      "\n",
      "Epoch 00008: val_acc improved from 0.73709 to 0.74929, saving model to my_model_11.hdf5\n",
      "Epoch 9/16\n",
      " 69/200 [=========>....................] - ETA: 49s - loss: 0.5258 - acc: 0.7531 - auroc: 0.8331"
     ]
    }
   ],
   "source": [
    "batch_size=24\n",
    "history=model1.fit_generator(datagenerator(frame1,frame,batch_size=14),\\\n",
    "                    use_multiprocessing=True,\\\n",
    "                    validation_data=datagenerator(frame1_val, frame_val, batch_size=14),\\\n",
    "                    epochs=16,verbose=1,workers=4,callbacks=callbacks_list,steps_per_epoch=200,validation_steps=100)"
   ]
  },
  {
   "cell_type": "code",
   "execution_count": 0,
   "metadata": {
    "colab": {
     "base_uri": "https://localhost:8080/",
     "height": 559
    },
    "colab_type": "code",
    "executionInfo": {
     "elapsed": 2324,
     "status": "ok",
     "timestamp": 1578709379643,
     "user": {
      "displayName": "santhosh ketha",
      "photoUrl": "https://lh3.googleusercontent.com/a-/AAuE7mCHZoev1Su01c3YSBYi638WPWZaktYecdyTuh8ZMQ=s64",
      "userId": "06963422152123978380"
     },
     "user_tz": -330
    },
    "id": "XO5rTmy0Qy7-",
    "outputId": "f0bfa75f-2e16-497e-8e34-48dfa7d7d7b1"
   },
   "outputs": [
    {
     "data": {
      "image/png": "[encoded data removed]",
      "text/plain": [
       "<Figure size 432x288 with 1 Axes>"
      ]
     },
     "metadata": {
      "tags": []
     },
     "output_type": "display_data"
    },
    {
     "data": {
      "image/png": "[encoded data removed]",
      "text/plain": [
       "<Figure size 432x288 with 1 Axes>"
      ]
     },
     "metadata": {
      "tags": []
     },
     "output_type": "display_data"
    }
   ],
   "source": [
    "def modelplots():\n",
    "    plt.plot(history.history['acc'])\n",
    "    plt.plot(history.history['val_acc'])\n",
    "    plt.title('Model accuracy')\n",
    "    plt.ylabel('Accuracy')\n",
    "    plt.xlabel('Epoch')\n",
    "    plt.legend(['Train', 'Test'], loc='upper left')\n",
    "    plt.show()\n",
    "\n",
    "    # Plot training & validation loss values\n",
    "\n",
    "    plt.plot(history.history['auroc'])\n",
    "    plt.plot(history.history['val_auroc'])\n",
    "    plt.title('Model auroc')\n",
    "    plt.ylabel('auc')\n",
    "    plt.legend(['Train', 'Test'], loc='upper left')\n",
    "    plt.show()\n",
    "modelplots()"
   ]
  },
  {
   "cell_type": "markdown",
   "metadata": {
    "colab_type": "text",
    "id": "szs8IegfpdlQ"
   },
   "source": [
    "## model 1b\n",
    "\n",
    "Same as above model but increased steps per epoch and decreased epochs"
   ]
  },
  {
   "cell_type": "code",
   "execution_count": 0,
   "metadata": {
    "colab": {
     "base_uri": "https://localhost:8080/",
     "height": 1000
    },
    "colab_type": "code",
    "executionInfo": {
     "elapsed": 43259,
     "status": "ok",
     "timestamp": 1578710698064,
     "user": {
      "displayName": "santhosh ketha",
      "photoUrl": "https://lh3.googleusercontent.com/a-/AAuE7mCHZoev1Su01c3YSBYi638WPWZaktYecdyTuh8ZMQ=s64",
      "userId": "06963422152123978380"
     },
     "user_tz": -330
    },
    "id": "0IqE-XKHeblU",
    "outputId": "46b7ae5d-5c39-48d1-fe25-f0028bf0e6a6"
   },
   "outputs": [
    {
     "name": "stdout",
     "output_type": "stream",
     "text": [
      "Model: \"model_7\"\n",
      "__________________________________________________________________________________________________\n",
      "Layer (type)                    Output Shape         Param #     Connected to                     \n",
      "==================================================================================================\n",
      "input_19 (InputLayer)           (None, 224, 224, 3)  0                                            \n",
      "__________________________________________________________________________________________________\n",
      "input_20 (InputLayer)           (None, 224, 224, 3)  0                                            \n",
      "__________________________________________________________________________________________________\n",
      "vggface_resnet50 (Model)        multiple             23561152    input_19[0][0]                   \n",
      "                                                                 input_20[0][0]                   \n",
      "__________________________________________________________________________________________________\n",
      "dropout_25 (Dropout)            (None, 1, 1, 2048)   0           vggface_resnet50[1][0]           \n",
      "__________________________________________________________________________________________________\n",
      "dropout_26 (Dropout)            (None, 1, 1, 2048)   0           vggface_resnet50[2][0]           \n",
      "__________________________________________________________________________________________________\n",
      "global_max_pooling2d_13 (Global (None, 2048)         0           dropout_25[0][0]                 \n",
      "__________________________________________________________________________________________________\n",
      "global_average_pooling2d_13 (Gl (None, 2048)         0           dropout_25[0][0]                 \n",
      "__________________________________________________________________________________________________\n",
      "global_max_pooling2d_14 (Global (None, 2048)         0           dropout_26[0][0]                 \n",
      "__________________________________________________________________________________________________\n",
      "global_average_pooling2d_14 (Gl (None, 2048)         0           dropout_26[0][0]                 \n",
      "__________________________________________________________________________________________________\n",
      "concatenate_19 (Concatenate)    (None, 4096)         0           global_max_pooling2d_13[0][0]    \n",
      "                                                                 global_average_pooling2d_13[0][0]\n",
      "__________________________________________________________________________________________________\n",
      "concatenate_20 (Concatenate)    (None, 4096)         0           global_max_pooling2d_14[0][0]    \n",
      "                                                                 global_average_pooling2d_14[0][0]\n",
      "__________________________________________________________________________________________________\n",
      "subtract_13 (Subtract)          (None, 4096)         0           concatenate_19[0][0]             \n",
      "                                                                 concatenate_20[0][0]             \n",
      "__________________________________________________________________________________________________\n",
      "multiply_26 (Multiply)          (None, 4096)         0           concatenate_19[0][0]             \n",
      "                                                                 concatenate_19[0][0]             \n",
      "__________________________________________________________________________________________________\n",
      "multiply_27 (Multiply)          (None, 4096)         0           concatenate_20[0][0]             \n",
      "                                                                 concatenate_20[0][0]             \n",
      "__________________________________________________________________________________________________\n",
      "multiply_25 (Multiply)          (None, 4096)         0           subtract_13[0][0]                \n",
      "                                                                 subtract_13[0][0]                \n",
      "__________________________________________________________________________________________________\n",
      "subtract_14 (Subtract)          (None, 4096)         0           multiply_26[0][0]                \n",
      "                                                                 multiply_27[0][0]                \n",
      "__________________________________________________________________________________________________\n",
      "multiply_28 (Multiply)          (None, 4096)         0           concatenate_19[0][0]             \n",
      "                                                                 concatenate_20[0][0]             \n",
      "__________________________________________________________________________________________________\n",
      "concatenate_21 (Concatenate)    (None, 12288)        0           multiply_25[0][0]                \n",
      "                                                                 subtract_14[0][0]                \n",
      "                                                                 multiply_28[0][0]                \n",
      "__________________________________________________________________________________________________\n",
      "batch_normalization_13 (BatchNo (None, 12288)        49152       concatenate_21[0][0]             \n",
      "__________________________________________________________________________________________________\n",
      "dropout_27 (Dropout)            (None, 12288)        0           batch_normalization_13[0][0]     \n",
      "__________________________________________________________________________________________________\n",
      "dense_13 (Dense)                (None, 256)          3145984     dropout_27[0][0]                 \n",
      "__________________________________________________________________________________________________\n",
      "batch_normalization_14 (BatchNo (None, 256)          1024        dense_13[0][0]                   \n",
      "__________________________________________________________________________________________________\n",
      "dropout_28 (Dropout)            (None, 256)          0           batch_normalization_14[0][0]     \n",
      "__________________________________________________________________________________________________\n",
      "dense_14 (Dense)                (None, 1)            257         dropout_28[0][0]                 \n",
      "==================================================================================================\n",
      "Total params: 26,757,569\n",
      "Trainable params: 26,679,361\n",
      "Non-trainable params: 78,208\n",
      "__________________________________________________________________________________________________\n"
     ]
    }
   ],
   "source": [
    "model1=model_11()\n",
    "#model.load_weights('1_model_weights.h5')\n",
    "file_path='my_model_12.hdf5'\n",
    "log_dir='model12'\n",
    "tensorboard_callback = TensorBoard(log_dir=log_dir)\n",
    "reduce_on_plateau = ReduceLROnPlateau(monitor=\"val_acc\", mode=\"max\", factor=0.1, patience=20, verbose=1)\n",
    "checkpoint=ModelCheckpoint(file_path,monitor='val_acc',verbose=1,save_best_only=True,mode='max') #Saves the best model based on val_acc\n",
    "callbacks_list=[reduce_on_plateau,checkpoint,tensorboard_callback]\n"
   ]
  },
  {
   "cell_type": "code",
   "execution_count": 0,
   "metadata": {
    "colab": {
     "base_uri": "https://localhost:8080/",
     "height": 479
    },
    "colab_type": "code",
    "executionInfo": {
     "elapsed": 2004055,
     "status": "ok",
     "timestamp": 1578712752729,
     "user": {
      "displayName": "santhosh ketha",
      "photoUrl": "https://lh3.googleusercontent.com/a-/AAuE7mCHZoev1Su01c3YSBYi638WPWZaktYecdyTuh8ZMQ=s64",
      "userId": "06963422152123978380"
     },
     "user_tz": -330
    },
    "id": "tGcW2armffg5",
    "outputId": "fcceef34-477a-4751-ab72-7364f93580f8"
   },
   "outputs": [
    {
     "name": "stderr",
     "output_type": "stream",
     "text": [
      "/usr/local/lib/python3.6/dist-packages/keras/engine/training_generator.py:49: UserWarning: Using a generator with `use_multiprocessing=True` and multiple workers may duplicate your data. Please consider using the `keras.utils.Sequence class.\n",
      "  UserWarning('Using a generator with `use_multiprocessing=True`'\n"
     ]
    },
    {
     "name": "stdout",
     "output_type": "stream",
     "text": [
      "Epoch 1/6\n",
      "500/500 [==============================] - 350s 699ms/step - loss: 0.7409 - acc: 0.6155 - auroc: 0.6598 - val_loss: 0.5681 - val_acc: 0.7186 - val_auroc: 0.7976\n",
      "\n",
      "Epoch 00001: val_acc improved from -inf to 0.71857, saving model to my_model_12.hdf5\n",
      "Epoch 2/6\n",
      "500/500 [==============================] - 314s 627ms/step - loss: 0.5885 - acc: 0.7164 - auroc: 0.7894 - val_loss: 0.5773 - val_acc: 0.7171 - val_auroc: 0.8355\n",
      "\n",
      "Epoch 00002: val_acc did not improve from 0.71857\n",
      "Epoch 3/6\n",
      "500/500 [==============================] - 313s 627ms/step - loss: 0.5363 - acc: 0.7488 - auroc: 0.8301 - val_loss: 0.5676 - val_acc: 0.7400 - val_auroc: 0.8489\n",
      "\n",
      "Epoch 00003: val_acc improved from 0.71857 to 0.74004, saving model to my_model_12.hdf5\n",
      "Epoch 4/6\n",
      "500/500 [==============================] - 315s 630ms/step - loss: 0.4795 - acc: 0.7822 - auroc: 0.8644 - val_loss: 0.5641 - val_acc: 0.7289 - val_auroc: 0.8447\n",
      "\n",
      "Epoch 00004: val_acc did not improve from 0.74004\n",
      "Epoch 5/6\n",
      "500/500 [==============================] - 313s 627ms/step - loss: 0.3379 - acc: 0.8514 - auroc: 0.9272 - val_loss: 0.5574 - val_acc: 0.7336 - val_auroc: 0.8658\n",
      "\n",
      "Epoch 00005: val_acc did not improve from 0.74004\n",
      "Epoch 6/6\n",
      "500/500 [==============================] - 313s 626ms/step - loss: 0.2589 - acc: 0.8933 - auroc: 0.9578 - val_loss: 0.6635 - val_acc: 0.7371 - val_auroc: 0.8580\n",
      "\n",
      "Epoch 00006: val_acc did not improve from 0.74004\n"
     ]
    }
   ],
   "source": [
    "\n",
    "history=model1.fit_generator(datagenerator(frame1,frame,batch_size=24),\\\n",
    "                    use_multiprocessing=True,\\\n",
    "                    validation_data=datagenerator(frame1_val, frame_val, batch_size=14),\\\n",
    "                    epochs=6,verbose=1,workers=4,callbacks=callbacks_list,steps_per_epoch=500,validation_steps=100)"
   ]
  },
  {
   "cell_type": "code",
   "execution_count": 0,
   "metadata": {
    "colab": {
     "base_uri": "https://localhost:8080/",
     "height": 559
    },
    "colab_type": "code",
    "executionInfo": {
     "elapsed": 2278,
     "status": "ok",
     "timestamp": 1578712929106,
     "user": {
      "displayName": "santhosh ketha",
      "photoUrl": "https://lh3.googleusercontent.com/a-/AAuE7mCHZoev1Su01c3YSBYi638WPWZaktYecdyTuh8ZMQ=s64",
      "userId": "06963422152123978380"
     },
     "user_tz": -330
    },
    "id": "USPvrY8en3ud",
    "outputId": "7607bf54-b3be-4dda-97f6-ef9fc1ce9c3b"
   },
   "outputs": [
    {
     "data": {
      "image/png": "[encoded data removed]",
      "text/plain": [
       "<Figure size 432x288 with 1 Axes>"
      ]
     },
     "metadata": {
      "tags": []
     },
     "output_type": "display_data"
    },
    {
     "data": {
      "image/png": "[encoded data removed]",
      "text/plain": [
       "<Figure size 432x288 with 1 Axes>"
      ]
     },
     "metadata": {
      "tags": []
     },
     "output_type": "display_data"
    }
   ],
   "source": [
    "modelplots()"
   ]
  },
  {
   "cell_type": "markdown",
   "metadata": {
    "colab_type": "text",
    "id": "crpZerzORsYu"
   },
   "source": [
    "## Model 1c"
   ]
  },
  {
   "cell_type": "code",
   "execution_count": 0,
   "metadata": {
    "colab": {},
    "colab_type": "code",
    "id": "fQQtA69_GQPn"
   },
   "outputs": [],
   "source": [
    "from keras.layers.normalization import BatchNormalization\n",
    "def model_1():\n",
    "  input1=Input(shape=(224,224,3))\n",
    "  input2=Input(shape=(224,224,3))\n",
    "  \n",
    "\n",
    "  base_model=VGGFace(model='resnet50',include_top=False)  # Pretrained model  Vggface\n",
    "  for x in base_model.layers[:-3]:\n",
    "      x.trainable = True\n",
    "\n",
    "  x1=base_model(input1)\n",
    "  x2=base_model(input2)\n",
    "  x1=Dropout(0.2)(x1)\n",
    "  x2=Dropout(0.2)(x2)\n",
    "  x1=Concatenate(axis=-1)([GlobalMaxPool2D()(x1),GlobalAvgPool2D()(x1)])\n",
    "  x2=Concatenate(axis=-1)([GlobalMaxPool2D()(x2),GlobalAvgPool2D()(x2)])\n",
    "\n",
    "  x3=Subtract()([x1,x2])\n",
    "  x3=Multiply()([x3,x3])\n",
    "\n",
    "  x1_=Multiply()([x1,x1])\n",
    "  x2_=Multiply()([x2,x2])\n",
    "  x4=Subtract()([x1_,x2_])\n",
    "\n",
    "  x5=Multiply()([x1,x2])\n",
    "\n",
    "  x=Concatenate(axis=-1)([x3,x4,x5])\n",
    "\n",
    "  x=(BatchNormalization())(x)\n",
    "  \n",
    "  x=Dropout(0.01)(x)\n",
    " \n",
    "  x=Dense(100,activation='relu')(x)\n",
    "  x=Dropout(0.2)(x)\n",
    "  out=Dense(1,activation='sigmoid')(x)\n",
    "\n",
    "  model=Model([input1,input2],out)\n",
    "\n",
    "  model.compile(loss='binary_crossentropy',metrics=['acc',auroc],optimizer=Adam(0.00001))\n",
    "\n",
    "  model.summary()\n",
    "\n",
    "  return model\n"
   ]
  },
  {
   "cell_type": "code",
   "execution_count": 0,
   "metadata": {
    "colab": {
     "base_uri": "https://localhost:8080/",
     "height": 1000
    },
    "colab_type": "code",
    "executionInfo": {
     "elapsed": 46653,
     "status": "ok",
     "timestamp": 1578676420354,
     "user": {
      "displayName": "santhosh ketha",
      "photoUrl": "https://lh3.googleusercontent.com/a-/AAuE7mCHZoev1Su01c3YSBYi638WPWZaktYecdyTuh8ZMQ=s64",
      "userId": "06963422152123978380"
     },
     "user_tz": -330
    },
    "id": "G-cmE7xYJ0sQ",
    "outputId": "d8f0da0b-f7b8-4830-b078-121dd270a890"
   },
   "outputs": [
    {
     "name": "stdout",
     "output_type": "stream",
     "text": [
      "Model: \"model_7\"\n",
      "__________________________________________________________________________________________________\n",
      "Layer (type)                    Output Shape         Param #     Connected to                     \n",
      "==================================================================================================\n",
      "input_19 (InputLayer)           (None, 224, 224, 3)  0                                            \n",
      "__________________________________________________________________________________________________\n",
      "input_20 (InputLayer)           (None, 224, 224, 3)  0                                            \n",
      "__________________________________________________________________________________________________\n",
      "vggface_resnet50 (Model)        multiple             23561152    input_19[0][0]                   \n",
      "                                                                 input_20[0][0]                   \n",
      "__________________________________________________________________________________________________\n",
      "dropout_23 (Dropout)            (None, 1, 1, 2048)   0           vggface_resnet50[1][0]           \n",
      "__________________________________________________________________________________________________\n",
      "dropout_24 (Dropout)            (None, 1, 1, 2048)   0           vggface_resnet50[2][0]           \n",
      "__________________________________________________________________________________________________\n",
      "global_max_pooling2d_13 (Global (None, 2048)         0           dropout_23[0][0]                 \n",
      "__________________________________________________________________________________________________\n",
      "global_average_pooling2d_13 (Gl (None, 2048)         0           dropout_23[0][0]                 \n",
      "__________________________________________________________________________________________________\n",
      "global_max_pooling2d_14 (Global (None, 2048)         0           dropout_24[0][0]                 \n",
      "__________________________________________________________________________________________________\n",
      "global_average_pooling2d_14 (Gl (None, 2048)         0           dropout_24[0][0]                 \n",
      "__________________________________________________________________________________________________\n",
      "concatenate_19 (Concatenate)    (None, 4096)         0           global_max_pooling2d_13[0][0]    \n",
      "                                                                 global_average_pooling2d_13[0][0]\n",
      "__________________________________________________________________________________________________\n",
      "concatenate_20 (Concatenate)    (None, 4096)         0           global_max_pooling2d_14[0][0]    \n",
      "                                                                 global_average_pooling2d_14[0][0]\n",
      "__________________________________________________________________________________________________\n",
      "subtract_13 (Subtract)          (None, 4096)         0           concatenate_19[0][0]             \n",
      "                                                                 concatenate_20[0][0]             \n",
      "__________________________________________________________________________________________________\n",
      "multiply_26 (Multiply)          (None, 4096)         0           concatenate_19[0][0]             \n",
      "                                                                 concatenate_19[0][0]             \n",
      "__________________________________________________________________________________________________\n",
      "multiply_27 (Multiply)          (None, 4096)         0           concatenate_20[0][0]             \n",
      "                                                                 concatenate_20[0][0]             \n",
      "__________________________________________________________________________________________________\n",
      "multiply_25 (Multiply)          (None, 4096)         0           subtract_13[0][0]                \n",
      "                                                                 subtract_13[0][0]                \n",
      "__________________________________________________________________________________________________\n",
      "subtract_14 (Subtract)          (None, 4096)         0           multiply_26[0][0]                \n",
      "                                                                 multiply_27[0][0]                \n",
      "__________________________________________________________________________________________________\n",
      "multiply_28 (Multiply)          (None, 4096)         0           concatenate_19[0][0]             \n",
      "                                                                 concatenate_20[0][0]             \n",
      "__________________________________________________________________________________________________\n",
      "concatenate_21 (Concatenate)    (None, 12288)        0           multiply_25[0][0]                \n",
      "                                                                 subtract_14[0][0]                \n",
      "                                                                 multiply_28[0][0]                \n",
      "__________________________________________________________________________________________________\n",
      "batch_normalization_6 (BatchNor (None, 12288)        49152       concatenate_21[0][0]             \n",
      "__________________________________________________________________________________________________\n",
      "dropout_25 (Dropout)            (None, 12288)        0           batch_normalization_6[0][0]      \n",
      "__________________________________________________________________________________________________\n",
      "dense_13 (Dense)                (None, 100)          1228900     dropout_25[0][0]                 \n",
      "__________________________________________________________________________________________________\n",
      "dropout_26 (Dropout)            (None, 100)          0           dense_13[0][0]                   \n",
      "__________________________________________________________________________________________________\n",
      "dense_14 (Dense)                (None, 1)            101         dropout_26[0][0]                 \n",
      "==================================================================================================\n",
      "Total params: 24,839,305\n",
      "Trainable params: 24,761,609\n",
      "Non-trainable params: 77,696\n",
      "__________________________________________________________________________________________________\n"
     ]
    }
   ],
   "source": [
    "import warnings\n",
    "from keras.callbacks import ModelCheckpoint, ReduceLROnPlateau\n",
    "model1=model_1()\n",
    "#model.load_weights('1_model_weights.h5')\n",
    "file_path='my_model_1.hdf5'\n",
    "reduce_on_plateau = ReduceLROnPlateau(monitor=\"val_acc\", mode=\"max\", factor=0.1, patience=20, verbose=1)\n",
    "checkpoint=ModelCheckpoint(file_path,monitor='val_acc',verbose=1,save_best_only=True,mode='max') #Saves the best model based on val_acc\n",
    "callbacks_list=[reduce_on_plateau,checkpoint]\n"
   ]
  },
  {
   "cell_type": "code",
   "execution_count": 0,
   "metadata": {
    "colab": {
     "base_uri": "https://localhost:8080/",
     "height": 1000
    },
    "colab_type": "code",
    "executionInfo": {
     "elapsed": 1982049,
     "status": "ok",
     "timestamp": 1578678417749,
     "user": {
      "displayName": "santhosh ketha",
      "photoUrl": "https://lh3.googleusercontent.com/a-/AAuE7mCHZoev1Su01c3YSBYi638WPWZaktYecdyTuh8ZMQ=s64",
      "userId": "06963422152123978380"
     },
     "user_tz": -330
    },
    "id": "7Mwepe4JEvgD",
    "outputId": "0a1b8cf5-dd8b-4d84-e5db-f8327e2d0f77"
   },
   "outputs": [
    {
     "name": "stdout",
     "output_type": "stream",
     "text": [
      "Epoch 1/20\n"
     ]
    },
    {
     "name": "stderr",
     "output_type": "stream",
     "text": [
      "/usr/local/lib/python3.6/dist-packages/keras/engine/training_generator.py:49: UserWarning: Using a generator with `use_multiprocessing=True` and multiple workers may duplicate your data. Please consider using the `keras.utils.Sequence class.\n",
      "  UserWarning('Using a generator with `use_multiprocessing=True`'\n"
     ]
    },
    {
     "name": "stdout",
     "output_type": "stream",
     "text": [
      "200/200 [==============================] - 148s 738ms/step - loss: 0.7938 - acc: 0.5882 - auroc: 0.6310 - val_loss: 0.7929 - val_acc: 0.5843 - val_auroc: 0.6163\n",
      "\n",
      "Epoch 00001: val_acc improved from -inf to 0.58429, saving model to my_model_1.hdf5\n",
      "Epoch 2/20\n",
      "200/200 [==============================] - 94s 470ms/step - loss: 0.7493 - acc: 0.6018 - auroc: 0.6531 - val_loss: 0.7137 - val_acc: 0.5971 - val_auroc: 0.6294\n",
      "\n",
      "Epoch 00002: val_acc improved from 0.58429 to 0.59714, saving model to my_model_1.hdf5\n",
      "Epoch 3/20\n",
      "200/200 [==============================] - 93s 467ms/step - loss: 0.7044 - acc: 0.6352 - auroc: 0.6893 - val_loss: 0.6963 - val_acc: 0.6051 - val_auroc: 0.6937\n",
      "\n",
      "Epoch 00003: val_acc improved from 0.59714 to 0.60509, saving model to my_model_1.hdf5\n",
      "Epoch 4/20\n",
      "200/200 [==============================] - 94s 468ms/step - loss: 0.6357 - acc: 0.6807 - auroc: 0.7430 - val_loss: 0.6024 - val_acc: 0.6707 - val_auroc: 0.7572\n",
      "\n",
      "Epoch 00004: val_acc improved from 0.60509 to 0.67071, saving model to my_model_1.hdf5\n",
      "Epoch 5/20\n",
      "200/200 [==============================] - 93s 467ms/step - loss: 0.5946 - acc: 0.6996 - auroc: 0.7705 - val_loss: 0.6444 - val_acc: 0.6854 - val_auroc: 0.7872\n",
      "\n",
      "Epoch 00005: val_acc improved from 0.67071 to 0.68536, saving model to my_model_1.hdf5\n",
      "Epoch 6/20\n",
      "200/200 [==============================] - 93s 467ms/step - loss: 0.6075 - acc: 0.6975 - auroc: 0.7699 - val_loss: 0.6196 - val_acc: 0.7043 - val_auroc: 0.7954\n",
      "\n",
      "Epoch 00006: val_acc improved from 0.68536 to 0.70428, saving model to my_model_1.hdf5\n",
      "Epoch 7/20\n",
      "200/200 [==============================] - 94s 468ms/step - loss: 0.5851 - acc: 0.7125 - auroc: 0.7864 - val_loss: 0.5904 - val_acc: 0.7136 - val_auroc: 0.8123\n",
      "\n",
      "Epoch 00007: val_acc improved from 0.70428 to 0.71357, saving model to my_model_1.hdf5\n",
      "Epoch 8/20\n",
      "200/200 [==============================] - 94s 469ms/step - loss: 0.5265 - acc: 0.7470 - auroc: 0.8267 - val_loss: 0.6156 - val_acc: 0.7175 - val_auroc: 0.8253\n",
      "\n",
      "Epoch 00008: val_acc improved from 0.71357 to 0.71750, saving model to my_model_1.hdf5\n",
      "Epoch 9/20\n",
      "200/200 [==============================] - 93s 466ms/step - loss: 0.5614 - acc: 0.7309 - auroc: 0.8094 - val_loss: 0.6417 - val_acc: 0.7246 - val_auroc: 0.8042\n",
      "\n",
      "Epoch 00009: val_acc improved from 0.71750 to 0.72456, saving model to my_model_1.hdf5\n",
      "Epoch 10/20\n",
      "200/200 [==============================] - 94s 468ms/step - loss: 0.5136 - acc: 0.7582 - auroc: 0.8360 - val_loss: 0.5831 - val_acc: 0.7411 - val_auroc: 0.8308\n",
      "\n",
      "Epoch 00010: val_acc improved from 0.72456 to 0.74107, saving model to my_model_1.hdf5\n",
      "Epoch 11/20\n",
      "200/200 [==============================] - 93s 466ms/step - loss: 0.5134 - acc: 0.7514 - auroc: 0.8329 - val_loss: 0.6078 - val_acc: 0.7100 - val_auroc: 0.8261\n",
      "\n",
      "Epoch 00011: val_acc did not improve from 0.74107\n",
      "Epoch 12/20\n",
      "200/200 [==============================] - 93s 466ms/step - loss: 0.5070 - acc: 0.7582 - auroc: 0.8439 - val_loss: 0.6810 - val_acc: 0.7065 - val_auroc: 0.8179\n",
      "\n",
      "Epoch 00012: val_acc did not improve from 0.74107\n",
      "Epoch 13/20\n",
      "200/200 [==============================] - 93s 467ms/step - loss: 0.5175 - acc: 0.7607 - auroc: 0.8424 - val_loss: 0.5607 - val_acc: 0.7579 - val_auroc: 0.8514\n",
      "\n",
      "Epoch 00013: val_acc improved from 0.74107 to 0.75786, saving model to my_model_1.hdf5\n",
      "Epoch 14/20\n",
      "200/200 [==============================] - 93s 467ms/step - loss: 0.4999 - acc: 0.7736 - auroc: 0.8498 - val_loss: 0.6528 - val_acc: 0.7382 - val_auroc: 0.8379\n",
      "\n",
      "Epoch 00014: val_acc did not improve from 0.75786\n",
      "Epoch 15/20\n",
      "200/200 [==============================] - 93s 466ms/step - loss: 0.4840 - acc: 0.7818 - auroc: 0.8581 - val_loss: 0.6849 - val_acc: 0.7231 - val_auroc: 0.8099\n",
      "\n",
      "Epoch 00015: val_acc did not improve from 0.75786\n",
      "Epoch 16/20\n",
      "200/200 [==============================] - 94s 468ms/step - loss: 0.4946 - acc: 0.7750 - auroc: 0.8514 - val_loss: 0.5633 - val_acc: 0.7568 - val_auroc: 0.8515\n",
      "\n",
      "Epoch 00016: val_acc did not improve from 0.75786\n",
      "Epoch 17/20\n",
      "200/200 [==============================] - 94s 468ms/step - loss: 0.4347 - acc: 0.8004 - auroc: 0.8808 - val_loss: 0.5709 - val_acc: 0.7529 - val_auroc: 0.8386\n",
      "\n",
      "Epoch 00017: val_acc did not improve from 0.75786\n",
      "Epoch 18/20\n",
      "200/200 [==============================] - 93s 467ms/step - loss: 0.4268 - acc: 0.8050 - auroc: 0.8842 - val_loss: 0.6433 - val_acc: 0.7423 - val_auroc: 0.8294\n",
      "\n",
      "Epoch 00018: val_acc did not improve from 0.75786\n",
      "Epoch 19/20\n",
      "200/200 [==============================] - 94s 468ms/step - loss: 0.3676 - acc: 0.8395 - auroc: 0.9139 - val_loss: 0.6205 - val_acc: 0.7232 - val_auroc: 0.8402\n",
      "\n",
      "Epoch 00019: val_acc did not improve from 0.75786\n",
      "Epoch 20/20\n",
      "200/200 [==============================] - 94s 468ms/step - loss: 0.3784 - acc: 0.8293 - auroc: 0.9058 - val_loss: 0.6293 - val_acc: 0.7393 - val_auroc: 0.8393\n",
      "\n",
      "Epoch 00020: val_acc did not improve from 0.75786\n"
     ]
    }
   ],
   "source": [
    "#fitting\n",
    "batch_size=24\n",
    "history=model1.fit_generator(datagenerator(frame1,frame,batch_size=14),\\\n",
    "                    use_multiprocessing=True,\\\n",
    "                    validation_data=datagenerator(frame1_val, frame_val, batch_size=14),\\\n",
    "                    epochs=20,verbose=1,workers=4,callbacks=callbacks_list,steps_per_epoch=200,validation_steps=100)"
   ]
  },
  {
   "cell_type": "code",
   "execution_count": 0,
   "metadata": {
    "colab": {
     "base_uri": "https://localhost:8080/",
     "height": 559
    },
    "colab_type": "code",
    "executionInfo": {
     "elapsed": 1814,
     "status": "ok",
     "timestamp": 1578678443207,
     "user": {
      "displayName": "santhosh ketha",
      "photoUrl": "https://lh3.googleusercontent.com/a-/AAuE7mCHZoev1Su01c3YSBYi638WPWZaktYecdyTuh8ZMQ=s64",
      "userId": "06963422152123978380"
     },
     "user_tz": -330
    },
    "id": "o8wfQ6HQkUvM",
    "outputId": "82b63828-aba8-4fe6-b2dd-b7882dfcb4aa"
   },
   "outputs": [
    {
     "data": {
      "image/png": "[encoded data removed]",
      "text/plain": [
       "<Figure size 432x288 with 1 Axes>"
      ]
     },
     "metadata": {
      "tags": []
     },
     "output_type": "display_data"
    },
    {
     "data": {
      "image/png": "[encoded data removed]",
      "text/plain": [
       "<Figure size 432x288 with 1 Axes>"
      ]
     },
     "metadata": {
      "tags": []
     },
     "output_type": "display_data"
    }
   ],
   "source": [
    "# Plot training & validation accuracy values\n",
    "\n",
    "plt.plot(history.history['acc'])\n",
    "plt.plot(history.history['val_acc'])\n",
    "plt.title('Model accuracy')\n",
    "plt.ylabel('Accuracy')\n",
    "plt.xlabel('Epoch')\n",
    "plt.legend(['Train', 'Test'], loc='upper left')\n",
    "plt.show()\n",
    "\n",
    "# Plot training & validation loss values\n",
    "\n",
    "plt.plot(history.history['auroc'])\n",
    "plt.plot(history.history['val_auroc'])\n",
    "plt.title('Model auroc')\n",
    "plt.ylabel('auc')\n",
    "plt.legend(['Train', 'Test'], loc='upper left')\n",
    "plt.show()"
   ]
  },
  {
   "cell_type": "markdown",
   "metadata": {
    "colab_type": "text",
    "id": "S9bSbEtX8FcC"
   },
   "source": [
    "# Model 2"
   ]
  },
  {
   "cell_type": "code",
   "execution_count": 0,
   "metadata": {
    "colab": {},
    "colab_type": "code",
    "id": "eyW0GDpy8CqA"
   },
   "outputs": [],
   "source": [
    "#https://stackoverflow.com/a/51003359/10650182\n",
    "from keras import backend as K\n",
    "def cosine_distance(vests):\n",
    "    x, y = vests\n",
    "    x = K.l2_normalize(x, axis=-1)\n",
    "    y = K.l2_normalize(y, axis=-1)\n",
    "    return -K.mean(x * y, axis=-1, keepdims=True)\n",
    "\n",
    "def cos_dist_output_shape(shapes):\n",
    "    shape1, shape2 = shapes\n",
    "    return (shape1[0],1)"
   ]
  },
  {
   "cell_type": "code",
   "execution_count": 0,
   "metadata": {
    "colab": {},
    "colab_type": "code",
    "id": "6BznDyYjkjm1"
   },
   "outputs": [],
   "source": [
    "def model_2():\n",
    "    #change 2\n",
    "    input_1 = Input(shape=(224, 224, 3))\n",
    "    input_2 = Input(shape=(224, 224, 3))\n",
    "\n",
    "    base_model = VGGFace(model='resnet50', include_top=False)\n",
    "\n",
    "    for x in base_model.layers[:-3]:\n",
    "        x.trainable = True\n",
    "\n",
    "    x1 = base_model(input_1)\n",
    "    x2 = base_model(input_2)\n",
    "    x1=Dropout(0.2)(x1)\n",
    "    x2=Dropout(0.2)(x2)\n",
    "\n",
    "    x1 = GlobalMaxPool2D()(x1)\n",
    "    x2 = GlobalMaxPool2D()(x2)\n",
    "\n",
    "    x3 = Subtract()([x1, x2])\n",
    "    x4 = Multiply()([x1, x2])\n",
    "    \n",
    "    x5 = Lambda(cosine_distance, output_shape=cos_dist_output_shape)([x1, x2])\n",
    "   \n",
    "    \n",
    "    x = Concatenate(axis=-1)([x5, x3,x4])\n",
    "    x = Dropout(0.1)(x)\n",
    "\n",
    "    out = Dense(1, activation=\"sigmoid\")(x)\n",
    "\n",
    "    model = Model([input_1, input_2], out)\n",
    "\n",
    "    model.compile(loss=['binary_crossentropy'], metrics=['acc',auroc], optimizer=Adam(0.00001))\n",
    "\n",
    "    model.summary()\n",
    "\n",
    "    return model"
   ]
  },
  {
   "cell_type": "code",
   "execution_count": 0,
   "metadata": {
    "colab": {
     "base_uri": "https://localhost:8080/",
     "height": 1000
    },
    "colab_type": "code",
    "executionInfo": {
     "elapsed": 27909,
     "status": "ok",
     "timestamp": 1578731165576,
     "user": {
      "displayName": "santhosh ketha",
      "photoUrl": "https://lh3.googleusercontent.com/a-/AAuE7mCHZoev1Su01c3YSBYi638WPWZaktYecdyTuh8ZMQ=s64",
      "userId": "06963422152123978380"
     },
     "user_tz": -330
    },
    "id": "noOaLHXWQseI",
    "outputId": "3589dac7-70b0-474f-f381-7ba6ac03e9e9"
   },
   "outputs": [
    {
     "name": "stdout",
     "output_type": "stream",
     "text": [
      "WARNING:tensorflow:From /usr/local/lib/python3.6/dist-packages/keras/backend/tensorflow_backend.py:66: The name tf.get_default_graph is deprecated. Please use tf.compat.v1.get_default_graph instead.\n",
      "\n",
      "WARNING:tensorflow:From /usr/local/lib/python3.6/dist-packages/keras/backend/tensorflow_backend.py:541: The name tf.placeholder is deprecated. Please use tf.compat.v1.placeholder instead.\n",
      "\n",
      "WARNING:tensorflow:From /usr/local/lib/python3.6/dist-packages/keras/backend/tensorflow_backend.py:4432: The name tf.random_uniform is deprecated. Please use tf.random.uniform instead.\n",
      "\n",
      "WARNING:tensorflow:From /usr/local/lib/python3.6/dist-packages/keras/backend/tensorflow_backend.py:190: The name tf.get_default_session is deprecated. Please use tf.compat.v1.get_default_session instead.\n",
      "\n",
      "WARNING:tensorflow:From /usr/local/lib/python3.6/dist-packages/keras/backend/tensorflow_backend.py:197: The name tf.ConfigProto is deprecated. Please use tf.compat.v1.ConfigProto instead.\n",
      "\n",
      "WARNING:tensorflow:From /usr/local/lib/python3.6/dist-packages/keras/backend/tensorflow_backend.py:203: The name tf.Session is deprecated. Please use tf.compat.v1.Session instead.\n",
      "\n",
      "WARNING:tensorflow:From /usr/local/lib/python3.6/dist-packages/keras/backend/tensorflow_backend.py:207: The name tf.global_variables is deprecated. Please use tf.compat.v1.global_variables instead.\n",
      "\n",
      "WARNING:tensorflow:From /usr/local/lib/python3.6/dist-packages/keras/backend/tensorflow_backend.py:216: The name tf.is_variable_initialized is deprecated. Please use tf.compat.v1.is_variable_initialized instead.\n",
      "\n",
      "WARNING:tensorflow:From /usr/local/lib/python3.6/dist-packages/keras/backend/tensorflow_backend.py:223: The name tf.variables_initializer is deprecated. Please use tf.compat.v1.variables_initializer instead.\n",
      "\n",
      "WARNING:tensorflow:From /usr/local/lib/python3.6/dist-packages/keras/backend/tensorflow_backend.py:2041: The name tf.nn.fused_batch_norm is deprecated. Please use tf.compat.v1.nn.fused_batch_norm instead.\n",
      "\n",
      "WARNING:tensorflow:From /usr/local/lib/python3.6/dist-packages/keras/backend/tensorflow_backend.py:148: The name tf.placeholder_with_default is deprecated. Please use tf.compat.v1.placeholder_with_default instead.\n",
      "\n",
      "WARNING:tensorflow:From /usr/local/lib/python3.6/dist-packages/keras/backend/tensorflow_backend.py:4267: The name tf.nn.max_pool is deprecated. Please use tf.nn.max_pool2d instead.\n",
      "\n",
      "WARNING:tensorflow:From /usr/local/lib/python3.6/dist-packages/keras/backend/tensorflow_backend.py:4271: The name tf.nn.avg_pool is deprecated. Please use tf.nn.avg_pool2d instead.\n",
      "\n",
      "Downloading data from https://github.com/rcmalli/keras-vggface/releases/download/v2.0/rcmalli_vggface_tf_notop_resnet50.h5\n",
      "94699520/94694792 [==============================] - 3s 0us/step\n",
      "WARNING:tensorflow:From /usr/local/lib/python3.6/dist-packages/keras/backend/tensorflow_backend.py:3733: calling dropout (from tensorflow.python.ops.nn_ops) with keep_prob is deprecated and will be removed in a future version.\n",
      "Instructions for updating:\n",
      "Please use `rate` instead of `keep_prob`. Rate should be set to `rate = 1 - keep_prob`.\n",
      "WARNING:tensorflow:From /usr/local/lib/python3.6/dist-packages/keras/optimizers.py:793: The name tf.train.Optimizer is deprecated. Please use tf.compat.v1.train.Optimizer instead.\n",
      "\n",
      "WARNING:tensorflow:From /usr/local/lib/python3.6/dist-packages/keras/backend/tensorflow_backend.py:3657: The name tf.log is deprecated. Please use tf.math.log instead.\n",
      "\n",
      "WARNING:tensorflow:From /usr/local/lib/python3.6/dist-packages/tensorflow_core/python/ops/nn_impl.py:183: where (from tensorflow.python.ops.array_ops) is deprecated and will be removed in a future version.\n",
      "Instructions for updating:\n",
      "Use tf.where in 2.0, which has the same broadcast rule as np.where\n",
      "WARNING:tensorflow:From <ipython-input-14-dc00b9e1f1d1>:8: py_func (from tensorflow.python.ops.script_ops) is deprecated and will be removed in a future version.\n",
      "Instructions for updating:\n",
      "tf.py_func is deprecated in TF V2. Instead, there are two\n",
      "    options available in V2.\n",
      "    - tf.py_function takes a python function which manipulates tf eager\n",
      "    tensors instead of numpy arrays. It's easy to convert a tf eager tensor to\n",
      "    an ndarray (just call tensor.numpy()) but having access to eager tensors\n",
      "    means `tf.py_function`s can use accelerators such as GPUs as well as\n",
      "    being differentiable using a gradient tape.\n",
      "    - tf.numpy_function maintains the semantics of the deprecated tf.py_func\n",
      "    (it is not differentiable, and manipulates numpy arrays). It drops the\n",
      "    stateful argument making all functions stateful.\n",
      "    \n",
      "Model: \"model_1\"\n",
      "__________________________________________________________________________________________________\n",
      "Layer (type)                    Output Shape         Param #     Connected to                     \n",
      "==================================================================================================\n",
      "input_1 (InputLayer)            (None, 224, 224, 3)  0                                            \n",
      "__________________________________________________________________________________________________\n",
      "input_2 (InputLayer)            (None, 224, 224, 3)  0                                            \n",
      "__________________________________________________________________________________________________\n",
      "vggface_resnet50 (Model)        multiple             23561152    input_1[0][0]                    \n",
      "                                                                 input_2[0][0]                    \n",
      "__________________________________________________________________________________________________\n",
      "dropout_1 (Dropout)             (None, 1, 1, 2048)   0           vggface_resnet50[1][0]           \n",
      "__________________________________________________________________________________________________\n",
      "dropout_2 (Dropout)             (None, 1, 1, 2048)   0           vggface_resnet50[2][0]           \n",
      "__________________________________________________________________________________________________\n",
      "global_max_pooling2d_1 (GlobalM (None, 2048)         0           dropout_1[0][0]                  \n",
      "__________________________________________________________________________________________________\n",
      "global_max_pooling2d_2 (GlobalM (None, 2048)         0           dropout_2[0][0]                  \n",
      "__________________________________________________________________________________________________\n",
      "lambda_1 (Lambda)               (None, 1)            0           global_max_pooling2d_1[0][0]     \n",
      "                                                                 global_max_pooling2d_2[0][0]     \n",
      "__________________________________________________________________________________________________\n",
      "subtract_1 (Subtract)           (None, 2048)         0           global_max_pooling2d_1[0][0]     \n",
      "                                                                 global_max_pooling2d_2[0][0]     \n",
      "__________________________________________________________________________________________________\n",
      "multiply_1 (Multiply)           (None, 2048)         0           global_max_pooling2d_1[0][0]     \n",
      "                                                                 global_max_pooling2d_2[0][0]     \n",
      "__________________________________________________________________________________________________\n",
      "concatenate_1 (Concatenate)     (None, 4097)         0           lambda_1[0][0]                   \n",
      "                                                                 subtract_1[0][0]                 \n",
      "                                                                 multiply_1[0][0]                 \n",
      "__________________________________________________________________________________________________\n",
      "dropout_3 (Dropout)             (None, 4097)         0           concatenate_1[0][0]              \n",
      "__________________________________________________________________________________________________\n",
      "dense_1 (Dense)                 (None, 1)            4098        dropout_3[0][0]                  \n",
      "==================================================================================================\n",
      "Total params: 23,565,250\n",
      "Trainable params: 23,512,130\n",
      "Non-trainable params: 53,120\n",
      "__________________________________________________________________________________________________\n"
     ]
    }
   ],
   "source": [
    "\n",
    "from keras.callbacks import ModelCheckpoint, ReduceLROnPlateau\n",
    "model2=model_2()\n",
    "#model.load_weights('1_model_weights.h5')\n",
    "log_dir='model2'\n",
    "tensorboard_callback = TensorBoard(log_dir=log_dir)\n",
    "file_path='my_model_2.hdf5'\n",
    "reduce_on_plateau = ReduceLROnPlateau(monitor=\"val_acc\", mode=\"max\", factor=0.1, patience=20, verbose=1)\n",
    "checkpoint=ModelCheckpoint(file_path,monitor='val_acc',verbose=1,save_best_only=True,mode='max') #Saves the best model based on val_acc\n",
    "callbacks_list=[checkpoint,reduce_on_plateau,tensorboard_callback ]"
   ]
  },
  {
   "cell_type": "code",
   "execution_count": 0,
   "metadata": {
    "colab": {
     "base_uri": "https://localhost:8080/",
     "height": 1000
    },
    "colab_type": "code",
    "executionInfo": {
     "elapsed": 1477252,
     "status": "ok",
     "timestamp": 1578732643153,
     "user": {
      "displayName": "santhosh ketha",
      "photoUrl": "https://lh3.googleusercontent.com/a-/AAuE7mCHZoev1Su01c3YSBYi638WPWZaktYecdyTuh8ZMQ=s64",
      "userId": "06963422152123978380"
     },
     "user_tz": -330
    },
    "id": "FASXNW3gS5Zg",
    "outputId": "33ffb768-aad9-40b0-873f-0e58c8c3a149"
   },
   "outputs": [
    {
     "name": "stdout",
     "output_type": "stream",
     "text": [
      "WARNING:tensorflow:From /usr/local/lib/python3.6/dist-packages/keras/backend/tensorflow_backend.py:1033: The name tf.assign_add is deprecated. Please use tf.compat.v1.assign_add instead.\n",
      "\n",
      "WARNING:tensorflow:From /usr/local/lib/python3.6/dist-packages/keras/backend/tensorflow_backend.py:1020: The name tf.assign is deprecated. Please use tf.compat.v1.assign instead.\n",
      "\n",
      "WARNING:tensorflow:From /usr/local/lib/python3.6/dist-packages/keras/callbacks.py:1122: The name tf.summary.merge_all is deprecated. Please use tf.compat.v1.summary.merge_all instead.\n",
      "\n",
      "WARNING:tensorflow:From /usr/local/lib/python3.6/dist-packages/keras/callbacks.py:1125: The name tf.summary.FileWriter is deprecated. Please use tf.compat.v1.summary.FileWriter instead.\n",
      "\n",
      "Epoch 1/16\n",
      "200/200 [==============================] - 110s 550ms/step - loss: 2.0465 - acc: 0.5321 - auroc: 0.5403 - val_loss: 1.3593 - val_acc: 0.5626 - val_auroc: 0.5927\n",
      "\n",
      "Epoch 00001: val_acc improved from -inf to 0.56263, saving model to my_model_2.hdf5\n",
      "WARNING:tensorflow:From /usr/local/lib/python3.6/dist-packages/keras/callbacks.py:1265: The name tf.Summary is deprecated. Please use tf.compat.v1.Summary instead.\n",
      "\n",
      "Epoch 2/16\n",
      "200/200 [==============================] - 88s 441ms/step - loss: 1.2050 - acc: 0.5514 - auroc: 0.5802 - val_loss: 1.3942 - val_acc: 0.5547 - val_auroc: 0.5948\n",
      "\n",
      "Epoch 00002: val_acc did not improve from 0.56263\n",
      "Epoch 3/16\n",
      "200/200 [==============================] - 89s 443ms/step - loss: 0.8813 - acc: 0.5841 - auroc: 0.6189 - val_loss: 0.8316 - val_acc: 0.6027 - val_auroc: 0.6509\n",
      "\n",
      "Epoch 00003: val_acc improved from 0.56263 to 0.60269, saving model to my_model_2.hdf5\n",
      "Epoch 4/16\n",
      "200/200 [==============================] - 89s 447ms/step - loss: 0.7355 - acc: 0.6189 - auroc: 0.6632 - val_loss: 0.6754 - val_acc: 0.6192 - val_auroc: 0.6894\n",
      "\n",
      "Epoch 00004: val_acc improved from 0.60269 to 0.61915, saving model to my_model_2.hdf5\n",
      "Epoch 5/16\n",
      "200/200 [==============================] - 89s 445ms/step - loss: 0.6431 - acc: 0.6696 - auroc: 0.7307 - val_loss: 0.6286 - val_acc: 0.6605 - val_auroc: 0.7270\n",
      "\n",
      "Epoch 00005: val_acc improved from 0.61915 to 0.66055, saving model to my_model_2.hdf5\n",
      "Epoch 6/16\n",
      "200/200 [==============================] - 89s 447ms/step - loss: 0.6130 - acc: 0.6848 - auroc: 0.7528 - val_loss: 0.6195 - val_acc: 0.6753 - val_auroc: 0.7424\n",
      "\n",
      "Epoch 00006: val_acc improved from 0.66055 to 0.67525, saving model to my_model_2.hdf5\n",
      "Epoch 7/16\n",
      "200/200 [==============================] - 89s 446ms/step - loss: 0.5972 - acc: 0.6984 - auroc: 0.7673 - val_loss: 0.6391 - val_acc: 0.6735 - val_auroc: 0.7521\n",
      "\n",
      "Epoch 00007: val_acc did not improve from 0.67525\n",
      "Epoch 8/16\n",
      "200/200 [==============================] - 89s 444ms/step - loss: 0.5527 - acc: 0.7150 - auroc: 0.7978 - val_loss: 0.5733 - val_acc: 0.6974 - val_auroc: 0.7856\n",
      "\n",
      "Epoch 00008: val_acc improved from 0.67525 to 0.69739, saving model to my_model_2.hdf5\n",
      "Epoch 9/16\n",
      "200/200 [==============================] - 89s 444ms/step - loss: 0.5117 - acc: 0.7496 - auroc: 0.8300 - val_loss: 0.5924 - val_acc: 0.6908 - val_auroc: 0.7941\n",
      "\n",
      "Epoch 00009: val_acc did not improve from 0.69739\n",
      "Epoch 10/16\n",
      "200/200 [==============================] - 89s 447ms/step - loss: 0.4935 - acc: 0.7652 - auroc: 0.8447 - val_loss: 0.5858 - val_acc: 0.7189 - val_auroc: 0.8026\n",
      "\n",
      "Epoch 00010: val_acc improved from 0.69739 to 0.71886, saving model to my_model_2.hdf5\n",
      "Epoch 11/16\n",
      "200/200 [==============================] - 89s 447ms/step - loss: 0.4738 - acc: 0.7791 - auroc: 0.8594 - val_loss: 0.5876 - val_acc: 0.7094 - val_auroc: 0.8071\n",
      "\n",
      "Epoch 00011: val_acc did not improve from 0.71886\n",
      "Epoch 12/16\n",
      "200/200 [==============================] - 90s 448ms/step - loss: 0.4612 - acc: 0.7842 - auroc: 0.8637 - val_loss: 0.6240 - val_acc: 0.7081 - val_auroc: 0.8034\n",
      "\n",
      "Epoch 00012: val_acc did not improve from 0.71886\n",
      "Epoch 13/16\n",
      "200/200 [==============================] - 89s 446ms/step - loss: 0.3946 - acc: 0.8216 - auroc: 0.9026 - val_loss: 0.5268 - val_acc: 0.7395 - val_auroc: 0.8282\n",
      "\n",
      "Epoch 00013: val_acc improved from 0.71886 to 0.73948, saving model to my_model_2.hdf5\n",
      "Epoch 14/16\n",
      "200/200 [==============================] - 89s 446ms/step - loss: 0.3831 - acc: 0.8284 - auroc: 0.9102 - val_loss: 0.5726 - val_acc: 0.7419 - val_auroc: 0.8194\n",
      "\n",
      "Epoch 00014: val_acc improved from 0.73948 to 0.74190, saving model to my_model_2.hdf5\n",
      "Epoch 15/16\n",
      "200/200 [==============================] - 90s 448ms/step - loss: 0.3662 - acc: 0.8368 - auroc: 0.9174 - val_loss: 0.7530 - val_acc: 0.6688 - val_auroc: 0.7987\n",
      "\n",
      "Epoch 00015: val_acc did not improve from 0.74190\n",
      "Epoch 16/16\n",
      "200/200 [==============================] - 89s 446ms/step - loss: 0.3611 - acc: 0.8343 - auroc: 0.9201 - val_loss: 0.5969 - val_acc: 0.7333 - val_auroc: 0.8159\n",
      "\n",
      "Epoch 00016: val_acc did not improve from 0.74190\n"
     ]
    }
   ],
   "source": [
    "history=model2.fit_generator(datagenerator(frame1,frame,batch_size=14),\\\n",
    "                    validation_data=datagenerator(frame1_val, frame_val, batch_size=14),\\\n",
    "                    epochs=16,verbose=1,callbacks=callbacks_list,steps_per_epoch=200,validation_steps=100)"
   ]
  },
  {
   "cell_type": "code",
   "execution_count": 0,
   "metadata": {
    "colab": {
     "base_uri": "https://localhost:8080/",
     "height": 559
    },
    "colab_type": "code",
    "executionInfo": {
     "elapsed": 808288,
     "status": "ok",
     "timestamp": 1578732644331,
     "user": {
      "displayName": "santhosh ketha",
      "photoUrl": "https://lh3.googleusercontent.com/a-/AAuE7mCHZoev1Su01c3YSBYi638WPWZaktYecdyTuh8ZMQ=s64",
      "userId": "06963422152123978380"
     },
     "user_tz": -330
    },
    "id": "wy4XI7wFDPii",
    "outputId": "3b3a2584-252b-482e-912c-79910ebc191f"
   },
   "outputs": [
    {
     "data": {
      "image/png": "[encoded data removed]",
      "text/plain": [
       "<Figure size 432x288 with 1 Axes>"
      ]
     },
     "metadata": {
      "tags": []
     },
     "output_type": "display_data"
    },
    {
     "data": {
      "image/png": "[encoded data removed]",
      "text/plain": [
       "<Figure size 432x288 with 1 Axes>"
      ]
     },
     "metadata": {
      "tags": []
     },
     "output_type": "display_data"
    }
   ],
   "source": [
    "\n",
    "plt.plot(history.history['acc'])\n",
    "plt.plot(history.history['val_acc'])\n",
    "plt.title('Model accuracy')\n",
    "plt.ylabel('Accuracy')\n",
    "plt.xlabel('Epoch')\n",
    "plt.legend(['Train', 'Test'], loc='upper left')\n",
    "plt.show()\n",
    "\n",
    "# Plot training & validation loss values\n",
    "\n",
    "plt.plot(history.history['auroc'])\n",
    "plt.plot(history.history['val_auroc'])\n",
    "plt.title('Model auroc')\n",
    "plt.ylabel('auc')\n",
    "plt.legend(['Train', 'Test'], loc='upper left')\n",
    "plt.show()"
   ]
  },
  {
   "cell_type": "markdown",
   "metadata": {
    "colab_type": "text",
    "id": "_aDx-MDcS-ze"
   },
   "source": [
    "# Model 3"
   ]
  },
  {
   "cell_type": "code",
   "execution_count": 0,
   "metadata": {
    "colab": {},
    "colab_type": "code",
    "id": "0mFDCm__79CX"
   },
   "outputs": [],
   "source": [
    "from keras.layers.normalization import BatchNormalization\n",
    "def model_3():\n",
    "  input1=Input(shape=(224,224,3))\n",
    "  input2=Input(shape=(224,224,3))\n",
    "  \n",
    "\n",
    "  base_model=VGGFace(model='senet50',include_top=False)  # Pretrained model  Vggface\n",
    "  for x in base_model.layers[:-3]:\n",
    "      x.trainable = True\n",
    "\n",
    "  x1=base_model(input1)\n",
    "  x2=base_model(input2)\n",
    "  x1=Dropout(0.2)(x1)\n",
    "  x2=Dropout(0.2)(x2)\n",
    "  x1=Concatenate(axis=-1)([GlobalMaxPool2D()(x1),GlobalAvgPool2D()(x1)])\n",
    "  x2=Concatenate(axis=-1)([GlobalMaxPool2D()(x2),GlobalAvgPool2D()(x2)])\n",
    "\n",
    "  x3=Subtract()([x1,x2])\n",
    "  x3=Multiply()([x3,x3])\n",
    "\n",
    "  x1_=Multiply()([x1,x1])\n",
    "  x2_=Multiply()([x2,x2])\n",
    "  x4=Subtract()([x1_,x2_])\n",
    "\n",
    "  x5=Multiply()([x1,x2])\n",
    "\n",
    "  x=Concatenate(axis=-1)([x3,x4,x5])\n",
    "\n",
    "  x=(BatchNormalization())(x)\n",
    "  \n",
    "  x=Dropout(0.2)(x)\n",
    " \n",
    "  x=Dense(256,activation='relu')(x)\n",
    "  x=(BatchNormalization())(x)\n",
    "  x=Dropout(0.2)(x)\n",
    "  out=Dense(1,activation='sigmoid')(x)\n",
    "\n",
    "  model=Model([input1,input2],out)\n",
    "\n",
    "  model.compile(loss='binary_crossentropy',metrics=['acc',auroc],optimizer=Adam(0.00001))\n",
    "\n",
    "  model.summary()\n",
    "\n",
    "  return model"
   ]
  },
  {
   "cell_type": "code",
   "execution_count": 119,
   "metadata": {
    "colab": {
     "base_uri": "https://localhost:8080/",
     "height": 1000
    },
    "colab_type": "code",
    "executionInfo": {
     "elapsed": 86549,
     "status": "ok",
     "timestamp": 1578832458531,
     "user": {
      "displayName": "santhosh ketha",
      "photoUrl": "https://lh3.googleusercontent.com/a-/AAuE7mCHZoev1Su01c3YSBYi638WPWZaktYecdyTuh8ZMQ=s64",
      "userId": "06963422152123978380"
     },
     "user_tz": -330
    },
    "id": "8_GKKLzk-VSQ",
    "outputId": "80299668-36cd-44ab-cb2c-3a45a2a5ae47"
   },
   "outputs": [
    {
     "name": "stdout",
     "output_type": "stream",
     "text": [
      "Model: \"model_19\"\n",
      "__________________________________________________________________________________________________\n",
      "Layer (type)                    Output Shape         Param #     Connected to                     \n",
      "==================================================================================================\n",
      "input_64 (InputLayer)           (None, 224, 224, 3)  0                                            \n",
      "__________________________________________________________________________________________________\n",
      "input_65 (InputLayer)           (None, 224, 224, 3)  0                                            \n",
      "__________________________________________________________________________________________________\n",
      "vggface_senet50 (Model)         multiple             26092144    input_64[0][0]                   \n",
      "                                                                 input_65[0][0]                   \n",
      "__________________________________________________________________________________________________\n",
      "dropout_46 (Dropout)            (None, 1, 1, 2048)   0           vggface_senet50[1][0]            \n",
      "__________________________________________________________________________________________________\n",
      "dropout_47 (Dropout)            (None, 1, 1, 2048)   0           vggface_senet50[2][0]            \n",
      "__________________________________________________________________________________________________\n",
      "global_max_pooling2d_17 (Global (None, 2048)         0           dropout_46[0][0]                 \n",
      "__________________________________________________________________________________________________\n",
      "global_average_pooling2d_177 (G (None, 2048)         0           dropout_46[0][0]                 \n",
      "__________________________________________________________________________________________________\n",
      "global_max_pooling2d_18 (Global (None, 2048)         0           dropout_47[0][0]                 \n",
      "__________________________________________________________________________________________________\n",
      "global_average_pooling2d_178 (G (None, 2048)         0           dropout_47[0][0]                 \n",
      "__________________________________________________________________________________________________\n",
      "concatenate_35 (Concatenate)    (None, 4096)         0           global_max_pooling2d_17[0][0]    \n",
      "                                                                 global_average_pooling2d_177[0][0\n",
      "__________________________________________________________________________________________________\n",
      "concatenate_36 (Concatenate)    (None, 4096)         0           global_max_pooling2d_18[0][0]    \n",
      "                                                                 global_average_pooling2d_178[0][0\n",
      "__________________________________________________________________________________________________\n",
      "subtract_28 (Subtract)          (None, 4096)         0           concatenate_35[0][0]             \n",
      "                                                                 concatenate_36[0][0]             \n",
      "__________________________________________________________________________________________________\n",
      "multiply_194 (Multiply)         (None, 4096)         0           concatenate_35[0][0]             \n",
      "                                                                 concatenate_35[0][0]             \n",
      "__________________________________________________________________________________________________\n",
      "multiply_195 (Multiply)         (None, 4096)         0           concatenate_36[0][0]             \n",
      "                                                                 concatenate_36[0][0]             \n",
      "__________________________________________________________________________________________________\n",
      "multiply_193 (Multiply)         (None, 4096)         0           subtract_28[0][0]                \n",
      "                                                                 subtract_28[0][0]                \n",
      "__________________________________________________________________________________________________\n",
      "subtract_29 (Subtract)          (None, 4096)         0           multiply_194[0][0]               \n",
      "                                                                 multiply_195[0][0]               \n",
      "__________________________________________________________________________________________________\n",
      "multiply_196 (Multiply)         (None, 4096)         0           concatenate_35[0][0]             \n",
      "                                                                 concatenate_36[0][0]             \n",
      "__________________________________________________________________________________________________\n",
      "concatenate_37 (Concatenate)    (None, 12288)        0           multiply_193[0][0]               \n",
      "                                                                 subtract_29[0][0]                \n",
      "                                                                 multiply_196[0][0]               \n",
      "__________________________________________________________________________________________________\n",
      "batch_normalization_10 (BatchNo (None, 12288)        49152       concatenate_37[0][0]             \n",
      "__________________________________________________________________________________________________\n",
      "dropout_48 (Dropout)            (None, 12288)        0           batch_normalization_10[0][0]     \n",
      "__________________________________________________________________________________________________\n",
      "dense_44 (Dense)                (None, 256)          3145984     dropout_48[0][0]                 \n",
      "__________________________________________________________________________________________________\n",
      "batch_normalization_11 (BatchNo (None, 256)          1024        dense_44[0][0]                   \n",
      "__________________________________________________________________________________________________\n",
      "dropout_49 (Dropout)            (None, 256)          0           batch_normalization_11[0][0]     \n",
      "__________________________________________________________________________________________________\n",
      "dense_45 (Dense)                (None, 1)            257         dropout_49[0][0]                 \n",
      "==================================================================================================\n",
      "Total params: 29,288,561\n",
      "Trainable params: 29,210,353\n",
      "Non-trainable params: 78,208\n",
      "__________________________________________________________________________________________________\n"
     ]
    }
   ],
   "source": [
    "\n",
    "model3=model_3()\n",
    "#model.load_weights('1_model_weights.h5')\n",
    "file_path='my_model_3.hdf5'\n",
    "log_dir='model4'\n",
    "tensorboard_callback = TensorBoard(log_dir=log_dir)\n",
    "reduce_on_plateau = ReduceLROnPlateau(monitor=\"val_acc\", mode=\"max\", factor=0.1, patience=20, verbose=1)\n",
    "checkpoint=ModelCheckpoint(file_path,monitor='val_acc',verbose=1,save_best_only=True,mode='max') #Saves the best model based on val_acc\n",
    "callbacks_list=[checkpoint,reduce_on_plateau,tensorboard_callback]"
   ]
  },
  {
   "cell_type": "code",
   "execution_count": 120,
   "metadata": {
    "colab": {
     "base_uri": "https://localhost:8080/",
     "height": 765
    },
    "colab_type": "code",
    "executionInfo": {
     "elapsed": 1440778,
     "status": "ok",
     "timestamp": 1578833899324,
     "user": {
      "displayName": "santhosh ketha",
      "photoUrl": "https://lh3.googleusercontent.com/a-/AAuE7mCHZoev1Su01c3YSBYi638WPWZaktYecdyTuh8ZMQ=s64",
      "userId": "06963422152123978380"
     },
     "user_tz": -330
    },
    "id": "uufUIIlr-chU",
    "outputId": "dcc92d97-0be4-40ae-fef0-5ff1de1eed27"
   },
   "outputs": [
    {
     "name": "stdout",
     "output_type": "stream",
     "text": [
      "Epoch 1/11\n",
      "200/200 [==============================] - 146s 729ms/step - loss: 0.7126 - acc: 0.6396 - auroc: 0.6905 - val_loss: 0.6854 - val_acc: 0.5990 - val_auroc: 0.6471\n",
      "\n",
      "Epoch 00001: val_acc improved from -inf to 0.59899, saving model to my_model_3.hdf5\n",
      "Epoch 2/11\n",
      "200/200 [==============================] - 111s 556ms/step - loss: 0.5933 - acc: 0.7137 - auroc: 0.7805 - val_loss: 0.6213 - val_acc: 0.6818 - val_auroc: 0.7571\n",
      "\n",
      "Epoch 00002: val_acc improved from 0.59899 to 0.68179, saving model to my_model_3.hdf5\n",
      "Epoch 3/11\n",
      "200/200 [==============================] - 111s 554ms/step - loss: 0.5369 - acc: 0.7427 - auroc: 0.8238 - val_loss: 0.6054 - val_acc: 0.6909 - val_auroc: 0.7705\n",
      "\n",
      "Epoch 00003: val_acc improved from 0.68179 to 0.69086, saving model to my_model_3.hdf5\n",
      "Epoch 4/11\n",
      "200/200 [==============================] - 111s 554ms/step - loss: 0.4911 - acc: 0.7750 - auroc: 0.8553 - val_loss: 0.6287 - val_acc: 0.6901 - val_auroc: 0.7704\n",
      "\n",
      "Epoch 00004: val_acc did not improve from 0.69086\n",
      "Epoch 5/11\n",
      "200/200 [==============================] - 111s 554ms/step - loss: 0.4607 - acc: 0.7863 - auroc: 0.8673 - val_loss: 0.6265 - val_acc: 0.6944 - val_auroc: 0.7856\n",
      "\n",
      "Epoch 00005: val_acc improved from 0.69086 to 0.69438, saving model to my_model_3.hdf5\n",
      "Epoch 6/11\n",
      "200/200 [==============================] - 111s 554ms/step - loss: 0.4448 - acc: 0.7954 - auroc: 0.8790 - val_loss: 0.6205 - val_acc: 0.7144 - val_auroc: 0.7968\n",
      "\n",
      "Epoch 00006: val_acc improved from 0.69438 to 0.71444, saving model to my_model_3.hdf5\n",
      "Epoch 7/11\n",
      "200/200 [==============================] - 111s 554ms/step - loss: 0.4519 - acc: 0.7938 - auroc: 0.8783 - val_loss: 0.6091 - val_acc: 0.7045 - val_auroc: 0.8019\n",
      "\n",
      "Epoch 00007: val_acc did not improve from 0.71444\n",
      "Epoch 8/11\n",
      "200/200 [==============================] - 111s 554ms/step - loss: 0.4266 - acc: 0.8025 - auroc: 0.8888 - val_loss: 0.6288 - val_acc: 0.7054 - val_auroc: 0.8165\n",
      "\n",
      "Epoch 00008: val_acc did not improve from 0.71444\n",
      "Epoch 9/11\n",
      "200/200 [==============================] - 111s 554ms/step - loss: 0.4033 - acc: 0.8189 - auroc: 0.8993 - val_loss: 0.6395 - val_acc: 0.7246 - val_auroc: 0.8022\n",
      "\n",
      "Epoch 00009: val_acc improved from 0.71444 to 0.72462, saving model to my_model_3.hdf5\n",
      "Epoch 10/11\n",
      "200/200 [==============================] - 111s 554ms/step - loss: 0.3883 - acc: 0.8198 - auroc: 0.9047 - val_loss: 0.6030 - val_acc: 0.7304 - val_auroc: 0.8241\n",
      "\n",
      "Epoch 00010: val_acc improved from 0.72462 to 0.73038, saving model to my_model_3.hdf5\n",
      "Epoch 11/11\n",
      "200/200 [==============================] - 111s 553ms/step - loss: 0.3760 - acc: 0.8304 - auroc: 0.9132 - val_loss: 0.6022 - val_acc: 0.7217 - val_auroc: 0.8241\n",
      "\n",
      "Epoch 00011: val_acc did not improve from 0.73038\n"
     ]
    }
   ],
   "source": [
    "history=model3.fit_generator(datagenerator(frame1,frame,batch_size=14),\\\n",
    "                    validation_data=datagenerator(frame1_val, frame_val, batch_size=14),\\\n",
    "                    epochs=11,verbose=1,callbacks=callbacks_list,steps_per_epoch=200,validation_steps=100)"
   ]
  },
  {
   "cell_type": "code",
   "execution_count": 121,
   "metadata": {
    "colab": {
     "base_uri": "https://localhost:8080/",
     "height": 559
    },
    "colab_type": "code",
    "executionInfo": {
     "elapsed": 2118,
     "status": "ok",
     "timestamp": 1578833955581,
     "user": {
      "displayName": "santhosh ketha",
      "photoUrl": "https://lh3.googleusercontent.com/a-/AAuE7mCHZoev1Su01c3YSBYi638WPWZaktYecdyTuh8ZMQ=s64",
      "userId": "06963422152123978380"
     },
     "user_tz": -330
    },
    "id": "o_BKIefiXhJX",
    "outputId": "ad7b09e6-74c8-4708-ef6d-6e85f366e5b9"
   },
   "outputs": [
    {
     "data": {
      "image/png": "[encoded data removed]",
      "text/plain": [
       "<Figure size 432x288 with 1 Axes>"
      ]
     },
     "metadata": {
      "tags": []
     },
     "output_type": "display_data"
    },
    {
     "data": {
      "image/png": "[encoded data removed]",
      "text/plain": [
       "<Figure size 432x288 with 1 Axes>"
      ]
     },
     "metadata": {
      "tags": []
     },
     "output_type": "display_data"
    }
   ],
   "source": [
    "\n",
    "plt.plot(history.history['acc'])\n",
    "plt.plot(history.history['val_acc'])\n",
    "plt.title('Model accuracy')\n",
    "plt.ylabel('Accuracy')\n",
    "plt.xlabel('Epoch')\n",
    "plt.legend(['Train', 'Test'], loc='upper left')\n",
    "plt.show()\n",
    "\n",
    "# Plot training & validation loss values\n",
    "\n",
    "plt.plot(history.history['auroc'])\n",
    "plt.plot(history.history['val_auroc'])\n",
    "plt.title('Model auroc')\n",
    "plt.ylabel('auc')\n",
    "plt.legend(['Train', 'Test'], loc='upper left')\n",
    "plt.show()"
   ]
  },
  {
   "cell_type": "markdown",
   "metadata": {
    "colab_type": "text",
    "id": "1pI3xsONR0YH"
   },
   "source": [
    "# Observation.\n",
    "\n",
    "By VGG senet50 with same architecture is trying to overfit a bit ."
   ]
  },
  {
   "cell_type": "markdown",
   "metadata": {
    "colab_type": "text",
    "id": "8vyoe9YOSJbO"
   },
   "source": [
    "# Model 4"
   ]
  },
  {
   "cell_type": "markdown",
   "metadata": {
    "colab_type": "text",
    "id": "9LNR7Jew3mM6"
   },
   "source": [
    "## Using image augmentation"
   ]
  },
  {
   "cell_type": "code",
   "execution_count": 0,
   "metadata": {
    "colab": {},
    "colab_type": "code",
    "id": "lpFcC3ER2FyW"
   },
   "outputs": [],
   "source": [
    "from keras.layers.normalization import BatchNormalization\n",
    "def model_4():\n",
    "  input1=Input(shape=(224,224,3))\n",
    "  input2=Input(shape=(224,224,3))\n",
    "  \n",
    "\n",
    "  base_model=VGGFace(model='resnet50',include_top=False)  # Pretrained model  Vggface\n",
    "  for x in base_model.layers[:-3]:\n",
    "      x.trainable = True\n",
    "\n",
    "  x1=base_model(input1)\n",
    "  x2=base_model(input2)\n",
    "  x1=Dropout(0.2)(x1)\n",
    "  x2=Dropout(0.2)(x2)\n",
    "  x1=Concatenate(axis=-1)([GlobalMaxPool2D()(x1),GlobalAvgPool2D()(x1)])\n",
    "  x2=Concatenate(axis=-1)([GlobalMaxPool2D()(x2),GlobalAvgPool2D()(x2)])\n",
    "\n",
    "  x3=Subtract()([x1,x2])\n",
    "  x3=Multiply()([x3,x3])\n",
    "\n",
    "  x1_=Multiply()([x1,x1])\n",
    "  x2_=Multiply()([x2,x2])\n",
    "  x4=Subtract()([x1_,x2_])\n",
    "\n",
    "  x5=Multiply()([x1,x2])\n",
    "\n",
    "  x=Concatenate(axis=-1)([x3,x4,x5])\n",
    "\n",
    "  x=(BatchNormalization())(x)\n",
    "  \n",
    "  x=Dropout(0.2)(x)\n",
    " \n",
    "  x=Dense(256,activation='relu')(x)\n",
    "  x=(BatchNormalization())(x)\n",
    "  x=Dropout(0.2)(x)\n",
    "  out=Dense(1,activation='sigmoid')(x)\n",
    "\n",
    "  model=Model([input1,input2],out)\n",
    "\n",
    "  model.compile(loss='binary_crossentropy',metrics=['acc'],optimizer=Adam(0.00001))\n",
    "\n",
    "  model.summary()\n",
    "\n",
    "  return model"
   ]
  },
  {
   "cell_type": "code",
   "execution_count": 140,
   "metadata": {
    "colab": {
     "base_uri": "https://localhost:8080/",
     "height": 1000
    },
    "colab_type": "code",
    "executionInfo": {
     "elapsed": 100149,
     "status": "ok",
     "timestamp": 1578834932501,
     "user": {
      "displayName": "santhosh ketha",
      "photoUrl": "https://lh3.googleusercontent.com/a-/AAuE7mCHZoev1Su01c3YSBYi638WPWZaktYecdyTuh8ZMQ=s64",
      "userId": "06963422152123978380"
     },
     "user_tz": -330
    },
    "id": "bfKAL7eX3rni",
    "outputId": "59364c92-e0a1-41dd-a366-63aa5d1a6a7c"
   },
   "outputs": [
    {
     "name": "stdout",
     "output_type": "stream",
     "text": [
      "Model: \"model_21\"\n",
      "__________________________________________________________________________________________________\n",
      "Layer (type)                    Output Shape         Param #     Connected to                     \n",
      "==================================================================================================\n",
      "input_76 (InputLayer)           (None, 224, 224, 3)  0                                            \n",
      "__________________________________________________________________________________________________\n",
      "input_77 (InputLayer)           (None, 224, 224, 3)  0                                            \n",
      "__________________________________________________________________________________________________\n",
      "vggface_resnet50 (Model)        multiple             23561152    input_76[0][0]                   \n",
      "                                                                 input_77[0][0]                   \n",
      "__________________________________________________________________________________________________\n",
      "dropout_54 (Dropout)            (None, 1, 1, 2048)   0           vggface_resnet50[1][0]           \n",
      "__________________________________________________________________________________________________\n",
      "dropout_55 (Dropout)            (None, 1, 1, 2048)   0           vggface_resnet50[2][0]           \n",
      "__________________________________________________________________________________________________\n",
      "global_max_pooling2d_21 (Global (None, 2048)         0           dropout_54[0][0]                 \n",
      "__________________________________________________________________________________________________\n",
      "global_average_pooling2d_181 (G (None, 2048)         0           dropout_54[0][0]                 \n",
      "__________________________________________________________________________________________________\n",
      "global_max_pooling2d_22 (Global (None, 2048)         0           dropout_55[0][0]                 \n",
      "__________________________________________________________________________________________________\n",
      "global_average_pooling2d_182 (G (None, 2048)         0           dropout_55[0][0]                 \n",
      "__________________________________________________________________________________________________\n",
      "concatenate_41 (Concatenate)    (None, 4096)         0           global_max_pooling2d_21[0][0]    \n",
      "                                                                 global_average_pooling2d_181[0][0\n",
      "__________________________________________________________________________________________________\n",
      "concatenate_42 (Concatenate)    (None, 4096)         0           global_max_pooling2d_22[0][0]    \n",
      "                                                                 global_average_pooling2d_182[0][0\n",
      "__________________________________________________________________________________________________\n",
      "subtract_32 (Subtract)          (None, 4096)         0           concatenate_41[0][0]             \n",
      "                                                                 concatenate_42[0][0]             \n",
      "__________________________________________________________________________________________________\n",
      "multiply_202 (Multiply)         (None, 4096)         0           concatenate_41[0][0]             \n",
      "                                                                 concatenate_41[0][0]             \n",
      "__________________________________________________________________________________________________\n",
      "multiply_203 (Multiply)         (None, 4096)         0           concatenate_42[0][0]             \n",
      "                                                                 concatenate_42[0][0]             \n",
      "__________________________________________________________________________________________________\n",
      "multiply_201 (Multiply)         (None, 4096)         0           subtract_32[0][0]                \n",
      "                                                                 subtract_32[0][0]                \n",
      "__________________________________________________________________________________________________\n",
      "subtract_33 (Subtract)          (None, 4096)         0           multiply_202[0][0]               \n",
      "                                                                 multiply_203[0][0]               \n",
      "__________________________________________________________________________________________________\n",
      "multiply_204 (Multiply)         (None, 4096)         0           concatenate_41[0][0]             \n",
      "                                                                 concatenate_42[0][0]             \n",
      "__________________________________________________________________________________________________\n",
      "concatenate_43 (Concatenate)    (None, 12288)        0           multiply_201[0][0]               \n",
      "                                                                 subtract_33[0][0]                \n",
      "                                                                 multiply_204[0][0]               \n",
      "__________________________________________________________________________________________________\n",
      "batch_normalization_14 (BatchNo (None, 12288)        49152       concatenate_43[0][0]             \n",
      "__________________________________________________________________________________________________\n",
      "dropout_56 (Dropout)            (None, 12288)        0           batch_normalization_14[0][0]     \n",
      "__________________________________________________________________________________________________\n",
      "dense_48 (Dense)                (None, 256)          3145984     dropout_56[0][0]                 \n",
      "__________________________________________________________________________________________________\n",
      "batch_normalization_15 (BatchNo (None, 256)          1024        dense_48[0][0]                   \n",
      "__________________________________________________________________________________________________\n",
      "dropout_57 (Dropout)            (None, 256)          0           batch_normalization_15[0][0]     \n",
      "__________________________________________________________________________________________________\n",
      "dense_49 (Dense)                (None, 1)            257         dropout_57[0][0]                 \n",
      "==================================================================================================\n",
      "Total params: 26,757,569\n",
      "Trainable params: 26,679,361\n",
      "Non-trainable params: 78,208\n",
      "__________________________________________________________________________________________________\n"
     ]
    }
   ],
   "source": [
    "\n",
    "model4=model_4()\n",
    "#model.load_weights('1_model_weights.h5')\n",
    "file_path='my_model_4.hdf5'\n",
    "log_dir='model5'\n",
    "tensorboard_callback = TensorBoard(log_dir=log_dir)\n",
    "reduce_on_plateau = ReduceLROnPlateau(monitor=\"val_acc\", mode=\"max\", factor=0.1, patience=20, verbose=1)\n",
    "checkpoint=ModelCheckpoint(file_path,monitor='val_acc',verbose=1,save_best_only=True,mode='max') #Saves the best model based on val_acc\n",
    "callbacks_list=[checkpoint,reduce_on_plateau,tensorboard_callback]"
   ]
  },
  {
   "cell_type": "code",
   "execution_count": 143,
   "metadata": {
    "colab": {
     "base_uri": "https://localhost:8080/",
     "height": 1000
    },
    "colab_type": "code",
    "executionInfo": {
     "elapsed": 2370461,
     "status": "ok",
     "timestamp": 1578838703372,
     "user": {
      "displayName": "santhosh ketha",
      "photoUrl": "https://lh3.googleusercontent.com/a-/AAuE7mCHZoev1Su01c3YSBYi638WPWZaktYecdyTuh8ZMQ=s64",
      "userId": "06963422152123978380"
     },
     "user_tz": -330
    },
    "id": "Vhqt3WI54BBm",
    "outputId": "585bb0e0-f50d-4d1d-82f0-f143caaf26a1"
   },
   "outputs": [
    {
     "name": "stdout",
     "output_type": "stream",
     "text": [
      "Epoch 1/16\n",
      "200/200 [==============================] - 152s 759ms/step - loss: 0.8116 - acc: 0.5683 - val_loss: 0.8621 - val_acc: 0.4895\n",
      "\n",
      "Epoch 00001: val_acc did not improve from 0.48991\n",
      "Epoch 2/16\n",
      "200/200 [==============================] - 147s 736ms/step - loss: 0.8146 - acc: 0.5617 - val_loss: 0.8822 - val_acc: 0.4769\n",
      "\n",
      "Epoch 00002: val_acc did not improve from 0.48991\n",
      "Epoch 3/16\n",
      "200/200 [==============================] - 146s 732ms/step - loss: 0.8007 - acc: 0.5785 - val_loss: 0.8392 - val_acc: 0.5004\n",
      "\n",
      "Epoch 00003: val_acc improved from 0.48991 to 0.50042, saving model to my_model_4.hdf5\n",
      "Epoch 4/16\n",
      "200/200 [==============================] - 145s 727ms/step - loss: 0.8058 - acc: 0.5802 - val_loss: 0.8573 - val_acc: 0.4936\n",
      "\n",
      "Epoch 00004: val_acc did not improve from 0.50042\n",
      "Epoch 5/16\n",
      "200/200 [==============================] - 145s 725ms/step - loss: 0.7935 - acc: 0.5867 - val_loss: 0.8482 - val_acc: 0.4811\n",
      "\n",
      "Epoch 00005: val_acc did not improve from 0.50042\n",
      "Epoch 6/16\n",
      "200/200 [==============================] - 144s 721ms/step - loss: 0.7818 - acc: 0.5806 - val_loss: 0.8445 - val_acc: 0.4802\n",
      "\n",
      "Epoch 00006: val_acc did not improve from 0.50042\n",
      "Epoch 7/16\n",
      "200/200 [==============================] - 144s 722ms/step - loss: 0.7700 - acc: 0.5921 - val_loss: 0.8600 - val_acc: 0.4693\n",
      "\n",
      "Epoch 00007: val_acc did not improve from 0.50042\n",
      "Epoch 8/16\n",
      "200/200 [==============================] - 144s 718ms/step - loss: 0.7726 - acc: 0.5848 - val_loss: 0.8319 - val_acc: 0.5042\n",
      "\n",
      "Epoch 00008: val_acc improved from 0.50042 to 0.50421, saving model to my_model_4.hdf5\n",
      "Epoch 9/16\n",
      "200/200 [==============================] - 143s 714ms/step - loss: 0.7926 - acc: 0.5669 - val_loss: 0.8389 - val_acc: 0.4911\n",
      "\n",
      "Epoch 00009: val_acc did not improve from 0.50421\n",
      "Epoch 10/16\n",
      "200/200 [==============================] - 145s 723ms/step - loss: 0.7650 - acc: 0.5860 - val_loss: 0.8364 - val_acc: 0.4802\n",
      "\n",
      "Epoch 00010: val_acc did not improve from 0.50421\n",
      "Epoch 11/16\n",
      "200/200 [==============================] - 144s 721ms/step - loss: 0.7468 - acc: 0.5969 - val_loss: 0.8042 - val_acc: 0.4975\n",
      "\n",
      "Epoch 00011: val_acc did not improve from 0.50421\n",
      "Epoch 12/16\n",
      "200/200 [==============================] - 143s 715ms/step - loss: 0.7429 - acc: 0.6010 - val_loss: 0.8218 - val_acc: 0.4971\n",
      "\n",
      "Epoch 00012: val_acc did not improve from 0.50421\n",
      "Epoch 13/16\n",
      "200/200 [==============================] - 143s 715ms/step - loss: 0.7453 - acc: 0.6040 - val_loss: 0.7895 - val_acc: 0.5059\n",
      "\n",
      "Epoch 00013: val_acc improved from 0.50421 to 0.50589, saving model to my_model_4.hdf5\n",
      "Epoch 14/16\n",
      "200/200 [==============================] - 145s 724ms/step - loss: 0.7299 - acc: 0.6173 - val_loss: 0.7903 - val_acc: 0.5055\n",
      "\n",
      "Epoch 00014: val_acc did not improve from 0.50589\n",
      "Epoch 15/16\n",
      "200/200 [==============================] - 143s 717ms/step - loss: 0.7436 - acc: 0.6031 - val_loss: 0.7660 - val_acc: 0.4962\n",
      "\n",
      "Epoch 00015: val_acc did not improve from 0.50589\n",
      "Epoch 16/16\n",
      "200/200 [==============================] - 142s 712ms/step - loss: 0.7329 - acc: 0.6050 - val_loss: 0.7680 - val_acc: 0.4941\n",
      "\n",
      "Epoch 00016: val_acc did not improve from 0.50589\n"
     ]
    }
   ],
   "source": [
    "history=model4.fit_generator(get_flow_from_dataframe(train_generator_1,train_generator_2),\\\n",
    "                    validation_data=get_flow_from_dataframe(train_generator_3,train_generator_4),\\\n",
    "                    epochs=16,verbose=1,callbacks=callbacks_list,steps_per_epoch=200,validation_steps=100)"
   ]
  },
  {
   "cell_type": "code",
   "execution_count": 148,
   "metadata": {
    "colab": {
     "base_uri": "https://localhost:8080/",
     "height": 295
    },
    "colab_type": "code",
    "executionInfo": {
     "elapsed": 2422,
     "status": "ok",
     "timestamp": 1578840974719,
     "user": {
      "displayName": "santhosh ketha",
      "photoUrl": "https://lh3.googleusercontent.com/a-/AAuE7mCHZoev1Su01c3YSBYi638WPWZaktYecdyTuh8ZMQ=s64",
      "userId": "06963422152123978380"
     },
     "user_tz": -330
    },
    "id": "zrq4GgJKQGZd",
    "outputId": "697e5dba-9c3f-46a1-d2b1-00565e8e66e5"
   },
   "outputs": [
    {
     "data": {
      "image/png": "[encoded data removed]",
      "text/plain": [
       "<Figure size 432x288 with 1 Axes>"
      ]
     },
     "metadata": {
      "tags": []
     },
     "output_type": "display_data"
    }
   ],
   "source": [
    "\n",
    "plt.plot(history.history['loss'])\n",
    "plt.plot(history.history['val_loss'])\n",
    "plt.title('Model loss')\n",
    "plt.ylabel('loss')\n",
    "plt.xlabel('Epoch')\n",
    "plt.legend(['Train', 'Test'], loc='upper left')\n",
    "plt.show()\n",
    "\n"
   ]
  },
  {
   "cell_type": "markdown",
   "metadata": {
    "colab_type": "text",
    "id": "7YyTMM-cynjl"
   },
   "source": [
    "# Main observation:\n",
    "\n",
    "1.Model 1 performed well out of all models .\n",
    "\n",
    "2.Pretrained model Vgg resnet50 and senet50 has significantly impacted our model's performance.\n",
    "\n",
    "\n",
    "3.We can improve our results further to some extent but expecting close to 100 percent accuracy may not be possible due the fact that faces may not always retain their previous generation symptomes.\n"
   ]
  },
  {
   "cell_type": "code",
   "execution_count": 153,
   "metadata": {
    "colab": {
     "base_uri": "https://localhost:8080/",
     "height": 170
    },
    "colab_type": "code",
    "executionInfo": {
     "elapsed": 1951,
     "status": "ok",
     "timestamp": 1578843610592,
     "user": {
      "displayName": "santhosh ketha",
      "photoUrl": "https://lh3.googleusercontent.com/a-/AAuE7mCHZoev1Su01c3YSBYi638WPWZaktYecdyTuh8ZMQ=s64",
      "userId": "06963422152123978380"
     },
     "user_tz": -330
    },
    "id": "hrIX1M5yy94h",
    "outputId": "a179f2e3-51b9-4209-cf6a-0d665ec2af26"
   },
   "outputs": [
    {
     "name": "stdout",
     "output_type": "stream",
     "text": [
      "+----------+----------------+--------------+\n",
      "|  Model   | best train auc |  best cv AUC |\n",
      "+----------+----------------+--------------+\n",
      "| Model 1a |      0.86      |     0.85     |\n",
      "| Model 1b |      0.95      |     0.86     |\n",
      "| Model 1c |      0.91      |     0.85     |\n",
      "| Model 2  |      0.91      |     0.82     |\n",
      "| Model 3  |      0.91      |     0.82     |\n",
      "+----------+----------------+--------------+\n"
     ]
    }
   ],
   "source": [
    "from prettytable import PrettyTable\n",
    "conclusion= PrettyTable()\n",
    "conclusion.field_names = [ \"Model\", 'best train auc',\" best cv AUC\"]\n",
    "\n",
    "conclusion.add_row([\"Model 1a\", 0.86,0.85])\n",
    "conclusion.add_row([\"Model 1b\", 0.95,0.86])\n",
    "conclusion.add_row([\"Model 1c\", 0.91,0.85])\n",
    "conclusion.add_row([\"Model 2\", 0.91, 0.82])\n",
    "conclusion.add_row([\"Model 3\", 0.91, 0.82])\n",
    "\n",
    "print(conclusion)"
   ]
  },
  {
   "cell_type": "markdown",
   "metadata": {
    "colab_type": "text",
    "id": "sSIEN9nbzujf"
   },
   "source": [
    "#### submission"
   ]
  },
  {
   "cell_type": "code",
   "execution_count": 122,
   "metadata": {
    "colab": {
     "base_uri": "https://localhost:8080/",
     "height": 34
    },
    "colab_type": "code",
    "executionInfo": {
     "elapsed": 73720,
     "status": "ok",
     "timestamp": 1578834098745,
     "user": {
      "displayName": "santhosh ketha",
      "photoUrl": "https://lh3.googleusercontent.com/a-/AAuE7mCHZoev1Su01c3YSBYi638WPWZaktYecdyTuh8ZMQ=s64",
      "userId": "06963422152123978380"
     },
     "user_tz": -330
    },
    "id": "FMjNGa1YdgK0",
    "outputId": "87e0edfd-dc4b-47b3-d6c3-d8139fe923b4"
   },
   "outputs": [
    {
     "name": "stderr",
     "output_type": "stream",
     "text": [
      "166it [01:12,  3.43it/s]\n"
     ]
    }
   ],
   "source": [
    "submission=pd.read_csv('recognizing-faces-in-the-wild/sample_submission.csv',header=0)\n",
    "test_path='test/'\n",
    "\n",
    "def test_batch(test_pairs,size=32):\n",
    "  return (test_pairs[pos:pos+size] for pos in range(0,len(test_pairs),size))\n",
    "\n",
    "predictions=[]\n",
    "for batch in tqdm(test_batch(submission.img_pair.values)):\n",
    "    X1 = [x.split(\"-\")[0] for x in batch]\n",
    "    X1 = np.array([img2arr(test_path + x) for x in X1])\n",
    "\n",
    "    X2 = [x.split(\"-\")[1] for x in batch]\n",
    "    X2 = np.array([img2arr(test_path + x) for x in X2])\n",
    "\n",
    "    pred = model3.predict([X1, X2]).ravel().tolist()\n",
    "    predictions += pred\n",
    "\n",
    "submission['is_related'] = predictions"
   ]
  },
  {
   "cell_type": "code",
   "execution_count": 0,
   "metadata": {
    "colab": {},
    "colab_type": "code",
    "id": "qBpPH-xbODWo"
   },
   "outputs": [],
   "source": [
    "submission.to_csv('df.csv',index=False)\n",
    "submission"
   ]
  },
  {
   "cell_type": "code",
   "execution_count": 0,
   "metadata": {
    "colab": {},
    "colab_type": "code",
    "id": "y-GpwXptfBnu"
   },
   "outputs": [],
   "source": [
    "from google.colab import files\n",
    "\n",
    "files.download('my_model_3.hdf5')"
   ]
  },
  {
   "cell_type": "code",
   "execution_count": 0,
   "metadata": {
    "colab": {},
    "colab_type": "code",
    "id": "yly-k1XH2tP5"
   },
   "outputs": [],
   "source": []
  }
 ],
 "metadata": {
  "accelerator": "GPU",
  "colab": {
   "collapsed_sections": [],
   "machine_shape": "hm",
   "name": "Copy of Copy of Copy of Untitled12.ipynb",
   "provenance": [
    {
     "file_id": "1p2ri6fuJMoKkA3Fgf4Bdl6_MsG6RDOmd",
     "timestamp": 1578843742984
    },
    {
     "file_id": "13HaJ01NUWsFUrNaNR6DnSPWn46q316EF",
     "timestamp": 1578646455217
    },
    {
     "file_id": "1MGDhqHizKAvy8ic7k1N9DLFc4dY3nzSd",
     "timestamp": 1578482152822
    }
   ]
  },
  "kernelspec": {
   "display_name": "Python 3",
   "language": "python",
   "name": "python3"
  },
  "language_info": {
   "codemirror_mode": {
    "name": "ipython",
    "version": 3
   },
   "file_extension": ".py",
   "mimetype": "text/x-python",
   "name": "python",
   "nbconvert_exporter": "python",
   "pygments_lexer": "ipython3",
   "version": "3.6.5"
  }
 },
 "nbformat": 4,
 "nbformat_minor": 1
}
